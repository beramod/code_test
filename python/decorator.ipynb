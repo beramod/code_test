{
 "cells": [
  {
   "cell_type": "code",
   "execution_count": 38,
   "metadata": {},
   "outputs": [
    {
     "name": "stdout",
     "output_type": "stream",
     "text": [
      "Elapsed time[wrapper]: 0.0\n",
      "4\n"
     ]
    }
   ],
   "source": [
    "def elapsed_time(func):\n",
    "    import time\n",
    "    def wrapper(*args, **kwargs):\n",
    "        t = time.time()\n",
    "        res = func(*args, **kwargs)\n",
    "        print(f'Elapsed time[{func.__name__}]: {time.time() - t}')\n",
    "        return res\n",
    "    return wrapper\n",
    "\n",
    "def plus_test(func):\n",
    "    def wrapper(a, b):\n",
    "        if 4 != func(1, 3):\n",
    "            raise Exception(f'func.__name__ test failed: {1} + {3} = {func(1, 3)}')\n",
    "        return func(a, b) \n",
    "    return wrapper\n",
    "\n",
    "@elapsed_time\n",
    "@plus_test\n",
    "def plus(a, b):\n",
    "    return a + b\n",
    "\n",
    "print(plus(1, 3))"
   ]
  }
 ],
 "metadata": {
  "interpreter": {
   "hash": "f9ccdf3afa3dc3e101816fbeb38d5182e8e63e68ddc1acefd7abf85a12f12e7d"
  },
  "kernelspec": {
   "display_name": "Python 3.9.7 64-bit",
   "language": "python",
   "name": "python3"
  },
  "language_info": {
   "codemirror_mode": {
    "name": "ipython",
    "version": 3
   },
   "file_extension": ".py",
   "mimetype": "text/x-python",
   "name": "python",
   "nbconvert_exporter": "python",
   "pygments_lexer": "ipython3",
   "version": "3.9.7"
  },
  "orig_nbformat": 4
 },
 "nbformat": 4,
 "nbformat_minor": 2
}
