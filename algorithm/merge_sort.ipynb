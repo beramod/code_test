{
 "cells": [
  {
   "cell_type": "code",
   "execution_count": 1,
   "metadata": {},
   "outputs": [
    {
     "name": "stdout",
     "output_type": "stream",
     "text": [
      "[3, 3, 5, 6, 7]\n"
     ]
    }
   ],
   "source": [
    "def merge_sort(arr):\n",
    "    def sort(left, right):\n",
    "        if right - left < 2:\n",
    "            return\n",
    "        mid = (left + right) // 2\n",
    "        sort(left, mid)\n",
    "        sort(mid, right)\n",
    "        merge(left, mid, right)\n",
    "\n",
    "    def merge(left, mid, right):\n",
    "        temp = []\n",
    "        l, r = left, mid\n",
    "\n",
    "        while l < mid and r < right:\n",
    "            if arr[l] < arr[r]:\n",
    "                temp.append(arr[l])\n",
    "                l += 1\n",
    "            else:\n",
    "                temp.append(arr[r])\n",
    "                r += 1\n",
    "        \n",
    "        while l < mid:\n",
    "            temp.append(arr[l])\n",
    "            l += 1\n",
    "        \n",
    "        while r < right:\n",
    "            temp.append(arr[r])\n",
    "            r += 1\n",
    "\n",
    "        for i in range(left, right):\n",
    "            arr[i] = temp[i - left]\n",
    "\n",
    "    return sort(0, len(arr))\n",
    "\n",
    "data = [4, 5, 1, 6, 4, 3, 7, 8]\n",
    "merge_sort(data)\n",
    "print(data)"
   ]
  }
 ],
 "metadata": {
  "interpreter": {
   "hash": "aee8b7b246df8f9039afb4144a1f6fd8d2ca17a180786b69acc140d282b71a49"
  },
  "kernelspec": {
   "display_name": "Python 3.9.1 64-bit",
   "language": "python",
   "name": "python3"
  },
  "language_info": {
   "codemirror_mode": {
    "name": "ipython",
    "version": 3
   },
   "file_extension": ".py",
   "mimetype": "text/x-python",
   "name": "python",
   "nbconvert_exporter": "python",
   "pygments_lexer": "ipython3",
   "version": "3.9.1"
  },
  "orig_nbformat": 4
 },
 "nbformat": 4,
 "nbformat_minor": 2
}
