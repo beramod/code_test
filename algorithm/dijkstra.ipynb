{
 "cells": [
  {
   "cell_type": "code",
   "execution_count": 8,
   "metadata": {},
   "outputs": [
    {
     "name": "stdout",
     "output_type": "stream",
     "text": [
      "{1: 0, 2: 6, 3: 1, 4: 2, 5: 5, 6: 6}\n"
     ]
    }
   ],
   "source": [
    "import heapq\n",
    "\n",
    "class Dijkstra:\n",
    "    def search(self, graph, start):\n",
    "        visit = {start: 0}\n",
    "        queue = []\n",
    "        heapq.heappush(queue, (0, start))\n",
    "        \n",
    "        while queue:\n",
    "            dis, node = heapq.heappop(queue)\n",
    "            \n",
    "            if visit.get(node) != None and (visit.get(node) < dis):\n",
    "                continue\n",
    "            \n",
    "            for new_node, new_dis in graph.get(node).items():\n",
    "                if visit.get(new_node) == None or (visit.get(new_node) > new_dis + dis):\n",
    "                    visit[new_node] = new_dis + dis\n",
    "                    heapq.heappush(queue, (new_dis + dis, new_node))\n",
    "        return visit\n",
    "\n",
    "graph_weight = {\n",
    "    1: {2: 8, 3: 1, 4: 2},\n",
    "    2: {},\n",
    "    3: {2: 5, 4: 2},\n",
    "    4: {5: 3, 6: 5},\n",
    "    5: {6: 1},\n",
    "    6: {1: 5}\n",
    "}\n",
    "\n",
    "search = Dijkstra()\n",
    "print(search.search(graph_weight, 1))"
   ]
  }
 ],
 "metadata": {
  "interpreter": {
   "hash": "f9ccdf3afa3dc3e101816fbeb38d5182e8e63e68ddc1acefd7abf85a12f12e7d"
  },
  "kernelspec": {
   "display_name": "Python 3.9.7 64-bit",
   "language": "python",
   "name": "python3"
  },
  "language_info": {
   "codemirror_mode": {
    "name": "ipython",
    "version": 3
   },
   "file_extension": ".py",
   "mimetype": "text/x-python",
   "name": "python",
   "nbconvert_exporter": "python",
   "pygments_lexer": "ipython3",
   "version": "3.9.7"
  },
  "orig_nbformat": 4
 },
 "nbformat": 4,
 "nbformat_minor": 2
}
