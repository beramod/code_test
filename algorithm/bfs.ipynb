{
 "cells": [
  {
   "cell_type": "markdown",
   "metadata": {},
   "source": [
    "* queue 이용. 없이도 가능"
   ]
  },
  {
   "cell_type": "code",
   "execution_count": 1,
   "metadata": {},
   "outputs": [
    {
     "name": "stdout",
     "output_type": "stream",
     "text": [
      "[1, 2, 3, 8, 7, 4, 5, 6]\n"
     ]
    }
   ],
   "source": [
    "from collections import deque\n",
    "\n",
    "graph = [\n",
    "    [],\n",
    "    [2, 3, 8],\n",
    "    [1, 7],\n",
    "    [1, 4, 5],\n",
    "    [3, 5],\n",
    "    [3, 4],\n",
    "    [7],\n",
    "    [2, 6, 8],\n",
    "    [1, 7]\n",
    "]\n",
    "\n",
    "def bfs(graph, start):\n",
    "    que = deque([start])\n",
    "    visited = [] * len(graph)\n",
    "    \n",
    "    while que:\n",
    "        n = que.popleft()\n",
    "        if n not in visited:\n",
    "            visited.append(n)\n",
    "            for m in graph[n]:\n",
    "                que.append(m)\n",
    "    return visited\n",
    "\n",
    "print(bfs(graph, 1))"
   ]
  }
 ],
 "metadata": {
  "interpreter": {
   "hash": "f9ccdf3afa3dc3e101816fbeb38d5182e8e63e68ddc1acefd7abf85a12f12e7d"
  },
  "kernelspec": {
   "display_name": "Python 3.9.7 64-bit",
   "language": "python",
   "name": "python3"
  },
  "language_info": {
   "codemirror_mode": {
    "name": "ipython",
    "version": 3
   },
   "file_extension": ".py",
   "mimetype": "text/x-python",
   "name": "python",
   "nbconvert_exporter": "python",
   "pygments_lexer": "ipython3",
   "version": "3.9.7"
  },
  "orig_nbformat": 4
 },
 "nbformat": 4,
 "nbformat_minor": 2
}
