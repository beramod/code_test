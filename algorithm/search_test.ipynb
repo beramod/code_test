{
 "cells": [
  {
   "cell_type": "code",
   "execution_count": 12,
   "metadata": {},
   "outputs": [
    {
     "name": "stdout",
     "output_type": "stream",
     "text": [
      "{1: 11, 2: 6, 3: 1, 4: 2, 5: 5, 6: 6}\n"
     ]
    }
   ],
   "source": [
    "import sys\n",
    "path = sys.path[0]\n",
    "path = path[:path.index('code_test') + 9]\n",
    "if path not in sys.path:\n",
    "    sys.path.append(path)\n",
    "from algorithm.search.dijkstra import Dijkstra\n",
    "from algorithm.search.dfs import DFS\n",
    "from algorithm.search.bfs import BFS\n",
    "\n",
    "graph_weight = {\n",
    "    1: {2: 8, 3: 1, 4: 2},\n",
    "    2: {},\n",
    "    3: {2: 5, 4: 2},\n",
    "    4: {5: 3, 6: 5},\n",
    "    5: {6: 1},\n",
    "    6: {1: 5}\n",
    "}\n",
    "\n",
    "graph = [\n",
    "    [],\n",
    "    [2, 3, 8],\n",
    "    [1, 7],\n",
    "    [1, 4, 5],\n",
    "    [3, 5],\n",
    "    [3, 4],\n",
    "    [7],\n",
    "    [2, 6, 8],\n",
    "    [1, 7]\n",
    "]\n",
    "\n",
    "\n",
    "search = Dijkstra()\n",
    "# print(search.search(graph, 1))\n",
    "print(search.search(graph_weight, 1))"
   ]
  }
 ],
 "metadata": {
  "interpreter": {
   "hash": "f9ccdf3afa3dc3e101816fbeb38d5182e8e63e68ddc1acefd7abf85a12f12e7d"
  },
  "kernelspec": {
   "display_name": "Python 3.9.7 64-bit",
   "language": "python",
   "name": "python3"
  },
  "language_info": {
   "codemirror_mode": {
    "name": "ipython",
    "version": 3
   },
   "file_extension": ".py",
   "mimetype": "text/x-python",
   "name": "python",
   "nbconvert_exporter": "python",
   "pygments_lexer": "ipython3",
   "version": "3.9.7"
  },
  "orig_nbformat": 4
 },
 "nbformat": 4,
 "nbformat_minor": 2
}
