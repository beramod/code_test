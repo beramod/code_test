{
 "cells": [
  {
   "cell_type": "markdown",
   "metadata": {},
   "source": [
    "* https://www.hackerrank.com/challenges/maximize-it/problem?isFullScreen=true\n",
    "\n",
    "### 조건\n",
    "* K, M을 입력\n",
    "* K는 정수배열의 수\n",
    "* K, M을 입력받은 후 정수 배열을 K번 입력 받는다.\n",
    "* f(X) = X**2\n",
    "* S = (f(X1) + f(X2) + ... + f(Xk)) % M\n",
    "* X는 위에서 입력받은 정수배열에서 하나씩 뽑은 값\n",
    "* 정수 배열에서 값을 하나씩 선택하여 S가 최대가 되는 값을 찾아라\n",
    "\n",
    "### 풀이\n",
    "* 완전탐색"
   ]
  },
  {
   "cell_type": "code",
   "execution_count": 17,
   "metadata": {},
   "outputs": [
    {
     "name": "stdout",
     "output_type": "stream",
     "text": [
      "[Case 1] Answer: 206, Correct: 206, Solved: True\n",
      "[Result] Solved: 1, Failed: 0\n"
     ]
    }
   ],
   "source": [
    "from itertools import *\n",
    "\n",
    "def solution(K, M):\n",
    "    # K, M = map(int, input().split())\n",
    "    # lists = []\n",
    "    lists = [[2, 5, 4], [3, 7, 8, 9], [5, 5, 7, 8, 9, 10]]\n",
    "    MAX = -1\n",
    "    \n",
    "    # for i in range(K):\n",
    "    #     lists.append(list(map(lambda el: int(el), input().split()))[1:])\n",
    "    for each in product(*lists):\n",
    "        MAX = max(sum(map(lambda el: el**2, each)) % M, MAX)\n",
    "    return MAX\n",
    "    \n",
    "import sys\n",
    "path = sys.path[0]\n",
    "path = path[:path.index('code_test') + 9]\n",
    "if path not in sys.path:\n",
    "    sys.path.append(path)\n",
    "from util.code_test_util import CodeTestUtil\n",
    "code_test_util = CodeTestUtil()\n",
    "code_test_util.set_multi_args(True)\n",
    "code_test_util.solution = solution\n",
    "code_test_util.add_data_case([3, 1000], 206)\n",
    "code_test_util.run()"
   ]
  }
 ],
 "metadata": {
  "interpreter": {
   "hash": "f9ccdf3afa3dc3e101816fbeb38d5182e8e63e68ddc1acefd7abf85a12f12e7d"
  },
  "kernelspec": {
   "display_name": "Python 3.9.7 64-bit",
   "language": "python",
   "name": "python3"
  },
  "language_info": {
   "codemirror_mode": {
    "name": "ipython",
    "version": 3
   },
   "file_extension": ".py",
   "mimetype": "text/x-python",
   "name": "python",
   "nbconvert_exporter": "python",
   "pygments_lexer": "ipython3",
   "version": "3.9.7"
  },
  "orig_nbformat": 4
 },
 "nbformat": 4,
 "nbformat_minor": 2
}
