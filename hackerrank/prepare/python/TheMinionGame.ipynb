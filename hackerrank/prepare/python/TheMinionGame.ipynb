{
 "cells": [
  {
   "cell_type": "markdown",
   "metadata": {},
   "source": [
    "* https://www.hackerrank.com/challenges/the-minion-game/problem?isFullScreen=true\n",
    "\n",
    "### 조건\n",
    "* 10**6 이하 길이의 문자열이 주어진다.\n",
    "* stuart는 자음, kevin은 모음으로 시작하는 문자열을 만들 수 있다.\n",
    "* 주어진 문자열에서 위 기준으로 substring을 더 많이 만들 수 있는 사람의 이름과 그 수를 반환하라\n",
    "* 같다면 draw\n",
    "\n",
    "### 풀이\n",
    "* string의 길이에서 자음, 모음의 시작 위치를 빼면 만들 수 있는 substring의 수가 나온다.\n",
    "* 순회하며 위 값들은 더한다."
   ]
  },
  {
   "cell_type": "code",
   "execution_count": 2,
   "metadata": {},
   "outputs": [
    {
     "name": "stdout",
     "output_type": "stream",
     "text": [
      "Stuart 12\n",
      "[Case 1] Answer: None, Correct: ['Stuart', 12], Solved: False\n",
      "[Result] Solved: 0, Failed: 1\n"
     ]
    }
   ],
   "source": [
    "def solution(string):\n",
    "    str_len = len(string)\n",
    "    vowels = 'aeiouAEIOU'\n",
    "    stuart_score = 0\n",
    "    kevin_score = 0\n",
    "\n",
    "    for i in range(str_len):\n",
    "        if string[i] in vowels:\n",
    "            kevin_score += str_len - i\n",
    "        else:\n",
    "            stuart_score += str_len - i\n",
    "\n",
    "    if stuart_score > kevin_score:\n",
    "        print(\"Stuart\", stuart_score)\n",
    "    elif stuart_score < kevin_score:\n",
    "        print(\"Kevin\", kevin_score)\n",
    "    else:\n",
    "        print(\"Draw\")\n",
    "    \n",
    "import sys\n",
    "path = sys.path[0]\n",
    "path = path[:path.index('code_test') + 9]\n",
    "if path not in sys.path:\n",
    "    sys.path.append(path)\n",
    "from util.code_test_util import CodeTestUtil\n",
    "code_test_util = CodeTestUtil()\n",
    "code_test_util.set_multi_args(False)\n",
    "code_test_util.solution = solution\n",
    "code_test_util.add_data_case(\"BANANA\", [\"Stuart\", 12])\n",
    "code_test_util.run()"
   ]
  }
 ],
 "metadata": {
  "interpreter": {
   "hash": "f9ccdf3afa3dc3e101816fbeb38d5182e8e63e68ddc1acefd7abf85a12f12e7d"
  },
  "kernelspec": {
   "display_name": "Python 3.9.7 64-bit",
   "language": "python",
   "name": "python3"
  },
  "language_info": {
   "codemirror_mode": {
    "name": "ipython",
    "version": 3
   },
   "file_extension": ".py",
   "mimetype": "text/x-python",
   "name": "python",
   "nbconvert_exporter": "python",
   "pygments_lexer": "ipython3",
   "version": "3.9.7"
  },
  "orig_nbformat": 4
 },
 "nbformat": 4,
 "nbformat_minor": 2
}
