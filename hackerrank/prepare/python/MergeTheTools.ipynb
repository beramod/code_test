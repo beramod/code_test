{
 "cells": [
  {
   "cell_type": "markdown",
   "metadata": {},
   "source": [
    "* https://www.hackerrank.com/challenges/merge-the-tools/problem?isFullScreen=true\n",
    "\n",
    "\n",
    "### 조건\n",
    "* string k와 정수 k가 주어짐\n",
    "* string s의 길이는 n, k는 n의 인수\n",
    "* 문자열 t는 문자열 s의 k개 문자로 구성된 substrings\n",
    "* 부분문자열의 중복되는 문자를 제거한 각 부분문자열을 출력하라\n",
    "\n",
    "### 풀이"
   ]
  },
  {
   "cell_type": "code",
   "execution_count": 13,
   "metadata": {},
   "outputs": [
    {
     "name": "stdout",
     "output_type": "stream",
     "text": [
      "[Case 1] Answer: ['AB', 'CA', 'AD'], Correct: ['AB', 'CA', 'AD'], Solved: True\n",
      "[Case 2] Answer: ['A', 'BCA', 'DE'], Correct: ['A', 'BCA', 'DE'], Solved: True\n",
      "[Result] Solved: 2, Failed: 0\n"
     ]
    }
   ],
   "source": [
    "def solution(s, k):\n",
    "    ascii_list = list(map(lambda el: ord(el), list(s)))\n",
    "    results = []\n",
    "    for i in range(round(len(s) / k)):\n",
    "        results.append(''.join(list(map(lambda el: chr(el), dict.fromkeys(ascii_list[(i * k) : (i * k) + k])))))\n",
    "    return results\n",
    "    \n",
    "import sys\n",
    "path = sys.path[0]\n",
    "path = path[:path.index('code_test') + 9]\n",
    "if path not in sys.path:\n",
    "    sys.path.append(path)\n",
    "from util.code_test_util import CodeTestUtil\n",
    "code_test_util = CodeTestUtil()\n",
    "code_test_util.set_multi_args(True)\n",
    "code_test_util.solution = solution\n",
    "code_test_util.add_data_case([\"AABCAAADA\", 3], ['AB', 'CA', 'AD'])\n",
    "code_test_util.add_data_case([\"AAABCADDE\", 3], ['A', 'BCA', 'DE'])\n",
    "code_test_util.run()"
   ]
  }
 ],
 "metadata": {
  "interpreter": {
   "hash": "f9ccdf3afa3dc3e101816fbeb38d5182e8e63e68ddc1acefd7abf85a12f12e7d"
  },
  "kernelspec": {
   "display_name": "Python 3.9.7 64-bit",
   "language": "python",
   "name": "python3"
  },
  "language_info": {
   "codemirror_mode": {
    "name": "ipython",
    "version": 3
   },
   "file_extension": ".py",
   "mimetype": "text/x-python",
   "name": "python",
   "nbconvert_exporter": "python",
   "pygments_lexer": "ipython3",
   "version": "3.9.7"
  },
  "orig_nbformat": 4
 },
 "nbformat": 4,
 "nbformat_minor": 2
}
