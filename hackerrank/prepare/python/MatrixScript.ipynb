{
 "cells": [
  {
   "cell_type": "markdown",
   "metadata": {},
   "source": [
    "* https://www.hackerrank.com/challenges/matrix-script/problem?isFullScreen=true\n",
    "\n",
    "### 조건\n",
    "* N x M의 행렬 문자열이 주어진다.\n",
    "* 문자열은 영문자, 숫자, 공백과 특수기호(!, @, #, $, %, &)로 이루어짐\n",
    "* 스크립트를 디코딩 하려면 각 열을 읽고 영숫자 문자만 선택한 후 연결해야 함\n",
    "* 두 영숫자 사이에 기호 또는 공백이 있으면 그것들을 공백으로 변환한다.\n",
    "* if를 쓰지마라\n",
    "\n",
    "### 풀이"
   ]
  },
  {
   "cell_type": "code",
   "execution_count": 24,
   "metadata": {},
   "outputs": [
    {
     "name": "stdout",
     "output_type": "stream",
     "text": [
      "[Case 1] Answer: This is Matrix#  %!, Correct: This is Matrix#  %!, Solved: True\n",
      "[Result] Solved: 1, Failed: 0\n"
     ]
    }
   ],
   "source": [
    "import re\n",
    "\n",
    "def solution(n, m, matrix):\n",
    "    result = ''\n",
    "    for j in range(m):\n",
    "        for i in range(n):\n",
    "            result += matrix[i][j]\n",
    "    result = re.sub('[^\\w]+(?=\\w)', ' ', result)\n",
    "    return result\n",
    "    \n",
    "import sys\n",
    "path = sys.path[0]\n",
    "path = path[:path.index('code_test') + 9]\n",
    "if path not in sys.path:\n",
    "    sys.path.append(path)\n",
    "from util.code_test_util import CodeTestUtil\n",
    "code_test_util = CodeTestUtil()\n",
    "code_test_util.set_multi_args(True)\n",
    "code_test_util.solution = solution\n",
    "code_test_util.add_data_case([7, 3, [\n",
    "    'Tsi',\n",
    "    'h%x',\n",
    "    'i #',\n",
    "    'sM ',\n",
    "    '$a ',\n",
    "    '#t%',\n",
    "    'ir!',]], 'This is Matrix#  %!')\n",
    "code_test_util.run()"
   ]
  }
 ],
 "metadata": {
  "interpreter": {
   "hash": "f9ccdf3afa3dc3e101816fbeb38d5182e8e63e68ddc1acefd7abf85a12f12e7d"
  },
  "kernelspec": {
   "display_name": "Python 3.9.7 64-bit",
   "language": "python",
   "name": "python3"
  },
  "language_info": {
   "codemirror_mode": {
    "name": "ipython",
    "version": 3
   },
   "file_extension": ".py",
   "mimetype": "text/x-python",
   "name": "python",
   "nbconvert_exporter": "python",
   "pygments_lexer": "ipython3",
   "version": "3.9.7"
  },
  "orig_nbformat": 4
 },
 "nbformat": 4,
 "nbformat_minor": 2
}
