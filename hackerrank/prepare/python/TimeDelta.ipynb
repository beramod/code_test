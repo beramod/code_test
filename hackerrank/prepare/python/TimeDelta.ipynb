{
 "cells": [
  {
   "cell_type": "markdown",
   "metadata": {},
   "source": [
    "* https://www.hackerrank.com/challenges/python-time-delta/problem?isFullScreen=true\n",
    "\n",
    "### 조건\n",
    "* t1, t2가 주어진다.\n",
    "* 두 시간의 절대차이를 구하라\n",
    "\n",
    "### 풀이"
   ]
  },
  {
   "cell_type": "code",
   "execution_count": 14,
   "metadata": {},
   "outputs": [
    {
     "name": "stdout",
     "output_type": "stream",
     "text": [
      "[Case 1] Answer: 25200, Correct: 25200, Solved: True\n",
      "[Case 2] Answer: 88200, Correct: 88200, Solved: True\n",
      "[Result] Solved: 2, Failed: 0\n"
     ]
    }
   ],
   "source": [
    "from datetime import *\n",
    "\n",
    "def solution(t1, t2):\n",
    "    diff = datetime.strptime(t1, '%a %d %b %Y %H:%M:%S %z') - datetime.strptime(t2, '%a %d %b %Y %H:%M:%S %z')\n",
    "    return abs(int(diff.total_seconds()))\n",
    "        \n",
    "import sys\n",
    "path = sys.path[0]\n",
    "path = path[:path.index('code_test') + 9]\n",
    "if path not in sys.path:\n",
    "    sys.path.append(path)\n",
    "from util.code_test_util import CodeTestUtil\n",
    "code_test_util = CodeTestUtil()\n",
    "code_test_util.set_multi_args(True)\n",
    "code_test_util.solution = solution\n",
    "code_test_util.add_data_case(['Sun 10 May 2015 13:54:36 -0700', 'Sun 10 May 2015 13:54:36 -0000'], 25200)\n",
    "code_test_util.add_data_case(['Sat 02 May 2015 19:54:36 +0530', 'Fri 01 May 2015 13:54:36 -0000'], 88200)\n",
    "code_test_util.run()"
   ]
  }
 ],
 "metadata": {
  "interpreter": {
   "hash": "f9ccdf3afa3dc3e101816fbeb38d5182e8e63e68ddc1acefd7abf85a12f12e7d"
  },
  "kernelspec": {
   "display_name": "Python 3.9.7 64-bit",
   "language": "python",
   "name": "python3"
  },
  "language_info": {
   "codemirror_mode": {
    "name": "ipython",
    "version": 3
   },
   "file_extension": ".py",
   "mimetype": "text/x-python",
   "name": "python",
   "nbconvert_exporter": "python",
   "pygments_lexer": "ipython3",
   "version": "3.9.7"
  },
  "orig_nbformat": 4
 },
 "nbformat": 4,
 "nbformat_minor": 2
}
