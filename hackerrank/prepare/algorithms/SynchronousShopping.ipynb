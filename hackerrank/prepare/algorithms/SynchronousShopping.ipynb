{
 "cells": [
  {
   "cell_type": "markdown",
   "metadata": {},
   "source": [
    "* https://www.hackerrank.com/challenges/synchronous-shopping/problem?isFullScreen=true\n",
    "\n",
    "### 조건\n",
    "\n",
    "\n",
    "### 풀이"
   ]
  },
  {
   "cell_type": "code",
   "execution_count": null,
   "metadata": {},
   "outputs": [],
   "source": [
    "from collections import defaultdict\n",
    "\n",
    "def solution(n, k, centers, roads):\n",
    "    pass    \n",
    "    \n",
    "import sys\n",
    "path = sys.path[0]\n",
    "path = path[:path.index('code_test') + 9]\n",
    "if path not in sys.path:\n",
    "    sys.path.append(path)\n",
    "from util.code_test_util import CodeTestUtil\n",
    "code_test_util = CodeTestUtil()\n",
    "code_test_util.set_multi_args(True)\n",
    "code_test_util.solution = solution\n",
    "code_test_util.add_data_case([3, [1, 7, 2, 4]], 3)\n",
    "code_test_util.run()"
   ]
  }
 ],
 "metadata": {
  "language_info": {
   "name": "python"
  },
  "orig_nbformat": 4
 },
 "nbformat": 4,
 "nbformat_minor": 2
}
