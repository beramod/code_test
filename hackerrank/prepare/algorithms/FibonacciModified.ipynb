{
 "cells": [
  {
   "cell_type": "markdown",
   "metadata": {},
   "source": [
    "* https://www.hackerrank.com/challenges/fibonacci-modified/problem?isFullScreen=true\n",
    "\n",
    "### 문제\n",
    "* 수정된 피보나치 구현\n",
    "* t[i + 2] = (t[i] + t[i + 1]) ** 2\n",
    "    * t1 = 0, t2 = 1, n = 6\n",
    "    * t3 = 0 + 1**2 = 1\n",
    "    * t4 = 1 + 1**2 = 2\n",
    "    * t5 = 1 + 2**2 = 5\n",
    "    * t6 = 2 + 5**2 = 27\n",
    "* 0 <= t1, t2 <= 2\n",
    "* 3 <= n <= 20\n",
    "\n",
    "\n",
    "### 풀이\n",
    "* "
   ]
  },
  {
   "cell_type": "code",
   "execution_count": 2,
   "metadata": {},
   "outputs": [
    {
     "name": "stdout",
     "output_type": "stream",
     "text": [
      "[Case 1] Answer: 5, Correct: 5, Solved: True\n",
      "[Result] Solved: 1, Failed: 0\n"
     ]
    }
   ],
   "source": [
    "def modified_fibonacci(t1, t2, n):\n",
    "    mem = {}\n",
    "    def fibonacci(i):\n",
    "        if i == 1:\n",
    "            return t1\n",
    "        elif i == 2:\n",
    "            return t2\n",
    "        if not mem.get(i):\n",
    "            mem[i] = fibonacci(i - 2) + (fibonacci(i - 1) ** 2)\n",
    "        return mem.get(i)\n",
    "    return fibonacci(n)\n",
    "\n",
    "def solution(t1, t2, n):\n",
    "    return modified_fibonacci(t1, t2, n)\n",
    "\n",
    "import sys\n",
    "path = sys.path[0]\n",
    "path = path[:path.index('code_test') + 9]\n",
    "if path not in sys.path:\n",
    "    sys.path.append(path)\n",
    "from util.code_test_util import CodeTestUtil\n",
    "code_test_util = CodeTestUtil()\n",
    "code_test_util.set_multi_args(True)\n",
    "code_test_util.solution = solution\n",
    "code_test_util.add_data_case([0, 1, 5], 5)\n",
    "code_test_util.run()"
   ]
  }
 ],
 "metadata": {
  "interpreter": {
   "hash": "f9ccdf3afa3dc3e101816fbeb38d5182e8e63e68ddc1acefd7abf85a12f12e7d"
  },
  "kernelspec": {
   "display_name": "Python 3.9.7 64-bit",
   "language": "python",
   "name": "python3"
  },
  "language_info": {
   "codemirror_mode": {
    "name": "ipython",
    "version": 3
   },
   "file_extension": ".py",
   "mimetype": "text/x-python",
   "name": "python",
   "nbconvert_exporter": "python",
   "pygments_lexer": "ipython3",
   "version": "3.9.7"
  },
  "orig_nbformat": 4
 },
 "nbformat": 4,
 "nbformat_minor": 2
}
