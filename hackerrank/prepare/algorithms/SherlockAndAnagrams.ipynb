{
 "cells": [
  {
   "cell_type": "markdown",
   "metadata": {},
   "source": [
    "* https://www.hackerrank.com/challenges/sherlock-and-anagrams/problem?isFullScreen=true\n",
    "\n",
    "### 문제\n",
    "* anagram이 성립하는 substring의 수를 반환\n",
    "\n",
    "### 풀이\n"
   ]
  },
  {
   "cell_type": "code",
   "execution_count": 51,
   "metadata": {},
   "outputs": [
    {
     "name": "stdout",
     "output_type": "stream",
     "text": [
      "[Case 1] Answer: 4, Correct: 4, Solved: True\n",
      "[Case 2] Answer: 0, Correct: 0, Solved: True\n",
      "[Case 3] Answer: 3, Correct: 3, Solved: True\n",
      "[Case 4] Answer: 10, Correct: 10, Solved: True\n",
      "[Case 5] Answer: 5, Correct: 5, Solved: True\n",
      "[Case 6] Answer: 166650, Correct: 166650, Solved: True\n",
      "[Result] Solved: 6, Failed: 0\n"
     ]
    }
   ],
   "source": [
    "def solution(s):\n",
    "    n = len(s)\n",
    "    result = 0\n",
    "    \n",
    "    for substr_len in range(1, n):\n",
    "        for i in range(n - substr_len + 1):\n",
    "            substr = s[i:i + substr_len]\n",
    "            for j in range(i + 1, n - substr_len + 1):\n",
    "                if sorted(substr) == sorted(s[j: j + substr_len]):\n",
    "                    result += 1\n",
    "    return result\n",
    "\n",
    "import sys\n",
    "path = sys.path[0]\n",
    "path = path[:path.index('code_test') + 9]\n",
    "if path not in sys.path:\n",
    "    sys.path.append(path)\n",
    "from util.code_test_util import CodeTestUtil\n",
    "code_test_util = CodeTestUtil()\n",
    "code_test_util.set_multi_args(False)\n",
    "code_test_util.solution = solution\n",
    "code_test_util.add_data_case('abba', 4)\n",
    "code_test_util.add_data_case('abcd', 0)\n",
    "code_test_util.add_data_case('ifailuhkqq', 3)\n",
    "code_test_util.add_data_case('kkkk', 10)\n",
    "code_test_util.add_data_case('cdcd', 5)\n",
    "code_test_util.add_data_case('aaaaaaaaaaaaaaaaaaaaaaaaaaaaaaaaaaaaaaaaaaaaaaaaaaaaaaaaaaaaaaaaaaaaaaaaaaaaaaaaaaaaaaaaaaaaaaaaaaaa', 166650)\n",
    "code_test_util.run()"
   ]
  }
 ],
 "metadata": {
  "interpreter": {
   "hash": "f9ccdf3afa3dc3e101816fbeb38d5182e8e63e68ddc1acefd7abf85a12f12e7d"
  },
  "kernelspec": {
   "display_name": "Python 3.9.7 64-bit",
   "language": "python",
   "name": "python3"
  },
  "language_info": {
   "codemirror_mode": {
    "name": "ipython",
    "version": 3
   },
   "file_extension": ".py",
   "mimetype": "text/x-python",
   "name": "python",
   "nbconvert_exporter": "python",
   "pygments_lexer": "ipython3",
   "version": "3.9.7"
  },
  "orig_nbformat": 4
 },
 "nbformat": 4,
 "nbformat_minor": 2
}
