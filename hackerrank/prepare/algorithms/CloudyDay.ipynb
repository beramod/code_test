{
 "cells": [
  {
   "cell_type": "markdown",
   "metadata": {},
   "source": [
    "* https://www.hackerrank.com/challenges/cloudy-day/problem?isFullScreen=true\n",
    "\n",
    "### 문제\n",
    "* arr p, x, y, r\n",
    "    * p: 도시벌 사람 수\n",
    "    * x: 도시 위치\n",
    "    * y: 구름 위치\n",
    "    * r: 구름 범위\n",
    "        * y - r ~ y + r\n",
    "* 구름을 딱 하나 제거할 수 있을때, 가장 많은 사람이 맑은 하늘 아래 있을 수 있게 하도록...\n",
    "* 그 때 맑은 날씨의 도시에 있는 사람들의 합을 반환\n",
    "\n",
    "### 풀이"
   ]
  },
  {
   "cell_type": "code",
   "execution_count": 45,
   "metadata": {},
   "outputs": [
    {
     "name": "stdout",
     "output_type": "stream",
     "text": [
      "[Case 1] Answer: 0, Correct: 0, Solved: True\n",
      "[Result] Solved: 1, Failed: 0\n"
     ]
    }
   ],
   "source": [
    "from collections import defaultdict\n",
    "def solution(p, x, y, r):\n",
    "    result = 0\n",
    "    cloud_cnt = len(y)\n",
    "    town_dict = defaultdict(int)\n",
    "    town_cloud_dict = defaultdict(set)\n",
    "    \n",
    "    for i in range(len(x)):\n",
    "        town_dict[x[i]] += p[i]\n",
    "        for j in range(cloud_cnt):\n",
    "            if y[j] - r[j] <= x[i] <= y[j] + r[j]:\n",
    "                town_cloud_dict[x[i]].add(j)\n",
    "        if not town_cloud_dict.get(x[i]):\n",
    "            result += p[i]\n",
    "    \n",
    "    delete_cloud_dict = defaultdict(int)\n",
    "    \n",
    "    for pos in town_cloud_dict:\n",
    "        if len(town_cloud_dict.get(pos)) == 1:\n",
    "            delete_cloud_dict[y[town_cloud_dict.get(pos).pop()]] += town_dict.get(pos)\n",
    "    if delete_cloud_dict:\n",
    "        result += max(delete_cloud_dict.values())\n",
    "        \n",
    "    return result\n",
    "\n",
    "import sys\n",
    "path = sys.path[0]\n",
    "path = path[:path.index('code_test') + 9]\n",
    "if path not in sys.path:\n",
    "    sys.path.append(path)\n",
    "from util.code_test_util import CodeTestUtil\n",
    "code_test_util = CodeTestUtil()\n",
    "code_test_util.set_multi_args(True)\n",
    "code_test_util.solution = solution\n",
    "code_test_util.add_data_case([[10, 1, 8, 3], [4, 5, 7, 2], [3, 9, 3, 5], [11, 10, 8, 7]], 0)\n",
    "# code_test_util.add_data_case([[10, 100], [5, 100], [4], [1]], 110)\n",
    "# code_test_util.add_data_case([[9, 9, 1, 5, 8], [1, 7, 7, 11, 7], [2, 3], [4, 11]], 23)\n",
    "# code_test_util.add_data_case([[814442966], [450418], [638572], [570738426]], 814442966)\n",
    "code_test_util.run()"
   ]
  }
 ],
 "metadata": {
  "interpreter": {
   "hash": "f9ccdf3afa3dc3e101816fbeb38d5182e8e63e68ddc1acefd7abf85a12f12e7d"
  },
  "kernelspec": {
   "display_name": "Python 3.9.7 64-bit",
   "language": "python",
   "name": "python3"
  },
  "language_info": {
   "codemirror_mode": {
    "name": "ipython",
    "version": 3
   },
   "file_extension": ".py",
   "mimetype": "text/x-python",
   "name": "python",
   "nbconvert_exporter": "python",
   "pygments_lexer": "ipython3",
   "version": "3.9.7"
  },
  "orig_nbformat": 4
 },
 "nbformat": 4,
 "nbformat_minor": 2
}
