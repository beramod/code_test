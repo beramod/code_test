{
 "cells": [
  {
   "cell_type": "markdown",
   "metadata": {},
   "source": [
    "* https://www.hackerrank.com/challenges/minimum-loss/problem?isFullScreen=true\n",
    "\n",
    "### 문제\n",
    "* 배열 price가 주어짐\n",
    "* lauren은 집을 구매하려 한다. price는 연도별 집값\n",
    "* lauren은 반드시 손해를 보는데, 손해가 최소가 되도록...\n",
    "\n",
    "### 풀이\n",
    "* price를 정렬하였을 때 인접한 값에서 최소 로스가 나올것이다.\n",
    "* 정렬된 price에서 인접한 값의 이전 순서를 고려하여 차를 나누면 됨"
   ]
  },
  {
   "cell_type": "code",
   "execution_count": 14,
   "metadata": {},
   "outputs": [
    {
     "name": "stdout",
     "output_type": "stream",
     "text": [
      "[Case 1] Answer: 2, Correct: 2, Solved: True\n",
      "[Case 2] Answer: 2, Correct: 2, Solved: True\n",
      "[Case 3] Answer: 3, Correct: 3, Solved: True\n",
      "[Result] Solved: 3, Failed: 0\n"
     ]
    }
   ],
   "source": [
    "def solution(price):\n",
    "    n = len(price)\n",
    "    temp = list(map(lambda idx: (idx, price[idx]), range(n)))\n",
    "    price_dict = {}\n",
    "    temp.sort(key = lambda el: el[1] ,reverse = True)\n",
    "    for i in range(len(temp) - 1):\n",
    "        price_dict[temp[i][1]] = temp[i + 1]\n",
    "    min_loss = 10**16\n",
    "    for i in range(n):\n",
    "        cost = price[i]\n",
    "        if price_dict.get(cost) and i < price_dict.get(cost)[0]:\n",
    "            if cost - price_dict.get(cost)[1] < min_loss:\n",
    "                min_loss = cost - price_dict.get(cost)[1]\n",
    "    return min_loss\n",
    "\n",
    "import sys\n",
    "path = sys.path[0]\n",
    "path = path[:path.index('code_test') + 9]\n",
    "if path not in sys.path:\n",
    "    sys.path.append(path)\n",
    "from util.code_test_util import CodeTestUtil\n",
    "code_test_util = CodeTestUtil()\n",
    "code_test_util.set_multi_args(False)\n",
    "code_test_util.solution = solution\n",
    "code_test_util.add_data_case([5, 10, 3], 2)\n",
    "code_test_util.add_data_case([20, 7, 8, 2, 5], 2)\n",
    "code_test_util.add_data_case([20, 15, 8, 2, 12], 3)\n",
    "code_test_util.run()"
   ]
  }
 ],
 "metadata": {
  "interpreter": {
   "hash": "f9ccdf3afa3dc3e101816fbeb38d5182e8e63e68ddc1acefd7abf85a12f12e7d"
  },
  "kernelspec": {
   "display_name": "Python 3.9.7 64-bit",
   "language": "python",
   "name": "python3"
  },
  "language_info": {
   "codemirror_mode": {
    "name": "ipython",
    "version": 3
   },
   "file_extension": ".py",
   "mimetype": "text/x-python",
   "name": "python",
   "nbconvert_exporter": "python",
   "pygments_lexer": "ipython3",
   "version": "3.9.7"
  },
  "orig_nbformat": 4
 },
 "nbformat": 4,
 "nbformat_minor": 2
}
