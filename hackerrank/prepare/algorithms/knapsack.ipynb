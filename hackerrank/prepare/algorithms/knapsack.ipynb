{
 "cells": [
  {
   "cell_type": "markdown",
   "metadata": {},
   "source": [
    "* https://www.hackerrank.com/challenges/unbounded-knapsack/problem\n",
    "\n",
    "### 문제\n",
    "\n",
    "\n",
    "### 풀이"
   ]
  },
  {
   "cell_type": "code",
   "execution_count": 23,
   "metadata": {},
   "outputs": [
    {
     "name": "stdout",
     "output_type": "stream",
     "text": [
      "[Case 1] Answer: 12, Correct: 12, Solved: True\n",
      "[Case 2] Answer: 9, Correct: 9, Solved: True\n",
      "[Case 3] Answer: 13, Correct: 13, Solved: True\n",
      "[Case 4] Answer: 10, Correct: 10, Solved: True\n",
      "[Case 5] Answer: 10, Correct: 10, Solved: True\n",
      "[Result] Solved: 5, Failed: 0\n"
     ]
    }
   ],
   "source": [
    "def solution(k, arr):\n",
    "    for v in arr:\n",
    "        if k % v == 0:\n",
    "            return k\n",
    "    n = len(arr)\n",
    "    arr.sort()\n",
    "    mem = [[0 for i in range(k + 1)] for i in range(n + 1)]\n",
    "    arr.insert(0, 0)\n",
    "    for i in range(1, n + 1):\n",
    "        for j in range(1, k + 1):\n",
    "            if arr[i] <= j:\n",
    "                if arr[i] < j:\n",
    "                    mem[i][j] = max(arr[i] + mem[i][j - arr[i]], mem[i - 1][j])\n",
    "                else:\n",
    "                    mem[i][j] = max(arr[i], mem[i - 1][j])\n",
    "            else:\n",
    "                mem[i][j] = mem[i - 1][j]\n",
    "    return mem[n][k]\n",
    "\n",
    "import sys\n",
    "path = sys.path[0]\n",
    "path = path[:path.index('code_test') + 9]\n",
    "if path not in sys.path:\n",
    "    sys.path.append(path)\n",
    "from util.code_test_util import CodeTestUtil\n",
    "code_test_util = CodeTestUtil()\n",
    "code_test_util.set_multi_args(True)\n",
    "code_test_util.solution = solution\n",
    "code_test_util.add_data_case([12, [1, 6, 9]], 12)\n",
    "code_test_util.add_data_case([9, [3, 4, 4, 4, 8]], 9)\n",
    "code_test_util.add_data_case([13, [3, 7, 9, 11]], 13)\n",
    "code_test_util.add_data_case([11, [3, 7, 9]], 10)\n",
    "code_test_util.add_data_case([10, [3, 4, 4, 4, 8]], 10)\n",
    "code_test_util.run()"
   ]
  }
 ],
 "metadata": {
  "interpreter": {
   "hash": "f9ccdf3afa3dc3e101816fbeb38d5182e8e63e68ddc1acefd7abf85a12f12e7d"
  },
  "kernelspec": {
   "display_name": "Python 3.9.7 64-bit",
   "language": "python",
   "name": "python3"
  },
  "language_info": {
   "codemirror_mode": {
    "name": "ipython",
    "version": 3
   },
   "file_extension": ".py",
   "mimetype": "text/x-python",
   "name": "python",
   "nbconvert_exporter": "python",
   "pygments_lexer": "ipython3",
   "version": "3.9.7"
  },
  "orig_nbformat": 4
 },
 "nbformat": 4,
 "nbformat_minor": 2
}
