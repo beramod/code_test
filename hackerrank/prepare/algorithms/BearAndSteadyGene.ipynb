{
 "cells": [
  {
   "cell_type": "markdown",
   "metadata": {},
   "source": [
    "\n",
    "### 문제\n",
    "* 시작 0:50\n",
    "* A, C, T, G로 이루어진 string gene가 주어짐\n",
    "    * string: 4 ~ 500,000\n",
    "* 네글자가 정확히 n/4번 발생한다면 안정적이라 간주함\n",
    "    * 동일한 갯수만큼 있다.\n",
    "* 주어진 문자열에서 최대한 짧은 substring을 동일한 길이의 문자열로 교체하여 gene를 steady한 상태로 만들어라\n",
    "* 교체한 substring 길이를 반환하라\n",
    "\n",
    "### 풀이\n"
   ]
  },
  {
   "cell_type": "code",
   "execution_count": 11,
   "metadata": {},
   "outputs": [
    {
     "name": "stdout",
     "output_type": "stream",
     "text": [
      "Counter({'A': 6, 'G': 1, 'T': 1})\n",
      "{'A': 2, 'C': 2, 'T': 2, 'G': 2}\n",
      "{'A': -4, 'C': 0, 'T': 0, 'G': 0}\n",
      "[Case 1] Answer: None, Correct: 5, Solved: False\n",
      "[Result] Solved: 0, Failed: 1\n"
     ]
    }
   ],
   "source": [
    "import heapq\n",
    "from collections import defaultdict, Counter\n",
    "\n",
    "def is_steady(gen_map):\n",
    "    if gen_map.get('A') == gen_map.get('C') == gen_map.get('T') == gen_map.get('G'):\n",
    "        return True\n",
    "    return False\n",
    "\n",
    "def get_max_gen(gen_map):\n",
    "    return max(gen_map.keys(), key=lambda gen: gen_map.get(gen))\n",
    "\n",
    "def get_min_gen(gen_map):\n",
    "    return min(gen_map.keys(), key=lambda gen: gen_map.get(gen))\n",
    "\n",
    "def solution(gene):\n",
    "    n = len(gene)\n",
    "    count = Counter(gene)\n",
    "    gen_map = {'A': 0, 'C': 0, 'T': 0, 'G': 0}\n",
    "    gen_map2 = {'A': 0, 'C': 0, 'T': 0, 'G': 0}\n",
    "    \n",
    "    for c in gene:\n",
    "        gen_map[c] += 1\n",
    "    \n",
    "    while not is_steady(gen_map):\n",
    "        min_gen = get_min_gen(gen_map)\n",
    "        max_gen = get_max_gen(gen_map)\n",
    "        gen_map[min_gen] += 1\n",
    "        gen_map[max_gen] -= 1\n",
    "        gen_map2[max_gen] -= 1\n",
    "    \n",
    "    print(gen_map)\n",
    "    print(gen_map2)\n",
    "\n",
    "import sys\n",
    "path = sys.path[0]\n",
    "path = path[:path.index('code_test') + 9]\n",
    "if path not in sys.path:\n",
    "    sys.path.append(path)\n",
    "from util.code_test_util import CodeTestUtil\n",
    "code_test_util = CodeTestUtil()\n",
    "code_test_util.set_multi_args(False)\n",
    "code_test_util.solution = solution\n",
    "code_test_util.add_data_case('GAAATAAA', 5)\n",
    "# code_test_util.add_data_case('ACTGAAAG', 2)\n",
    "code_test_util.run()"
   ]
  }
 ],
 "metadata": {
  "interpreter": {
   "hash": "f9ccdf3afa3dc3e101816fbeb38d5182e8e63e68ddc1acefd7abf85a12f12e7d"
  },
  "kernelspec": {
   "display_name": "Python 3.9.7 64-bit",
   "language": "python",
   "name": "python3"
  },
  "language_info": {
   "codemirror_mode": {
    "name": "ipython",
    "version": 3
   },
   "file_extension": ".py",
   "mimetype": "text/x-python",
   "name": "python",
   "nbconvert_exporter": "python",
   "pygments_lexer": "ipython3",
   "version": "3.9.7"
  },
  "orig_nbformat": 4
 },
 "nbformat": 4,
 "nbformat_minor": 2
}
