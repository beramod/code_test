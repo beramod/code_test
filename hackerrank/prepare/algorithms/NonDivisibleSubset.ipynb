{
 "cells": [
  {
   "cell_type": "markdown",
   "metadata": {},
   "source": [
    "* https://www.hackerrank.com/challenges/non-divisible-subset/problem?isFullScreen=true\n",
    "\n",
    "### 조건\n",
    "* 정수배열 S, 정수 k가 주어진다.\n",
    "    * S의 값: 1 ~ 10**9\n",
    "    * k: 1 ~ 100\n",
    "    * n: 1 ~ 10**5\n",
    "* S의 부분집합을 만들때, 부분집합에서 두개 원소의 합이 k로 나눠지지 않는 부분집합중 원소수가 가장 큰 부분집합의 원소수를 반환하라.\n",
    "\n",
    "\n",
    "### 풀이\n",
    "* 각 원소의 나머지를 구한다.\n",
    "* 나머지가 0인 경우는 하나밖에 쓰지 못함\n",
    "* k가 짝수인경우도 하나밖에 쓰지 못함\n",
    "* 나머지가 v경우 k - v를 쓰지 못한다.\n",
    "    * 이때 갯수가 더 작은쪽을 제거한다.\n",
    "* dictionary에 남은 값을 모두 더하면 됨"
   ]
  },
  {
   "cell_type": "code",
   "execution_count": 49,
   "metadata": {},
   "outputs": [
    {
     "name": "stdout",
     "output_type": "stream",
     "text": [
      "[Case 1] Answer: 3, Correct: 3, Solved: True\n",
      "[Case 2] Answer: 3, Correct: 3, Solved: True\n",
      "[Case 3] Answer: 50, Correct: 50, Solved: True\n",
      "[Result] Solved: 3, Failed: 0\n"
     ]
    }
   ],
   "source": [
    "from collections import defaultdict\n",
    "\n",
    "def solution(k, s):\n",
    "    remainders = defaultdict(int)\n",
    "    count = 0\n",
    "    \n",
    "    for i in s:\n",
    "        remainders[i % k] += 1\n",
    "    \n",
    "    if remainders.get(0):\n",
    "        remainders[0] = 0\n",
    "        count += 1\n",
    "        \n",
    "    if k % 2 == 0 and remainders.get(k / 2):\n",
    "        remainders[k / 2] = 0\n",
    "        count += 1\n",
    "        \n",
    "    for remainder in remainders:\n",
    "        if remainders.get(remainder) < 1 or not remainders.get(k - remainder):\n",
    "            continue\n",
    "        idx = remainder if remainders[remainder] < remainders[k - remainder] else k - remainder\n",
    "        remainders[idx] = 0\n",
    "    count += sum(remainders.values())\n",
    "    return count\n",
    "    \n",
    "    \n",
    "import sys\n",
    "path = sys.path[0]\n",
    "path = path[:path.index('code_test') + 9]\n",
    "if path not in sys.path:\n",
    "    sys.path.append(path)\n",
    "from util.code_test_util import CodeTestUtil\n",
    "t = '61197933 56459859 319018589 271720536 358582070 849720202 481165658 675266245 541667092 615618805 129027583 755570852 437001718 86763458 791564527 163795318 981341013 516958303 592324531 611671866 157795445 718701842 773810960 72800260 281252802 404319361 757224413 682600363 606641861 986674925 176725535 256166138 827035972 124896145 37969090 136814243 274957936 980688849 293456190 141209943 346065260 550594766 132159011 491368651 3772767 131852400 633124868 148168785 339205816 705527969 551343090 824338597 241776176 286091680 919941899 728704934 37548669 513249437 888944501 239457900 977532594 140391002 260004333 911069927 586821751 113740158 370372870 97014913 28011421 489017248 492953261 73530695 27277034 570013262 81306939 519086053 993680429 599609256 639477062 677313848 950497430 672417749 266140123 601572332 273157042 777834449 123586826'\n",
    "tc = list(map(lambda el: int(el), t.split(' ')))\n",
    "code_test_util = CodeTestUtil()\n",
    "code_test_util.set_multi_args(True)\n",
    "code_test_util.solution = solution\n",
    "code_test_util.add_data_case([3, [1, 7, 2, 4]], 3)\n",
    "code_test_util.add_data_case([4, [19, 10, 12, 10, 24, 25, 22]], 3)\n",
    "code_test_util.add_data_case([9, tc], 50)\n",
    "code_test_util.run()"
   ]
  }
 ],
 "metadata": {
  "interpreter": {
   "hash": "f9ccdf3afa3dc3e101816fbeb38d5182e8e63e68ddc1acefd7abf85a12f12e7d"
  },
  "kernelspec": {
   "display_name": "Python 3.9.7 64-bit",
   "language": "python",
   "name": "python3"
  },
  "language_info": {
   "codemirror_mode": {
    "name": "ipython",
    "version": 3
   },
   "file_extension": ".py",
   "mimetype": "text/x-python",
   "name": "python",
   "nbconvert_exporter": "python",
   "pygments_lexer": "ipython3",
   "version": "3.9.7"
  },
  "orig_nbformat": 4
 },
 "nbformat": 4,
 "nbformat_minor": 2
}
