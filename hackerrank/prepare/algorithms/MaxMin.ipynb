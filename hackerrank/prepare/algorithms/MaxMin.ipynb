{
 "cells": [
  {
   "cell_type": "markdown",
   "metadata": {},
   "source": [
    "* https://www.hackerrank.com/challenges/angry-children/problem?isFullScreen=true\n",
    "\n",
    "### 문제\n",
    "* 정수 배열 arr과 정수 k\n",
    "    * arr: 0 ~ 10**9\n",
    "    * k: 2 ~ n\n",
    "    * n: 2 ~ 10**5\n",
    "* arr에서 k개의 요소로 부분배열을 만들때 unfairness가 최소가 되는 배열의 unfairness를 반환하라\n",
    "    * unfairness: max(arr) - min(arr)\n",
    "\n",
    "### 풀이"
   ]
  },
  {
   "cell_type": "code",
   "execution_count": 15,
   "metadata": {},
   "outputs": [
    {
     "name": "stdout",
     "output_type": "stream",
     "text": [
      "[Case 1] Answer: 1, Correct: 1, Solved: True\n",
      "[Case 2] Answer: 20, Correct: 20, Solved: True\n",
      "[Case 3] Answer: 3, Correct: 3, Solved: True\n",
      "[Case 4] Answer: 0, Correct: 0, Solved: True\n",
      "[Case 5] Answer: 1, Correct: 1, Solved: True\n",
      "[Result] Solved: 5, Failed: 0\n"
     ]
    }
   ],
   "source": [
    "def solution(k, arr):\n",
    "    arr.sort()\n",
    "    min_unfair = arr[k - 1] - arr[0]\n",
    "    for i in range(1, len(arr) - k + 1):\n",
    "        if arr[i + k - 1] - arr[i] < min_unfair:\n",
    "            min_unfair = arr[i + k - 1] - arr[i]\n",
    "    return min_unfair\n",
    "\n",
    "import sys\n",
    "path = sys.path[0]\n",
    "path = path[:path.index('code_test') + 9]\n",
    "if path not in sys.path:\n",
    "    sys.path.append(path)\n",
    "from util.code_test_util import CodeTestUtil\n",
    "code_test_util = CodeTestUtil()\n",
    "code_test_util.set_multi_args(True)\n",
    "code_test_util.solution = solution\n",
    "code_test_util.add_data_case([2, [1, 4, 7, 2]], 1)\n",
    "code_test_util.add_data_case([3, [10, 100, 300, 200, 1000, 20, 30]], 20)\n",
    "code_test_util.add_data_case([4, [1, 2, 3, 4, 10, 20, 30, 40, 100, 200]], 3)\n",
    "code_test_util.add_data_case([2, [1, 2, 1, 2, 1]], 0)\n",
    "code_test_util.add_data_case([2, [1, 3, 8, 9]], 1)\n",
    "code_test_util.run()"
   ]
  }
 ],
 "metadata": {
  "interpreter": {
   "hash": "f9ccdf3afa3dc3e101816fbeb38d5182e8e63e68ddc1acefd7abf85a12f12e7d"
  },
  "kernelspec": {
   "display_name": "Python 3.9.7 64-bit",
   "language": "python",
   "name": "python3"
  },
  "language_info": {
   "codemirror_mode": {
    "name": "ipython",
    "version": 3
   },
   "file_extension": ".py",
   "mimetype": "text/x-python",
   "name": "python",
   "nbconvert_exporter": "python",
   "pygments_lexer": "ipython3",
   "version": "3.9.7"
  },
  "orig_nbformat": 4
 },
 "nbformat": 4,
 "nbformat_minor": 2
}
