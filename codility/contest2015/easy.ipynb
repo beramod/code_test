{
 "cells": [
  {
   "cell_type": "markdown",
   "metadata": {},
   "source": [
    "* https://app.codility.com/programmers/trainings/1/longest_password/\n",
    "\n",
    "```\n",
    "You would like to set a password for a bank account. However, there are three restrictions on the format of the password:\n",
    "\n",
    "it has to contain only alphanumerical characters (a−z, A−Z, 0−9);\n",
    "there should be an even number of letters;\n",
    "there should be an odd number of digits.\n",
    "You are given a string S consisting of N characters. String S can be divided into words by splitting it at, and removing, the spaces. The goal is to choose the longest word that is a valid password. You can assume that if there are K spaces in string S then there are exactly K + 1 words.\n",
    "\n",
    "For example, given \"test 5 a0A pass007 ?xy1\", there are five words and three of them are valid passwords: \"5\", \"a0A\" and \"pass007\". Thus the longest password is \"pass007\" and its length is 7. Note that neither \"test\" nor \"?xy1\" is a valid password, because \"?\" is not an alphanumerical character and \"test\" contains an even number of digits (zero).\n",
    "\n",
    "Write a function:\n",
    "\n",
    "class Solution { public int solution(String S); }\n",
    "\n",
    "that, given a non-empty string S consisting of N characters, returns the length of the longest word from the string that is a valid password. If there is no such word, your function should return −1.\n",
    "\n",
    "For example, given S = \"test 5 a0A pass007 ?xy1\", your function should return 7, as explained above.\n",
    "\n",
    "Assume that:\n",
    "\n",
    "N is an integer within the range [1..200];\n",
    "string S consists only of printable ASCII characters and spaces.\n",
    "In your solution, focus on correctness. The performance of your solution will not be the focus of the assessment.\n",
    "```"
   ]
  },
  {
   "cell_type": "code",
   "execution_count": 1,
   "metadata": {},
   "outputs": [
    {
     "name": "stdout",
     "output_type": "stream",
     "text": [
      "7\n"
     ]
    }
   ],
   "source": [
    "def solution(S):\n",
    "    numeric = [48, 57]\n",
    "    lower_char = [97, 122]\n",
    "    upper_char = [65, 90]\n",
    "    pass_list = S.split(' ')\n",
    "    pass_list.sort(key = lambda el: len(el), reverse = True)\n",
    "\n",
    "    for pass_ in pass_list:\n",
    "        n = 0\n",
    "        c = 0\n",
    "        valid = True\n",
    "        \n",
    "        for char_ in pass_:\n",
    "            ascii_ = ord(char_)\n",
    "            if numeric[0] <= ascii_ <= numeric[1]:\n",
    "                n += 1\n",
    "            elif (lower_char[0] <= ascii_ <= lower_char[1]) or\\\n",
    "                (upper_char[0] <= ascii_ <= upper_char[1]):\n",
    "                c += 1\n",
    "            else:\n",
    "                valid = False\n",
    "                break\n",
    "        if not valid:\n",
    "            continue\n",
    "        if n > 0 and n % 2 == 1 and c % 2 == 0:\n",
    "            return len(pass_)\n",
    "    return -1\n",
    "\n",
    "data_cases = [\n",
    "    'test 5 a0A pass007 ?xyl'\n",
    "]\n",
    "\n",
    "for data_case in data_cases:\n",
    "    print(solution(data_case))"
   ]
  }
 ],
 "metadata": {
  "interpreter": {
   "hash": "aee8b7b246df8f9039afb4144a1f6fd8d2ca17a180786b69acc140d282b71a49"
  },
  "kernelspec": {
   "display_name": "Python 3.9.1 64-bit",
   "language": "python",
   "name": "python3"
  },
  "language_info": {
   "codemirror_mode": {
    "name": "ipython",
    "version": 3
   },
   "file_extension": ".py",
   "mimetype": "text/x-python",
   "name": "python",
   "nbconvert_exporter": "python",
   "pygments_lexer": "ipython3",
   "version": "3.9.1"
  },
  "orig_nbformat": 4
 },
 "nbformat": 4,
 "nbformat_minor": 2
}
