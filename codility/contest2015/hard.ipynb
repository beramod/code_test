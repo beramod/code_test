{
 "cells": [
  {
   "cell_type": "markdown",
   "metadata": {},
   "source": [
    "* https://app.codility.com/programmers/trainings/1/slalom_skiing/\n",
    "\n",
    "```\n",
    "You are a skier participating in a giant slalom. The slalom track is located on a ski slope, goes downhill and is fenced by barriers on both sides. The barriers are perpendicular to the starting line located at the top of the slope. There are N slalom gates on the track. Each gate is placed at a distinct distance from the starting line and from the barrier on the right-hand side (looking downhill).\n",
    "\n",
    "You start from any place on the starting line, ski down the track passing as many gates as possible, and finish the slalom at the bottom of the slope. Passing a gate means skiing through the position of the gate.\n",
    "\n",
    "You can ski downhill in either of two directions: to the left or to the right. When you ski to the left, you pass gates of increasing distances from the right barrier, and when you ski to the right, you pass gates of decreasing distances from the right barrier. You want to ski to the left at the beginning.\n",
    "\n",
    "Unfortunately, changing direction (left to right or vice versa) is exhausting, so you have decided to change direction at most two times during your ride. Because of this, you have allowed yourself to miss some of the gates on the way down the slope. You would like to know the maximum number of gates that you can pass with at most two changes of direction.\n",
    "\n",
    "The arrangement of the gates is given as an array A consisting of N integers, whose elements specify the positions of the gates: gate K (for 0 ≤ K < N) is at a distance of K+1 from the starting line, and at a distance of A[K] from the right barrier.\n",
    "\n",
    "For example, consider array A such that:\n",
    "\n",
    "  A[0] = 15\n",
    "  A[1] = 13\n",
    "  A[2] = 5\n",
    "  A[3] = 7\n",
    "  A[4] = 4\n",
    "  A[5] = 10\n",
    "  A[6] = 12\n",
    "  A[7] = 8\n",
    "  A[8] = 2\n",
    "  A[9] = 11\n",
    "  A[10] = 6\n",
    "  A[11] = 9\n",
    "  A[12] = 3\n",
    "\n",
    "\n",
    "The picture above illustrates the example track with N = 13 gates and a course that passes eight gates. After starting, you ski to the left (from your own perspective). You pass gates 2, 3, 5, 6 and then change direction to the right. After that you pass gates 7, 8 and then change direction to the left. Finally, you pass gates 10, 11 and finish the slalom. There is no possible way of passing more gates using at most two changes of direction.\n",
    "\n",
    "Write a function:\n",
    "\n",
    "def solution(A)\n",
    "\n",
    "that, given an array A consisting of N integers, describing the positions of the gates on the track, returns the maximum number of gates that you can pass during one ski run.\n",
    "\n",
    "For example, given the above data, the function should return 8, as explained above.\n",
    "\n",
    "For the following array A consisting of N = 2 elements:\n",
    "\n",
    "  A[0] = 1\n",
    "  A[1] = 5\n",
    "the function should return 2.\n",
    "\n",
    "Write an efficient algorithm for the following assumptions:\n",
    "\n",
    "N is an integer within the range [1..100,000];\n",
    "each element of array A is an integer within the range [1..1,000,000,000];\n",
    "the elements of A are all distinct.\n",
    "```"
   ]
  },
  {
   "cell_type": "code",
   "execution_count": 1,
   "metadata": {},
   "outputs": [
    {
     "name": "stdout",
     "output_type": "stream",
     "text": [
      "9\n",
      "0\n"
     ]
    }
   ],
   "source": [
    "def solution(A):\n",
    "    if len(A) < 3:\n",
    "        return 0\n",
    "    depths = [0 for i in A]\n",
    "    wall = A[0]\n",
    "    cnt = len(A)\n",
    "    \n",
    "    for i in range(cnt):\n",
    "        if A[i] > wall:\n",
    "            wall = A[i]\n",
    "        else:\n",
    "            depths[i] = wall - A[i]\n",
    "    wall = A[cnt - 1]\n",
    "    for i in range(cnt - 1, -1, -1):\n",
    "        if A[i] > wall:\n",
    "            wall = A[i]\n",
    "            depths[i] = 0\n",
    "        else:\n",
    "            depths[i] = min(depths[i], wall - A[i])\n",
    "    return max(depths)    \n",
    "\n",
    "data_cases = [\n",
    "    [15, 13, 5, 7, 4, 10, 12, 8, 2, 11, 6, 9, 3], # 8\n",
    "    [1, 5], # 2\n",
    "]\n",
    "\n",
    "for data_case in data_cases:\n",
    "    print(solution(data_case))"
   ]
  }
 ],
 "metadata": {
  "interpreter": {
   "hash": "f9ccdf3afa3dc3e101816fbeb38d5182e8e63e68ddc1acefd7abf85a12f12e7d"
  },
  "kernelspec": {
   "display_name": "Python 3.9.7 64-bit",
   "language": "python",
   "name": "python3"
  },
  "language_info": {
   "codemirror_mode": {
    "name": "ipython",
    "version": 3
   },
   "file_extension": ".py",
   "mimetype": "text/x-python",
   "name": "python",
   "nbconvert_exporter": "python",
   "pygments_lexer": "ipython3",
   "version": "3.9.7"
  },
  "orig_nbformat": 4
 },
 "nbformat": 4,
 "nbformat_minor": 2
}
