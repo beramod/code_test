{
 "cells": [
  {
   "cell_type": "markdown",
   "metadata": {},
   "source": [
    "* https://app.codility.com/programmers/trainings/1/flood_depth/\n",
    "\n",
    "```\n",
    "You are helping a geologist friend investigate an area with mountain lakes. A recent heavy rainfall has flooded these lakes and their water levels have reached the highest possible point. Your friend is interested to know the maximum depth in the deepest part of these lakes.\n",
    "\n",
    "We simplify the problem in 2-D dimensions. The whole landscape can be divided into small blocks and described by an array A of length N. Each element of A is the altitude of the rock floor of a block (i.e. the height of this block when there is no water at all). After the rainfall, all the low-lying areas (i.e. blocks that have higher blocks on both sides) are holding as much water as possible. You would like to know the maximum depth of water after this entire area is flooded. You can assume that the altitude outside this area is zero and the outside area can accommodate infinite amount of water.\n",
    "\n",
    "For example, consider array A such that:\n",
    "\n",
    "    A[0] = 1\n",
    "    A[1] = 3\n",
    "    A[2] = 2\n",
    "    A[3] = 1\n",
    "    A[4] = 2\n",
    "    A[5] = 1\n",
    "    A[6] = 5\n",
    "    A[7] = 3\n",
    "    A[8] = 3\n",
    "    A[9] = 4\n",
    "    A[10] = 2\n",
    "The following picture illustrates the landscape after it has flooded:\n",
    "\n",
    "\n",
    "\n",
    "The gray area is the rock floor described by the array A above and the blue area with dashed lines represents the water filling the low-lying areas with maximum possible volume. Thus, blocks 3 and 5 have a water depth of 2 while blocks 2, 4, 7 and 8 have a water depth of 1. Therefore, the maximum water depth of this area is 2.\n",
    "\n",
    "Write a function:\n",
    "\n",
    "class Solution { public int solution(int[] A); }\n",
    "\n",
    "that, given a non-empty array A consisting of N integers, returns the maximum depth of water.\n",
    "\n",
    "Given array A shown above, the function should return 2, as explained above.\n",
    "\n",
    "For the following array:\n",
    "\n",
    "    A[0] = 5\n",
    "    A[1] = 8\n",
    "the function should return 0, because this landscape cannot hold any water.\n",
    "\n",
    "Write an efficient algorithm for the following assumptions:\n",
    "\n",
    "N is an integer within the range [1..100,000];\n",
    "each element of array A is an integer within the range [1..100,000,000].\n",
    "```"
   ]
  },
  {
   "cell_type": "code",
   "execution_count": 6,
   "metadata": {},
   "outputs": [
    {
     "name": "stdout",
     "output_type": "stream",
     "text": [
      "2\n",
      "0\n",
      "1\n",
      "1\n",
      "0\n",
      "5\n"
     ]
    }
   ],
   "source": [
    "def solution(A):\n",
    "    if len(A) < 3:\n",
    "        return 0\n",
    "    depths = [0 for i in A]\n",
    "    wall = A[0]\n",
    "    cnt = len(A)\n",
    "    \n",
    "    for i in range(cnt):\n",
    "        if A[i] > wall:\n",
    "            wall = A[i]\n",
    "        else:\n",
    "            depths[i] = wall - A[i]\n",
    "    wall = A[cnt - 1]\n",
    "    for i in range(cnt - 1, -1, -1):\n",
    "        if A[i] > wall:\n",
    "            wall = A[i]\n",
    "            depths[i] = 0\n",
    "        else:\n",
    "            depths[i] = min(depths[i], wall - A[i])\n",
    "    return max(depths)    \n",
    "\n",
    "data_cases = [\n",
    "    [1, 3, 2, 1, 2, 1, 5, 3, 3, 4, 2], # 2\n",
    "    [5, 8], # 0\n",
    "    [1, 3, 2, 4], # 1\n",
    "    [3, 1, 2], # 1\n",
    "    [4, 3, 2], # 0\n",
    "    [8, 6, 1, 6, 4], # 5\n",
    "]\n",
    "\n",
    "for data_case in data_cases:\n",
    "    print(solution(data_case))"
   ]
  }
 ],
 "metadata": {
  "interpreter": {
   "hash": "aee8b7b246df8f9039afb4144a1f6fd8d2ca17a180786b69acc140d282b71a49"
  },
  "kernelspec": {
   "display_name": "Python 3.9.1 64-bit",
   "language": "python",
   "name": "python3"
  },
  "language_info": {
   "codemirror_mode": {
    "name": "ipython",
    "version": 3
   },
   "file_extension": ".py",
   "mimetype": "text/x-python",
   "name": "python",
   "nbconvert_exporter": "python",
   "pygments_lexer": "ipython3",
   "version": "3.9.7"
  },
  "orig_nbformat": 4
 },
 "nbformat": 4,
 "nbformat_minor": 2
}
