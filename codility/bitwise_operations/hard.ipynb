{
 "cells": [
  {
   "cell_type": "markdown",
   "metadata": {},
   "source": [
    "* https://app.codility.com/programmers/trainings/9/sparse_binary_decomposition/\n",
    "\n",
    "```\n",
    "A non-negative integer N is called sparse if its binary representation does not contain two consecutive bits set to 1. For example, 41 is sparse, because its binary representation is \"101001\" and it does not contain two consecutive 1s. On the other hand, 26 is not sparse, because its binary representation is \"11010\" and it contains two consecutive 1s.\n",
    "\n",
    "Two non-negative integers P and Q are called a sparse decomposition of integer N if P and Q are sparse and N = P + Q.\n",
    "\n",
    "For example:\n",
    "\n",
    "8 and 18 are a sparse decomposition of 26 (binary representation of 8 is \"1000\", binary representation of 18 is \"10010\");\n",
    "9 and 17 are a sparse decomposition of 26 (binary representation of 9 is \"1001\", binary representation of 17 is \"10001\");\n",
    "2 and 24 are not a sparse decomposition of 26; though 2 + 24 = 26, the binary representation of 24 is \"11000\", which is not sparse.\n",
    "Write a function:\n",
    "\n",
    "class Solution { public int solution(int N); }\n",
    "\n",
    "that, given a non-negative integer N, returns any integer that is one part of a sparse decomposition of N. The function should return −1 if there is no sparse decomposition of N.\n",
    "\n",
    "For example, given N = 26 the function may return 8, 9, 17 or 18, as explained in the example above. All other possible results for N = 26 are 5, 10, 16 and 21.\n",
    "\n",
    "Write an efficient algorithm for the following assumptions:\n",
    "\n",
    "N is an integer within the range [0..1,000,000,000].\n",
    "```\n",
    "\n",
    "### 조건\n",
    "- 음이아닌 정수 N을 이진법으로 표현 하였을때 1로 설정된 비트가 연속되지 않을때 N은 Sparse 이다.\n",
    "- ex) 41 = 101001 => Sparse, 26 = 11010 => Not sparse\n",
    "- P, Q가 Sparse 하고, N = P + Q인 경우 두 개의 음이 아닌 정수 P와 Q를 희소분해라고 한다.\n",
    "- ex) 8(1000) + 18(10010) = 26\n",
    "- 정수 N이 주어질때 N의 희소분해 집합중 한가지 정수를 반환하라.\n",
    "\n",
    "### 풀이\n",
    "- 10101010101...로된 채를 만들어 N과 &를 해주면 된다.\n",
    "- ceil(log2(N)) 횟수만큼 하는 이유는, N의 bit string 길이의 절반만큼만 1을 set해주면 되기 때문인데, 그 횟수가 log2(N)이다."
   ]
  },
  {
   "cell_type": "code",
   "execution_count": 1,
   "metadata": {},
   "outputs": [
    {
     "name": "stdout",
     "output_type": "stream",
     "text": [
      "[Case 1] Answer: 0, Correct: [0], Solved: False\n",
      "[Case 2] Answer: 1, Correct: [0, 1], Solved: False\n",
      "[Case 3] Answer: 2, Correct: [0, 2], Solved: False\n",
      "100\n",
      "101\n",
      "[Case 4] Answer: 4, Correct: [0, 4], Solved: False\n",
      "11010\n",
      "101010\n",
      "[Case 5] Answer: 10, Correct: [8, 9, 17, 18, 5, 10, 16, 21], Solved: False\n",
      "1100111000101100010111110001\n",
      "10101010101010101010101010101\n",
      "[Case 6] Answer: 71320913, Correct: [0], Solved: False\n",
      "111011100110101100101000000000\n",
      "1010101010101010101010101010101\n",
      "[Case 7] Answer: 286277632, Correct: [0], Solved: False\n",
      "[Result] Solved: 0, Failed: 7\n"
     ]
    }
   ],
   "source": [
    "from math import ceil, log2\n",
    "\n",
    "def solution(N):\n",
    "    if N <= 2:\n",
    "        return N\n",
    "    idx = ceil(log2(N))\n",
    "    bit_mask = 0\n",
    "    odd = 1\n",
    "    while idx >= 0:\n",
    "        if odd == 1:\n",
    "            bit_mask = bit_mask | 2 ** idx\n",
    "        idx -= 1\n",
    "        odd ^= 0b1\n",
    "    return N & bit_mask\n",
    "    \n",
    "import sys\n",
    "path = sys.path[0]\n",
    "path = path[:path.index('code_test') + 9]\n",
    "if path not in sys.path:\n",
    "    sys.path.append(path)\n",
    "from util.code_test_util import CodeTestUtil\n",
    "code_test_util = CodeTestUtil()\n",
    "code_test_util.set_multi_args(False)\n",
    "code_test_util.solution = solution\n",
    "code_test_util.add_data_case(0, [0])\n",
    "code_test_util.add_data_case(1, [0, 1])\n",
    "code_test_util.add_data_case(2, [0, 2])\n",
    "code_test_util.add_data_case(4, [0, 4])\n",
    "code_test_util.add_data_case(26, [8, 9, 17, 18, 5, 10, 16, 21])\n",
    "code_test_util.add_data_case(216188401, [0])\n",
    "code_test_util.add_data_case(1000000000, [0])\n",
    "code_test_util.run()"
   ]
  }
 ],
 "metadata": {
  "interpreter": {
   "hash": "aee8b7b246df8f9039afb4144a1f6fd8d2ca17a180786b69acc140d282b71a49"
  },
  "kernelspec": {
   "display_name": "Python 3.9.1 64-bit",
   "language": "python",
   "name": "python3"
  },
  "language_info": {
   "codemirror_mode": {
    "name": "ipython",
    "version": 3
   },
   "file_extension": ".py",
   "mimetype": "text/x-python",
   "name": "python",
   "nbconvert_exporter": "python",
   "pygments_lexer": "ipython3",
   "version": "3.9.7"
  },
  "orig_nbformat": 4
 },
 "nbformat": 4,
 "nbformat_minor": 2
}
