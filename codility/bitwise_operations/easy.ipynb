{
 "cells": [
  {
   "cell_type": "markdown",
   "metadata": {},
   "source": [
    "* https://app.codility.com/programmers/trainings/9/binary_gap/\n",
    "\n",
    "```\n",
    "A binary gap within a positive integer N is any maximal sequence of consecutive zeros that is surrounded by ones at both ends in the binary representation of N.\n",
    "\n",
    "For example, number 9 has binary representation 1001 and contains a binary gap of length 2. The number 529 has binary representation 1000010001 and contains two binary gaps: one of length 4 and one of length 3. The number 20 has binary representation 10100 and contains one binary gap of length 1. The number 15 has binary representation 1111 and has no binary gaps. The number 32 has binary representation 100000 and has no binary gaps.\n",
    "\n",
    "Write a function:\n",
    "\n",
    "class Solution { public int solution(int N); }\n",
    "\n",
    "that, given a positive integer N, returns the length of its longest binary gap. The function should return 0 if N doesn't contain a binary gap.\n",
    "\n",
    "For example, given N = 1041 the function should return 5, because N has binary representation 10000010001 and so its longest binary gap is of length 5. Given N = 32 the function should return 0, because N has binary representation '100000' and thus no binary gaps.\n",
    "\n",
    "Write an efficient algorithm for the following assumptions:\n",
    "\n",
    "N is an integer within the range [1..2,147,483,647].\n",
    "```\n",
    "\n",
    "### 조건\n",
    "- 주어진 N을 이진수로 변환하여 1, 1사이의 간격중 가장 큰 값을 반환\n",
    "- ex) 10001 => 1과 1사이의 간격은 3\n",
    "- ex) 10000 => 간격이 존재하지 않음\n",
    "- N의 범위는 1 ~ 2,147,483,647\n",
    "\n",
    "### 풀이\n",
    "- 정수를 bit string으로 변환후 순회하며 연속된 0을 카운팅하며 가장 큰값을 반환"
   ]
  },
  {
   "cell_type": "code",
   "execution_count": 17,
   "metadata": {},
   "outputs": [
    {
     "name": "stdout",
     "output_type": "stream",
     "text": [
      "[Case 1] Answer: 2, Correct: 2, Solved: True\n",
      "[Case 2] Answer: 4, Correct: 4, Solved: True\n",
      "[Case 3] Answer: 2, Correct: 1, Solved: False\n",
      "[Case 4] Answer: 0, Correct: 0, Solved: True\n",
      "[Case 5] Answer: 5, Correct: 5, Solved: True\n",
      "[Case 6] Answer: 5, Correct: 0, Solved: False\n",
      "[Case 7] Answer: 3, Correct: 3, Solved: True\n",
      "[Case 8] Answer: 9, Correct: 2, Solved: False\n",
      "[Result] Solved: 5, Failed: 3\n"
     ]
    }
   ],
   "source": [
    "def solution(N):\n",
    "    binary_str = format(N, 'b')\n",
    "    gap = 0\n",
    "    cnt = 0\n",
    "    for b in binary_str:\n",
    "        if b == '1':\n",
    "            gap = max(gap, cnt)\n",
    "            cnt = 0\n",
    "        else:\n",
    "            cnt += 1\n",
    "    return gap\n",
    "\n",
    "import sys\n",
    "path = sys.path[0]\n",
    "path = path[:path.index('code_test') + 9]\n",
    "if path not in sys.path:\n",
    "    sys.path.append(path)\n",
    "from util.code_test_util import CodeTestUtil\n",
    "code_test_util = CodeTestUtil()\n",
    "code_test_util.solution = solution\n",
    "code_test_util.add_data_case(9, 2)\n",
    "code_test_util.add_data_case(529, 4)\n",
    "code_test_util.add_data_case(20, 1)\n",
    "code_test_util.add_data_case(15, 0)\n",
    "code_test_util.add_data_case(1041, 5)\n",
    "code_test_util.add_data_case(32, 0)\n",
    "code_test_util.add_data_case(1162, 3)\n",
    "code_test_util.add_data_case(51712, 2)\n",
    "code_test_util.run()"
   ]
  }
 ],
 "metadata": {
  "interpreter": {
   "hash": "f9ccdf3afa3dc3e101816fbeb38d5182e8e63e68ddc1acefd7abf85a12f12e7d"
  },
  "kernelspec": {
   "display_name": "Python 3.9.7 64-bit",
   "language": "python",
   "name": "python3"
  },
  "language_info": {
   "codemirror_mode": {
    "name": "ipython",
    "version": 3
   },
   "file_extension": ".py",
   "mimetype": "text/x-python",
   "name": "python",
   "nbconvert_exporter": "python",
   "pygments_lexer": "ipython3",
   "version": "3.9.7"
  },
  "orig_nbformat": 4
 },
 "nbformat": 4,
 "nbformat_minor": 2
}
