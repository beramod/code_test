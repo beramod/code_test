{
 "cells": [
  {
   "cell_type": "markdown",
   "metadata": {},
   "source": [
    "* https://app.codility.com/programmers/trainings/9/count_conforming_bitmasks/\n",
    "\n",
    "```\n",
    "In this problem we consider unsigned 30-bit integers, i.e. all integers B such that 0 ≤ B < 230.\n",
    "\n",
    "We say that integer A conforms to integer B if, in all positions where B has bits set to 1, A has corresponding bits set to 1.\n",
    "\n",
    "For example:\n",
    "\n",
    "00 0000 1111 0111 1101 1110 0000 1111(BIN) = 16,244,239 conforms to\n",
    "00 0000 1100 0110 1101 1110 0000 0001(BIN) = 13,032,961, but\n",
    "11 0000 1101 0111 0000 1010 0000 0101(BIN) = 819,399,173 does not conform to\n",
    "00 0000 1001 0110 0011 0011 0000 1111(BIN) = 9,843,471.\n",
    "Write a function:\n",
    "\n",
    "def solution(A, B, C)\n",
    "\n",
    "that, given three unsigned 30-bit integers A, B and C, returns the number of unsigned 30-bit integers conforming to at least one of the given integers.\n",
    "\n",
    "For example, for integers:\n",
    "\n",
    "A = 11 1111 1111 1111 1111 1111 1001 1111(BIN) = 1,073,741,727,\n",
    "B = 11 1111 1111 1111 1111 1111 0011 1111(BIN) = 1,073,741,631, and\n",
    "C = 11 1111 1111 1111 1111 1111 0110 1111(BIN) = 1,073,741,679,\n",
    "the function should return 8, since there are 8 unsigned 30-bit integers conforming to A, B or C, namely:\n",
    "\n",
    "11 1111 1111 1111 1111 1111 0011 1111(BIN) = 1,073,741,631,\n",
    "11 1111 1111 1111 1111 1111 0110 1111(BIN) = 1,073,741,679,\n",
    "11 1111 1111 1111 1111 1111 0111 1111(BIN) = 1,073,741,695,\n",
    "11 1111 1111 1111 1111 1111 1001 1111(BIN) = 1,073,741,727,\n",
    "11 1111 1111 1111 1111 1111 1011 1111(BIN) = 1,073,741,759,\n",
    "11 1111 1111 1111 1111 1111 1101 1111(BIN) = 1,073,741,791,\n",
    "11 1111 1111 1111 1111 1111 1110 1111(BIN) = 1,073,741,807,\n",
    "11 1111 1111 1111 1111 1111 1111 1111(BIN) = 1,073,741,823.\n",
    "Write an efficient algorithm for the following assumptions:\n",
    "\n",
    "A, B and C are integers within the range [0..1,073,741,823].\n",
    "```\n",
    "\n",
    "### 조건\n",
    "- 부호 없는 30비트 정수, 0 <= B < 2^30\n",
    "- A, B, C의 범위는 0 ~ 1,073,741,823\n",
    "- "
   ]
  },
  {
   "cell_type": "code",
   "execution_count": 11,
   "metadata": {},
   "outputs": [
    {
     "name": "stdout",
     "output_type": "stream",
     "text": [
      "Traceback (most recent call last):\n",
      "  File \"c:\\Users\\riosn\\PycharmProjects\\code_test\\util\\code_test_util.py\", line 13, in __solution\n",
      "    return self.solution(*data)\n",
      "  File \"C:\\Users\\riosn\\AppData\\Local\\Temp/ipykernel_14980/2483765626.py\", line 8, in solution\n",
      "    if a[i] == b[i] == c[i] == '1':\n",
      "IndexError: list index out of range\n",
      "\n",
      "[Case 1] Answer: None, Correct: 8, Solved: False\n",
      "[Result] Solved: 0, Failed: 1\n"
     ]
    }
   ],
   "source": [
    "def solution(A, B, C):\n",
    "    a = list(format(A, 'b'))\n",
    "    b = list(format(B, 'b'))\n",
    "    c = list(format(C, 'b'))\n",
    "    bitmask = ['0'] * 30\n",
    "    \n",
    "    for i in range(30):\n",
    "        if a[i] == b[i] == c[i] == '1':\n",
    "            bitmask[i] = '1'\n",
    "    print(a)\n",
    "    print(b)\n",
    "    print(c)\n",
    "    print(bitmask)\n",
    "    # print(a.count('0'))\n",
    "    # print(a, b, c)\n",
    "    \n",
    "import sys\n",
    "path = sys.path[0]\n",
    "path = path[:path.index('code_test') + 9]\n",
    "if path not in sys.path:\n",
    "    sys.path.append(path)\n",
    "from util.code_test_util import CodeTestUtil\n",
    "code_test_util = CodeTestUtil()\n",
    "code_test_util.set_multi_args(True)\n",
    "code_test_util.solution = solution\n",
    "code_test_util.add_data_case([int('1101', 2), int('1110', 2), int('1100', 2)], 8)\n",
    "# code_test_util.add_data_case([1073741727, 1073741631, 1073741679], 8)\n",
    "code_test_util.run()"
   ]
  }
 ],
 "metadata": {
  "interpreter": {
   "hash": "f9ccdf3afa3dc3e101816fbeb38d5182e8e63e68ddc1acefd7abf85a12f12e7d"
  },
  "kernelspec": {
   "display_name": "Python 3.9.7 64-bit",
   "language": "python",
   "name": "python3"
  },
  "language_info": {
   "codemirror_mode": {
    "name": "ipython",
    "version": 3
   },
   "file_extension": ".py",
   "mimetype": "text/x-python",
   "name": "python",
   "nbconvert_exporter": "python",
   "pygments_lexer": "ipython3",
   "version": "3.9.7"
  },
  "orig_nbformat": 4
 },
 "nbformat": 4,
 "nbformat_minor": 2
}
