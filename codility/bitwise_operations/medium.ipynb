{
 "cells": [
  {
   "cell_type": "markdown",
   "metadata": {},
   "source": [
    "* https://app.codility.com/programmers/trainings/9/count_conforming_bitmasks/\n",
    "\n",
    "```\n",
    "In this problem we consider unsigned 30-bit integers, i.e. all integers B such that 0 ≤ B < 230.\n",
    "\n",
    "We say that integer A conforms to integer B if, in all positions where B has bits set to 1, A has corresponding bits set to 1.\n",
    "\n",
    "For example:\n",
    "\n",
    "00 0000 1111 0111 1101 1110 0000 1111(BIN) = 16,244,239 conforms to\n",
    "00 0000 1100 0110 1101 1110 0000 0001(BIN) = 13,032,961, but\n",
    "11 0000 1101 0111 0000 1010 0000 0101(BIN) = 819,399,173 does not conform to\n",
    "00 0000 1001 0110 0011 0011 0000 1111(BIN) = 9,843,471.\n",
    "Write a function:\n",
    "\n",
    "def solution(A, B, C)\n",
    "\n",
    "that, given three unsigned 30-bit integers A, B and C, returns the number of unsigned 30-bit integers conforming to at least one of the given integers.\n",
    "\n",
    "For example, for integers:\n",
    "\n",
    "A = 11 1111 1111 1111 1111 1111 1001 1111(BIN) = 1,073,741,727,\n",
    "B = 11 1111 1111 1111 1111 1111 0011 1111(BIN) = 1,073,741,631, and\n",
    "C = 11 1111 1111 1111 1111 1111 0110 1111(BIN) = 1,073,741,679,\n",
    "the function should return 8, since there are 8 unsigned 30-bit integers conforming to A, B or C, namely:\n",
    "\n",
    "11 1111 1111 1111 1111 1111 0011 1111(BIN) = 1,073,741,631,\n",
    "11 1111 1111 1111 1111 1111 0110 1111(BIN) = 1,073,741,679,\n",
    "11 1111 1111 1111 1111 1111 0111 1111(BIN) = 1,073,741,695,\n",
    "11 1111 1111 1111 1111 1111 1001 1111(BIN) = 1,073,741,727,\n",
    "11 1111 1111 1111 1111 1111 1011 1111(BIN) = 1,073,741,759,\n",
    "11 1111 1111 1111 1111 1111 1101 1111(BIN) = 1,073,741,791,\n",
    "11 1111 1111 1111 1111 1111 1110 1111(BIN) = 1,073,741,807,\n",
    "11 1111 1111 1111 1111 1111 1111 1111(BIN) = 1,073,741,823.\n",
    "Write an efficient algorithm for the following assumptions:\n",
    "\n",
    "A, B and C are integers within the range [0..1,073,741,823].\n",
    "```\n",
    "\n",
    "### 조건\n",
    "- 부호 없는 30비트 정수, 0 <= B < 2^30\n",
    "- A, B, C의 범위는 0 ~ 1,073,741,823\n",
    "- A conforms to B: B에서 bit가 1인 모든 위치에 대해 A도 모두 1인 경우\n",
    "    - ex) A: 1101, B: 1001 O\n",
    "    - ex) A: 1000, B: 1001 X\n",
    "\n",
    "```\n",
    "A: 1001 => 2**2 = 4\n",
    "B: 1011 => 2**1 = 2\n",
    "C: 1000 => 2**3 = 8\n",
    "\n",
    "A | B: 1011 => 2**1 => 2\n",
    "A | C: 1001 => 2**2 => 4\n",
    "B | C: 1011 => 2**1 => 2\n",
    "\n",
    "A | B | C: 1011 => 2**1 => 2\n",
    "```"
   ]
  },
  {
   "cell_type": "code",
   "execution_count": 93,
   "metadata": {},
   "outputs": [
    {
     "name": "stdout",
     "output_type": "stream",
     "text": [
      "[Case 1] Answer: 536870912, Correct: 8, Solved: False\n",
      "[Case 2] Answer: 268435456, Correct: 4, Solved: False\n",
      "[Case 3] Answer: 8, Correct: 8, Solved: True\n",
      "[Result] Solved: 1, Failed: 2\n"
     ]
    }
   ],
   "source": [
    "BIT_LEN = len(format(1073741823, 'b'))\n",
    "\n",
    "def num_to_bitstr(num):\n",
    "    bit = format(num, 'b')\n",
    "    return ('0' * (BIT_LEN - len(bit)) + bit)\n",
    "\n",
    "def solution(A, B, C):\n",
    "    result = 0\n",
    "    \n",
    "    result += 2 ** num_to_bitstr(A).count('0')\n",
    "    result += 2 ** num_to_bitstr(B).count('0')\n",
    "    result += 2 ** num_to_bitstr(C).count('0')\n",
    "\n",
    "    result -= 2 ** num_to_bitstr(A | B).count('0')\n",
    "    result -= 2 ** num_to_bitstr(A | C).count('0')\n",
    "    result -= 2 ** num_to_bitstr(B | C).count('0')\n",
    "    result += 2 ** num_to_bitstr(A | B | C).count('0')\n",
    "    return result\n",
    "    \n",
    "import sys\n",
    "path = sys.path[0]\n",
    "path = path[:path.index('code_test') + 9]\n",
    "if path not in sys.path:\n",
    "    sys.path.append(path)\n",
    "from util.code_test_util import CodeTestUtil\n",
    "code_test_util = CodeTestUtil()\n",
    "code_test_util.set_multi_args(True)\n",
    "code_test_util.solution = solution\n",
    "code_test_util.add_data_case([int('1001', 2), int('0011', 2), int('0110', 2)], 8)\n",
    "code_test_util.add_data_case([int('1101', 2), int('1110', 2), int('1100', 2)], 4)\n",
    "code_test_util.add_data_case([1073741727, 1073741631, 1073741679], 8)\n",
    "code_test_util.run()"
   ]
  }
 ],
 "metadata": {
  "interpreter": {
   "hash": "f9ccdf3afa3dc3e101816fbeb38d5182e8e63e68ddc1acefd7abf85a12f12e7d"
  },
  "kernelspec": {
   "display_name": "Python 3.9.7 64-bit",
   "language": "python",
   "name": "python3"
  },
  "language_info": {
   "codemirror_mode": {
    "name": "ipython",
    "version": 3
   },
   "file_extension": ".py",
   "mimetype": "text/x-python",
   "name": "python",
   "nbconvert_exporter": "python",
   "pygments_lexer": "ipython3",
   "version": "3.9.7"
  },
  "orig_nbformat": 4
 },
 "nbformat": 4,
 "nbformat_minor": 2
}
