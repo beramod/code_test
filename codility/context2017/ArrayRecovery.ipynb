{
 "cells": [
  {
   "cell_type": "markdown",
   "metadata": {},
   "source": [
    "* https://app.codility.com/programmers/trainings/3/array_recovery/\n",
    "\n",
    "```\n",
    "Bob once had an array A with N elements. Each element was a positive integer not exceeding M.\n",
    "\n",
    "Bob wrote a program to find an array B, defined as follows. For every index J, let's find the biggest index K such that K < J and A[K] < A[J]. Then set B[J] = A[K]. If there is no such index K, then set B[J] = 0. Intuitively, the J-th element of B contains the last value smaller than A[J] that appears before it, or 0 if there is no such element.\n",
    "\n",
    "For example, let A = [2, 5, 3, 7, 9, 6]. Then B = [0, 2, 2, 3, 7, 3]. For instance, B[5] = 3, as A[5] is 6 and the last value before A[5] smaller than 6 is 3.\n",
    "\n",
    "Bob computed an array B and then mistakenly deleted A. He now intends to find every valid array A from which his program would produce B. Count the number of such arrays A. Since the answer could be very big, return it modulo 109+7.\n",
    "\n",
    "Write a function:\n",
    "\n",
    "def solution(B, M)\n",
    "\n",
    "that, given an integer M and an array B with N integers, returns the remainder from the division by 109+7 of the number of valid arrays A from which Bob would get B. You can assume that there is at least one such array.\n",
    "\n",
    "For example, given: M = 4, B = [0, 2, 2] the function should return 3. The possible removed arrays A were [2, 3, 3], [2, 4, 3] and [2, 4, 4].\n",
    "\n",
    "For the following data: M = 10, B = [0, 3, 5, 6] the function should return 4, as the possible arrays A were [3, 5, 6, 7], [3, 5, 6, 8], [3, 5, 6, 9] and [3, 5, 6, 10].\n",
    "\n",
    "For the following data: M = 105, B = [0, 0] there are 5000050000 possible arrays (the first element in array A can be anything in the range 1..105 and the second element can be either equal or smaller), so the function should return 49965 (as we are taking modulo 109+7).\n",
    "\n",
    "Write an efficient algorithm for the following assumptions:\n",
    "\n",
    "N is an integer within the range [1..100,000];\n",
    "M is an integer within the range [1..1,000,000,000];\n",
    "each element of array B is an integer within the range [0..M];\n",
    "there exists at least one valid array A from which Bob would get array B.\n",
    "```\n",
    "\n",
    "### 조건\n",
    "- N개의 요소를 가진 배열 A. 각 원소는 M을 초과하지 않는다.\n",
    "- index K < J 일 때 A[K] < A[J]. 이럴 때 B[J] = A[K]\n",
    "- 위의 조건을 만족하는 index K가 없다면 B[J] = 0\n",
    "- B의 J번째 요소는 A[J] 보다 작은 마지막 값을 포함하거나 해당 요소가 없으면 0을 포함.\n",
    "- 배열 B와 M이 주어졌을 때, 가능한 배열 A의 갯수를 구하시오.\n",
    "- 정답의 수가 클수 있으니 반환시 modulo 10 ** 9 + 7 하여 반환 하시오\n",
    "    - return answer % ((10 ** 9) + 7)"
   ]
  },
  {
   "cell_type": "code",
   "execution_count": 2,
   "metadata": {},
   "outputs": [
    {
     "name": "stdout",
     "output_type": "stream",
     "text": [
      "[Case 1] Answer: 0, Correct: 3, Solved: False\n",
      "[Case 2] Answer: 0, Correct: 4, Solved: False\n",
      "[Case 3] Answer: 0, Correct: 49965, Solved: False\n",
      "[Result] Solved: 0, Failed: 3\n"
     ]
    }
   ],
   "source": [
    "def solution(B, M):\n",
    "    N = len(B)\n",
    "    result = 0\n",
    "    temp = {0: {}}\n",
    "    i = 0\n",
    "\n",
    "    # while i < N - 1:\n",
    "\n",
    "        \n",
    "    #     B[i] < \n",
    "    #     < B[j + 1]\n",
    "    #     A[k]  B[j]\n",
    "        \n",
    "\n",
    "    return result % ((10 ** 9) + 7)\n",
    "    \n",
    "import sys\n",
    "path = sys.path[0]\n",
    "path = path[:path.index('code_test') + 9]\n",
    "if path not in sys.path:\n",
    "    sys.path.append(path)\n",
    "from util.code_test_util import CodeTestUtil\n",
    "code_test_util = CodeTestUtil()\n",
    "code_test_util.set_multi_args(True)\n",
    "code_test_util.solution = solution\n",
    "code_test_util.add_data_case([[0, 2, 2], 4], 3) # [2, 3, 3], [2, 4, 3], [2, 4, 4]\n",
    "# code_test_util.add_data_case([[0, 3, 5, 6], 10], 4) # [3, 5, 6, 7], [3, 5, 6, 8], [3, 5, 6, 9], [3, 5, 6, 10]\n",
    "# code_test_util.add_data_case([[0, 0], 10 ** 5], 49965) # 5000050000\n",
    "code_test_util.run()"
   ]
  }
 ],
 "metadata": {
  "interpreter": {
   "hash": "aee8b7b246df8f9039afb4144a1f6fd8d2ca17a180786b69acc140d282b71a49"
  },
  "kernelspec": {
   "display_name": "Python 3.9.1 64-bit",
   "language": "python",
   "name": "python3"
  },
  "language_info": {
   "codemirror_mode": {
    "name": "ipython",
    "version": 3
   },
   "file_extension": ".py",
   "mimetype": "text/x-python",
   "name": "python",
   "nbconvert_exporter": "python",
   "pygments_lexer": "ipython3",
   "version": "3.9.1"
  },
  "orig_nbformat": 4
 },
 "nbformat": 4,
 "nbformat_minor": 2
}
