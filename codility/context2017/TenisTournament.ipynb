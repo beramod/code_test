{
 "cells": [
  {
   "cell_type": "markdown",
   "metadata": {},
   "source": [
    "* https://app.codility.com/programmers/trainings/3/tennis_tournament/\n",
    "\n",
    "```\n",
    "You are hosting a tennis tournament. P players, who will take part in the first round of this tournament, are already registered and you have reserved C tennis courts for the matches. Exactly two players play in each game and only one game can be played on each court at any given time. You want to host the maximum possible number of games starting at the same time (in order to finish the first round quickly).\n",
    "\n",
    "How many games can be hosted in parallel simultaneously?\n",
    "\n",
    "Write a function:\n",
    "\n",
    "def solution(P, C)\n",
    "\n",
    "that, given the number of players P and the number of reserved courts C, returns the maximum number of games that can be played in parallel.\n",
    "\n",
    "Examples:\n",
    "\n",
    "1. Given P = 5 players and C = 3 available courts, the function should return 2. Two games can be played simultaneously (for instance, the first and second players can play on the first court, and the third and fourth players on the second court, and the third court will be empty because the fifth player does not have a partner to play with).\n",
    "\n",
    "2. Given P = 10 players and C = 3 courts, the function should return 3. At most three games can be hosted in parallel.\n",
    "\n",
    "Assume that:\n",
    "\n",
    "P and C are integers within the range [1..30,000].\n",
    "In your solution, focus on correctness. The performance of your solution will not be the focus of the assessment.\n",
    "```\n",
    "\n",
    "### 조건\n",
    "- 테니스 선수 P와 경기장 수 C가 주어질 때 첫번째 라운드 경기를 치루는 횟수 반환\n",
    "- P와 C의 범위는 1 ~ 30000"
   ]
  },
  {
   "cell_type": "code",
   "execution_count": 7,
   "metadata": {},
   "outputs": [
    {
     "name": "stdout",
     "output_type": "stream",
     "text": [
      "[Case 1] Answer: 1, Correct: 1, Solved: True\n",
      "[Case 2] Answer: 1, Correct: 1, Solved: True\n",
      "[Case 3] Answer: 2, Correct: 2, Solved: True\n",
      "[Case 4] Answer: 3, Correct: 3, Solved: True\n",
      "[Result] Solved: 4, Failed: 0\n"
     ]
    }
   ],
   "source": [
    "def solution(P, C):\n",
    "    group = int(P / 2)\n",
    "    return group if group < C else C\n",
    "    \n",
    "import sys\n",
    "path = sys.path[0]\n",
    "path = path[:path.index('code_test') + 9]\n",
    "if path not in sys.path:\n",
    "    sys.path.append(path)\n",
    "from util.code_test_util import CodeTestUtil\n",
    "code_test_util = CodeTestUtil()\n",
    "code_test_util.set_multi_args(True)\n",
    "code_test_util.solution = solution\n",
    "code_test_util.add_data_case([4, 1], 1)\n",
    "code_test_util.add_data_case([2, 3], 1)\n",
    "code_test_util.add_data_case([5, 3], 2)\n",
    "code_test_util.add_data_case([10, 3], 3)\n",
    "code_test_util.run()"
   ]
  }
 ],
 "metadata": {
  "interpreter": {
   "hash": "aee8b7b246df8f9039afb4144a1f6fd8d2ca17a180786b69acc140d282b71a49"
  },
  "kernelspec": {
   "display_name": "Python 3.9.1 64-bit",
   "language": "python",
   "name": "python3"
  },
  "language_info": {
   "codemirror_mode": {
    "name": "ipython",
    "version": 3
   },
   "file_extension": ".py",
   "mimetype": "text/x-python",
   "name": "python",
   "nbconvert_exporter": "python",
   "pygments_lexer": "ipython3",
   "version": "3.9.1"
  },
  "orig_nbformat": 4
 },
 "nbformat": 4,
 "nbformat_minor": 2
}
