{
 "cells": [
  {
   "cell_type": "markdown",
   "metadata": {},
   "source": [
    "* https://app.codility.com/programmers/trainings/3/diamonds_count/\n",
    "\n",
    "```\n",
    "A diamond is a quadrilateral whose four sides all have the same length and whose diagonals are parallel to the coordinate axes.\n",
    "\n",
    "You are given N distinct points on a plane. Count the number of different diamonds that can be constructed using these points as vertices (two diamonds are different if their sets of vertices are different). Do not count diamonds whose area is empty.\n",
    "\n",
    "Write a function:\n",
    "\n",
    "def solution(X, Y)\n",
    "\n",
    "that, given two arrays X and Y, each containing N integers, representing N points (where X[K], Y[K] are the coordinates of the K-th point), returns the number of diamonds on the plane.\n",
    "\n",
    "For example, for N = 7 points whose coordinates are specified in arrays X = [1, 1, 2, 2, 2, 3, 3] and Y = [3, 4, 1, 3, 5, 3, 4], the function should return 2, since we can find two diamonds as shown in the picture below:\n",
    "\n",
    "\n",
    "\n",
    "Given arrays: X = [1, 2, 3, 3, 2, 1], Y = [1, 1, 1, 2, 2, 2], the function should return 0, since there are no diamonds on the plane:\n",
    "\n",
    "\n",
    "\n",
    "Write an efficient algorithm for the following assumptions:\n",
    "\n",
    "N is an integer within the range [4..1,500];\n",
    "each element of arrays X and Y is an integer within the range [0..N−1];\n",
    "given N points are pairwise distinct.\n",
    "```\n",
    "\n",
    "### 조건\n",
    "- N: 4 ~ 1,500\n",
    "- X, Y: 0 ~ N - 1\n",
    "- N point는 X, Y 각 index 쌍.\n",
    "- 다이아몬드 갯수를 찾아라"
   ]
  },
  {
   "cell_type": "code",
   "execution_count": 1,
   "metadata": {},
   "outputs": [
    {
     "name": "stdout",
     "output_type": "stream",
     "text": [
      "[(1, 3), (1, 4), (2, 1), (2, 3), (2, 5), (3, 3), (3, 4)]\n",
      "[Case 1] Answer: None, Correct: 2, Solved: False\n",
      "[(1, 1), (2, 1), (3, 1), (3, 2), (2, 2), (1, 2)]\n",
      "[Case 2] Answer: None, Correct: 0, Solved: False\n",
      "[Result] Solved: 0, Failed: 2\n"
     ]
    }
   ],
   "source": [
    "from collections import defaultdict\n",
    "\n",
    "def solution(X, Y):\n",
    "    N = len(X)\n",
    "    coords = []\n",
    "    x_map = defaultdict(dict)\n",
    "    y_map = defaultdict(dict)\n",
    "\n",
    "    for i in range(N):\n",
    "        x_map[X[i]][Y[i]] = True\n",
    "        y_map[Y[i]][X[i]] = True\n",
    "        coords.append((X[i], Y[i]))\n",
    "    \n",
    "    for coord in coords:\n",
    "        coord[1]\n",
    "\n",
    "    \n",
    "import sys\n",
    "path = sys.path[0]\n",
    "path = path[:path.index('code_test') + 9]\n",
    "if path not in sys.path:\n",
    "    sys.path.append(path)\n",
    "from util.code_test_util import CodeTestUtil\n",
    "code_test_util = CodeTestUtil()\n",
    "code_test_util.set_multi_args(True)\n",
    "code_test_util.solution = solution\n",
    "code_test_util.add_data_case([[1, 1, 2, 2, 2, 3, 3], [3, 4, 1, 3, 5, 3, 4]], 2)\n",
    "code_test_util.add_data_case([[1, 2, 3, 3, 2, 1], [1, 1, 1, 2, 2, 2]], 0)\n",
    "\n",
    "code_test_util.run()"
   ]
  }
 ],
 "metadata": {
  "interpreter": {
   "hash": "aee8b7b246df8f9039afb4144a1f6fd8d2ca17a180786b69acc140d282b71a49"
  },
  "kernelspec": {
   "display_name": "Python 3.9.1 64-bit",
   "language": "python",
   "name": "python3"
  },
  "language_info": {
   "codemirror_mode": {
    "name": "ipython",
    "version": 3
   },
   "file_extension": ".py",
   "mimetype": "text/x-python",
   "name": "python",
   "nbconvert_exporter": "python",
   "pygments_lexer": "ipython3",
   "version": "3.9.1"
  },
  "orig_nbformat": 4
 },
 "nbformat": 4,
 "nbformat_minor": 2
}
