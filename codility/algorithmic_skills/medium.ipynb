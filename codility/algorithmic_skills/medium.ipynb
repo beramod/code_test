{
 "cells": [
  {
   "cell_type": "markdown",
   "metadata": {},
   "source": [
    "* https://app.codility.com/programmers/trainings/4/array_inversion_count/\n",
    "\n",
    "```\n",
    "An array A consisting of N integers is given. An inversion is a pair of indexes (P, Q) such that P < Q and A[Q] < A[P].\n",
    "\n",
    "Write a function:\n",
    "\n",
    "class Solution { public int solution(int[] A); }\n",
    "\n",
    "that computes the number of inversions in A, or returns −1 if it exceeds 1,000,000,000.\n",
    "\n",
    "For example, in the following array:\n",
    "\n",
    " A[0] = -1 A[1] = 6 A[2] = 3\n",
    " A[3] =  4 A[4] = 7 A[5] = 4\n",
    "there are four inversions:\n",
    "\n",
    "   (1,2)  (1,3)  (1,5)  (4,5)\n",
    "so the function should return 4.\n",
    "\n",
    "Write an efficient algorithm for the following assumptions:\n",
    "\n",
    "N is an integer within the range [0..100,000];\n",
    "each element of array A is an integer within the range [−2,147,483,648..2,147,483,647].\n",
    "```\n",
    "\n",
    "### 조건\n",
    "- index pair (P, Q)가 주어질 때, P < Q 라면 A[Q] < A[P] 여야한다.\n",
    "- 주어진 배열로 만들 수 있는 index pair의 수를 반환하라\n",
    "- 페어가 없다면 -1\n",
    "- 배열의 길이는 0 ~ 100,000\n",
    "- 정수의 범위는 -2,147,483,648 ~ 2,147,483,647\n",
    "\n",
    "### 풀이\n",
    "- merge sort 사용\n",
    "- merge sort가 수행될 때 오른쪽에 있는것이 왼쪽으로 오는 경우가 있다면 index pair 조건이 만족되는 것\n",
    "- mid - l을 하는 이유는 오른쪽것이 넘어올 때 아직 정렬되지 않은 왼쪽 배열이 남은 만큼 조건이 만족되기 때문\n",
    "   - ex) 원형: [1, 4, 5, 2, 3, 6] => left: [1, 4, 5] right [2, 3, 6] 이라면, 2와 pair를 이룰 수 있는건 4, 5이다."
   ]
  },
  {
   "cell_type": "code",
   "execution_count": 14,
   "metadata": {},
   "outputs": [
    {
     "name": "stdout",
     "output_type": "stream",
     "text": [
      "4\n",
      "17\n",
      "0\n",
      "0\n",
      "0\n",
      "0\n"
     ]
    }
   ],
   "source": [
    "## O(nlogn) <- merge sort\n",
    "def solution(A):\n",
    "    def sort(left, right):\n",
    "        count = 0\n",
    "\n",
    "        if right - left > 1:\n",
    "            mid = (left + right) // 2\n",
    "            count += sort(left, mid)\n",
    "            count += sort(mid, right)\n",
    "            count += merge(left, mid, right)\n",
    "        return count\n",
    "\n",
    "    def merge(left, mid, right):\n",
    "        temp = []\n",
    "        l, r = left, mid\n",
    "        count = 0\n",
    "\n",
    "        while l < mid and r < right:\n",
    "            if A[l] <= A[r]:\n",
    "                temp.append(A[l])\n",
    "                l += 1\n",
    "            else:\n",
    "                temp.append(A[r])\n",
    "                count += mid - l\n",
    "                r += 1\n",
    "\n",
    "        while l < mid:\n",
    "            temp.append(A[l])\n",
    "            l += 1\n",
    "        \n",
    "        while r < right:\n",
    "            temp.append(A[r])\n",
    "            r += 1\n",
    "\n",
    "        for i in range(left, right):\n",
    "            A[i] = temp[i - left]\n",
    "        return count\n",
    "    count = sort(0, len(A))\n",
    "    return -1 if count > 1000000000 else count\n",
    "\n",
    "data_cases = [\n",
    "    [-1, 6, 3, 4, 7, 4], # 4\n",
    "    [7, 9, 2, 1, 4, 6, 5, 3], # 17\n",
    "    [], # 0\n",
    "    [0], # 0\n",
    "    [1, 2, 3], # 0\n",
    "    [1, 1, 1], # 0\n",
    "]\n",
    "\n",
    "for data_case in data_cases:\n",
    "    print(solution(data_case))"
   ]
  },
  {
   "cell_type": "code",
   "execution_count": 10,
   "metadata": {},
   "outputs": [
    {
     "name": "stdout",
     "output_type": "stream",
     "text": [
      "4\n",
      "17\n"
     ]
    }
   ],
   "source": [
    "## O(n^2). timeout...\n",
    "def solution(A):\n",
    "    result = 0\n",
    "    len_a = len(A)\n",
    "\n",
    "    for i in range(len_a):\n",
    "        for ri in range(i, len_a):\n",
    "            if A[i] > A[ri]:\n",
    "                result += 1\n",
    "            if result > 1000000000:\n",
    "                return -1\n",
    "    return result\n",
    "\n",
    "data_cases = [\n",
    "    [-1, 6, 3, 4, 7, 4],\n",
    "    [7, 9, 2, 1, 4, 6, 5, 3],\n",
    "]\n",
    "\n",
    "for data_case in data_cases:\n",
    "    print(solution(data_case))"
   ]
  }
 ],
 "metadata": {
  "interpreter": {
   "hash": "aee8b7b246df8f9039afb4144a1f6fd8d2ca17a180786b69acc140d282b71a49"
  },
  "kernelspec": {
   "display_name": "Python 3.9.1 64-bit",
   "language": "python",
   "name": "python3"
  },
  "language_info": {
   "codemirror_mode": {
    "name": "ipython",
    "version": 3
   },
   "file_extension": ".py",
   "mimetype": "text/x-python",
   "name": "python",
   "nbconvert_exporter": "python",
   "pygments_lexer": "ipython3",
   "version": "3.9.1"
  },
  "orig_nbformat": 4
 },
 "nbformat": 4,
 "nbformat_minor": 2
}
