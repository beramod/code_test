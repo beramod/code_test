{
 "cells": [
  {
   "cell_type": "markdown",
   "metadata": {},
   "source": [
    "* https://app.codility.com/programmers/trainings/4/polygon_concavity_index/\n",
    "\n",
    "```\n",
    "An array A of points in a 2D plane is given. These points represent a polygon: every two consecutive points describe an edge of the polygon, and there is an edge connecting the last point and the first point in the array.\n",
    "\n",
    "A set of points in a 2D plane, whose boundary is a straight line, is called a semiplane. More precisely, any set of the form {(x, y) : ax + by ≥ c} is a semiplane. The semiplane contains its boundary.\n",
    "\n",
    "A polygon is convex if and only if, no line segment between two points on the boundary ever goes outside the polygon.\n",
    "\n",
    "For example, the polygon consisting of vertices whose Cartesian coordinates are consecutively:\n",
    "\n",
    "  (-1, 3)   (3, 1)   (0, -1)   (-2, 1)\n",
    "is convex.\n",
    "\n",
    "\n",
    "\n",
    "The convex hull of a finite set of points in a 2D plane is the smallest convex polygon that contains all points in this set. For example, the convex hull of a set consisting of seven points whose Cartesian coordinates are:\n",
    "\n",
    "  (-1, 3)   (1, 2)   (3, 1)   (1, 1)   (0, -1)   (-2, 1)  (-1, 2)\n",
    "is a polygon that has five vertices. When traversed clockwise, its vertices are:\n",
    "\n",
    "  (-1, 3)   (1, 2)   (3, 1)   (0, -1)   (-2, 1)\n",
    "\n",
    "\n",
    "If a polygon is concave (that is, it is not convex), it has a vertex which does not lie on its convex hull border. Your assignment is to find such a vertex.\n",
    "\n",
    "Assume that the following declarations are given:\n",
    "\n",
    "class Point2D {\n",
    "  public int x;\n",
    "  public int y;\n",
    "}\n",
    "\n",
    "Write a function:\n",
    "\n",
    "class Solution { public int solution(Point2D[] A); }\n",
    "\n",
    "that, given a non-empty array A consisting of N elements describing a polygon, returns −1 if the polygon is convex. Otherwise, the function should return the index of any point that doesn't belong to the convex hull border. Note that consecutive edges of the polygon may be collinear (that is, the polygon might have 180−degrees angles).\n",
    "\n",
    "To access the coordinates of the K-th point (where 0 ≤ K < N), use the following syntax:\n",
    "\n",
    "A[K].x to access the x-coordinate,\n",
    "A[K].y to access the y-coordinate.\n",
    "For example, given array A such that:\n",
    "\n",
    "  A[0].x = -1  A[0].y =  3\n",
    "  A[1].x =  1  A[1].y =  2\n",
    "  A[2].x =  3  A[2].y =  1\n",
    "  A[3].x =  0  A[3].y = -1\n",
    "  A[4].x = -2  A[4].y =  1\n",
    "the function should return −1, as explained in the example above.\n",
    "\n",
    "However, given array A such that:\n",
    "\n",
    "  A[0].x = -1  A[0].y =  3\n",
    "  A[1].x =  1  A[1].y =  2\n",
    "  A[2].x =  1  A[2].y =  1\n",
    "  A[3].x =  3  A[3].y =  1\n",
    "  A[4].x =  0  A[4].y = -1\n",
    "  A[5].x = -2  A[5].y =  1\n",
    "  A[6].x = -1  A[6].y =  2\n",
    "the function should return either 2 or 6. These are the indices of the polygon lying strictly in its convex hull (that is, not on the convex hull border).\n",
    "\n",
    "\n",
    "\n",
    "Write an efficient algorithm for the following assumptions:\n",
    "\n",
    "N is an integer within the range [3..10,000];\n",
    "the coordinates of each point in array A are integers within the range [−1,000,000,000..1,000,000,000];\n",
    "no two edges of the polygon A intersect, other than meeting at their endpoints;\n",
    "array A does not contain duplicate points.\n",
    "```\n",
    "\n",
    "### 조건\n",
    "- 볼록다각형: 모든 내각이 180미만인 다각형\n",
    "- 오목다각형: 하나 이상의 내각이 180이상인 다각형\n",
    "- 볼록다각형을 그렸을 때 다각형 내부에 위치하는 좌표의 수...?"
   ]
  },
  {
   "cell_type": "code",
   "execution_count": 1,
   "metadata": {},
   "outputs": [
    {
     "name": "stdout",
     "output_type": "stream",
     "text": [
      "[<__main__.Point2D object at 0x10d4dfbb0>, <__main__.Point2D object at 0x10d4dfd60>, <__main__.Point2D object at 0x10d4dfe80>, <__main__.Point2D object at 0x10d4dfb50>]\n",
      "None\n"
     ]
    }
   ],
   "source": [
    "class Point2D:\n",
    "    def __init__(self, x, y) -> None:\n",
    "        self.x = x\n",
    "        self.y = y\n",
    "\n",
    "def solution(A):\n",
    "    pass\n",
    "\n",
    "data_cases = [\n",
    "    [(-1, 3), (3, 1), (0, -1), (-2, 1)], # -1\n",
    "    [(-1, 3), (1, 2), (3, 1), (1, 1), (0, -1), (-2, 1), (-1, 2)], # 2 or 6\n",
    "]\n",
    "\n",
    "for data_case in data_cases:\n",
    "    points = []\n",
    "    for each in data_case:\n",
    "        point = Point2D(each[0], each[1])\n",
    "        points.append(point)\n",
    "    print(solution(points))\n"
   ]
  }
 ],
 "metadata": {
  "interpreter": {
   "hash": "aee8b7b246df8f9039afb4144a1f6fd8d2ca17a180786b69acc140d282b71a49"
  },
  "kernelspec": {
   "display_name": "Python 3.9.1 64-bit",
   "language": "python",
   "name": "python3"
  },
  "language_info": {
   "codemirror_mode": {
    "name": "ipython",
    "version": 3
   },
   "file_extension": ".py",
   "mimetype": "text/x-python",
   "name": "python",
   "nbconvert_exporter": "python",
   "pygments_lexer": "ipython3",
   "version": "3.9.1"
  },
  "orig_nbformat": 4
 },
 "nbformat": 4,
 "nbformat_minor": 2
}
