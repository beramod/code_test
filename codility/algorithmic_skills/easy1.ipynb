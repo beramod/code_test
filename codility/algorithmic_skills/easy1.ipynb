{
 "cells": [
  {
   "cell_type": "markdown",
   "metadata": {},
   "source": [
    "* https://app.codility.com/programmers/trainings/4/first_unique/\n",
    "\n",
    "```\n",
    "A non-empty array A consisting of N integers is given. The unique number is the number that occurs exactly once in array A.\n",
    "\n",
    "For example, the following array A:\n",
    "\n",
    "  A[0] = 4\n",
    "  A[1] = 10\n",
    "  A[2] = 5\n",
    "  A[3] = 4\n",
    "  A[4] = 2\n",
    "  A[5] = 10\n",
    "contains two unique numbers (5 and 2).\n",
    "\n",
    "You should find the first unique number in A. In other words, find the unique number with the lowest position in A.\n",
    "\n",
    "For above example, 5 is in second position (because A[2] = 5) and 2 is in fourth position (because A[4] = 2). So, the first unique number is 5.\n",
    "\n",
    "Write a function:\n",
    "\n",
    "class Solution { public int solution(int[] A); }\n",
    "\n",
    "that, given a non-empty array A of N integers, returns the first unique number in A. The function should return −1 if there are no unique numbers in A.\n",
    "\n",
    "For example, given:\n",
    "\n",
    "  A[0] = 1\n",
    "  A[1] = 4\n",
    "  A[2] = 3\n",
    "  A[3] = 3\n",
    "  A[4] = 1\n",
    "  A[5] = 2\n",
    "the function should return 4. There are two unique numbers (4 and 2 occur exactly once). The first one is 4 in position 1 and the second one is 2 in position 5. The function should return 4 bacause it is unique number with the lowest position.\n",
    "\n",
    "Given array A such that:\n",
    "\n",
    "  A[0] = 6\n",
    "  A[1] = 4\n",
    "  A[2] = 4\n",
    "  A[3] = 6\n",
    "the function should return −1. There is no unique number in A (4 and 6 occur more than once).\n",
    "\n",
    "Write an efficient algorithm for the following assumptions:\n",
    "\n",
    "N is an integer within the range [1..100,000];\n",
    "each element of array A is an integer within the range [0..1,000,000,000].\n",
    "```\n",
    "\n",
    "### 조건\n",
    "- 배열에서 가장 앞에 위치한 중복되지 않은 고유번호를 찾아 반환\n",
    "- 고유번호가 없으면 -1 반환"
   ]
  },
  {
   "cell_type": "code",
   "execution_count": 4,
   "metadata": {},
   "outputs": [
    {
     "name": "stdout",
     "output_type": "stream",
     "text": [
      "5\n",
      "4\n",
      "-1\n"
     ]
    }
   ],
   "source": [
    "from collections import defaultdict\n",
    "\n",
    "def solution(A):\n",
    "    num_map = defaultdict(int)\n",
    "    for n in A:\n",
    "        num_map[n] += 1\n",
    "    for n in A:\n",
    "        if num_map.get(n) == 1:\n",
    "            return n\n",
    "    return -1\n",
    "\n",
    "data_cases = [\n",
    "    [4, 10, 5, 4, 2, 10], # 5\n",
    "    [1, 4, 3, 3, 1, 2], # 4\n",
    "    [6, 4, 4, 6], # -1\n",
    "]\n",
    "\n",
    "for data_case in data_cases:\n",
    "    print(solution(data_case))"
   ]
  }
 ],
 "metadata": {
  "interpreter": {
   "hash": "aee8b7b246df8f9039afb4144a1f6fd8d2ca17a180786b69acc140d282b71a49"
  },
  "kernelspec": {
   "display_name": "Python 3.9.1 64-bit",
   "language": "python",
   "name": "python3"
  },
  "language_info": {
   "codemirror_mode": {
    "name": "ipython",
    "version": 3
   },
   "file_extension": ".py",
   "mimetype": "text/x-python",
   "name": "python",
   "nbconvert_exporter": "python",
   "pygments_lexer": "ipython3",
   "version": "3.9.1"
  },
  "orig_nbformat": 4
 },
 "nbformat": 4,
 "nbformat_minor": 2
}
