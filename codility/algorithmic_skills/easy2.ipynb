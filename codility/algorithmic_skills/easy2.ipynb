{
 "cells": [
  {
   "cell_type": "markdown",
   "metadata": {},
   "source": [
    "* https://app.codility.com/programmers/trainings/4/str_symmetry_point/\n",
    "\n",
    "```\n",
    "Write a function:\n",
    "\n",
    "class Solution { public int solution(String S); }\n",
    "\n",
    "that, given a string S, returns the index (counting from 0) of a character such that the part of the string to the left of that character is a reversal of the part of the string to its right. The function should return −1 if no such index exists.\n",
    "\n",
    "Note: reversing an empty string (i.e. a string whose length is zero) gives an empty string.\n",
    "\n",
    "For example, given a string:\n",
    "\n",
    "\"racecar\"\n",
    "\n",
    "the function should return 3, because the substring to the left of the character \"e\" at index 3 is \"rac\", and the one to the right is \"car\".\n",
    "\n",
    "Given a string:\n",
    "\n",
    "\"x\"\n",
    "\n",
    "the function should return 0, because both substrings are empty.\n",
    "\n",
    "Write an efficient algorithm for the following assumptions:\n",
    "\n",
    "the length of S is within the range [0..2,000,000].\n",
    "```\n",
    "\n",
    "### 조건\n",
    "- 문자열에서 왼쪽의 부분 문자열이 오른쪽의 부분 문자열의 반전이 되는 지점의 index를 반환\n",
    "- 빈 문자열의 반전은 빈 문자열임\n",
    "- 없다면 -1 반환\n",
    "- 부분 문자열은 각 좌우 끝에서부터 시작 해야함\n",
    "- 문자열의 길이는 0 ~ 2,000,000\n",
    "\n",
    "### 풀이\n",
    "- 문자열은 반드시 좌우 끝에서 시작해야하고 문자열의 길이는 반드시 홀수여야 한다.\n",
    "- 무조건 중간에서부터 시작해서 좌, 우로 뻗어갈 때 하나라도 틀린 문자가 있으면 안됨"
   ]
  },
  {
   "cell_type": "code",
   "execution_count": 19,
   "metadata": {},
   "outputs": [
    {
     "name": "stdout",
     "output_type": "stream",
     "text": [
      "3\n",
      "-1\n",
      "0\n"
     ]
    }
   ],
   "source": [
    "def solution(S):\n",
    "    str_len = len(S)\n",
    "    if str_len == 1:\n",
    "        return 0\n",
    "    if str_len % 2 == 0:\n",
    "        return -1\n",
    "\n",
    "    mid = str_len // 2\n",
    "    \n",
    "    for i in range(0, mid):\n",
    "        if S[i] != S[-(i + 1)]:\n",
    "            return -1\n",
    "    return mid\n",
    "        \n",
    "\n",
    "data_cases = [\n",
    "    'racecar', # 3\n",
    "    'asda', # -1\n",
    "    'x', # 0\n",
    "]\n",
    "\n",
    "for data_case in data_cases:\n",
    "    print(solution(data_case))"
   ]
  }
 ],
 "metadata": {
  "interpreter": {
   "hash": "aee8b7b246df8f9039afb4144a1f6fd8d2ca17a180786b69acc140d282b71a49"
  },
  "kernelspec": {
   "display_name": "Python 3.9.1 64-bit",
   "language": "python",
   "name": "python3"
  },
  "language_info": {
   "codemirror_mode": {
    "name": "ipython",
    "version": 3
   },
   "file_extension": ".py",
   "mimetype": "text/x-python",
   "name": "python",
   "nbconvert_exporter": "python",
   "pygments_lexer": "ipython3",
   "version": "3.9.1"
  },
  "orig_nbformat": 4
 },
 "nbformat": 4,
 "nbformat_minor": 2
}
