{
 "cells": [
  {
   "cell_type": "markdown",
   "metadata": {},
   "source": [
    "* https://app.codility.com/programmers/trainings/4/disappearing_pairs/\n",
    "\n",
    "```\n",
    "A string S containing only the letters \"A\", \"B\" and \"C\" is given. The string can be transformed by removing one occurrence of \"AA\", \"BB\" or \"CC\".\n",
    "\n",
    "Transformation of the string is the process of removing letters from it, based on the rules described above. As long as at least one rule can be applied, the process should be repeated. If more than one rule can be used, any one of them could be chosen.\n",
    "\n",
    "Write a function:\n",
    "\n",
    "class Solution { public String solution(String S); }\n",
    "\n",
    "that, given a string S consisting of N characters, returns any string that can result from a sequence of transformations as described above.\n",
    "\n",
    "For example, given string S = \"ACCAABBC\" the function may return \"AC\", because one of the possible sequences of transformations is as follows:\n",
    "\n",
    "\n",
    "\n",
    "Also, given string S = \"ABCBBCBA\" the function may return \"\", because one possible sequence of transformations is:\n",
    "\n",
    "\n",
    "\n",
    "Finally, for string S = \"BABABA\" the function must return \"BABABA\", because no rules can be applied to string S.\n",
    "\n",
    "Write an efficient algorithm for the following assumptions:\n",
    "\n",
    "the length of S is within the range [0..50,000];\n",
    "string S consists only of the following characters: \"A\", \"B\" and/or \"C\".\n",
    "```\n",
    "\n",
    "### 조건\n",
    "- S는 A, B, C로만 이루어져있다.\n",
    "- 같은 문자가 연속된 경우 삭제\n",
    "- 최종적으로 남은 문자 반환\n",
    "- 문자열의 길이는 0 ~ 50,000\n",
    "\n",
    "### 풀이\n",
    "- 그냥 stack에 하나씩 넣어가며 문자열이 같을땐 빼고 넣기"
   ]
  },
  {
   "cell_type": "code",
   "execution_count": 3,
   "metadata": {},
   "outputs": [
    {
     "name": "stdout",
     "output_type": "stream",
     "text": [
      "ACABC\n",
      "ABCBCBA\n"
     ]
    }
   ],
   "source": [
    "def solution(S):\n",
    "    stack = []\n",
    "    for c in S:\n",
    "        if stack and stack[-1] == c:\n",
    "            stack.pop()\n",
    "            continue\n",
    "        stack.append(c)\n",
    "    return ''.join(stack)\n",
    "\n",
    "data_cases = [\n",
    "    'ACCAABBC', # AC\n",
    "    'ABCBBCBA', # ''\n",
    "]\n",
    "\n",
    "for data_case in data_cases:\n",
    "    print(solution(data_case))"
   ]
  },
  {
   "cell_type": "code",
   "execution_count": 10,
   "metadata": {},
   "outputs": [
    {
     "name": "stdout",
     "output_type": "stream",
     "text": [
      "AC\n",
      "\n"
     ]
    }
   ],
   "source": [
    "## O(2^N). timeout T_T\n",
    "def solution(S):\n",
    "    tokens = ['AA', 'BB', 'CC']\n",
    "\n",
    "    while True:\n",
    "        stop = True\n",
    "        for token in tokens:\n",
    "            if token in S:\n",
    "                S = S.replace(token, '', 1)\n",
    "                stop = False\n",
    "                break\n",
    "        if stop:\n",
    "            return S\n",
    "\n",
    "data_cases = [\n",
    "    'ACCAABBC', # AC\n",
    "    'ABCBBCBA', ## ''\n",
    "]\n",
    "\n",
    "for data_case in data_cases:\n",
    "    print(solution(data_case))"
   ]
  }
 ],
 "metadata": {
  "interpreter": {
   "hash": "aee8b7b246df8f9039afb4144a1f6fd8d2ca17a180786b69acc140d282b71a49"
  },
  "kernelspec": {
   "display_name": "Python 3.9.1 64-bit",
   "language": "python",
   "name": "python3"
  },
  "language_info": {
   "codemirror_mode": {
    "name": "ipython",
    "version": 3
   },
   "file_extension": ".py",
   "mimetype": "text/x-python",
   "name": "python",
   "nbconvert_exporter": "python",
   "pygments_lexer": "ipython3",
   "version": "3.9.7"
  },
  "orig_nbformat": 4
 },
 "nbformat": 4,
 "nbformat_minor": 2
}
