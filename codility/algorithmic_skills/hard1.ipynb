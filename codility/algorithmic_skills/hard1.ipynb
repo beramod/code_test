{
 "cells": [
  {
   "cell_type": "markdown",
   "metadata": {},
   "source": [
    "* https://app.codility.com/programmers/trainings/4/disappearing_pairs/\n",
    "\n",
    "```\n",
    "A string S containing only the letters \"A\", \"B\" and \"C\" is given. The string can be transformed by removing one occurrence of \"AA\", \"BB\" or \"CC\".\n",
    "\n",
    "Transformation of the string is the process of removing letters from it, based on the rules described above. As long as at least one rule can be applied, the process should be repeated. If more than one rule can be used, any one of them could be chosen.\n",
    "\n",
    "Write a function:\n",
    "\n",
    "class Solution { public String solution(String S); }\n",
    "\n",
    "that, given a string S consisting of N characters, returns any string that can result from a sequence of transformations as described above.\n",
    "\n",
    "For example, given string S = \"ACCAABBC\" the function may return \"AC\", because one of the possible sequences of transformations is as follows:\n",
    "\n",
    "\n",
    "\n",
    "Also, given string S = \"ABCBBCBA\" the function may return \"\", because one possible sequence of transformations is:\n",
    "\n",
    "\n",
    "\n",
    "Finally, for string S = \"BABABA\" the function must return \"BABABA\", because no rules can be applied to string S.\n",
    "\n",
    "Write an efficient algorithm for the following assumptions:\n",
    "\n",
    "the length of S is within the range [0..50,000];\n",
    "string S consists only of the following characters: \"A\", \"B\" and/or \"C\".\n",
    "```\n",
    "\n",
    "### 조건\n",
    "- S는 A, B, C로만 이루어져있다.\n",
    "- 같은 문자가 연속된 경우 삭제\n",
    "- 최종적으로 남은 문자 반환\n",
    "- 문자열의 길이는 0 ~ 50,000\n"
   ]
  },
  {
   "cell_type": "code",
   "execution_count": null,
   "metadata": {},
   "outputs": [],
   "source": [
    "def solution(S):\n",
    "    pass\n",
    "\n",
    "data_cases = [\n",
    "    'ACCABBC', # AC\n",
    "]\n",
    "\n",
    "for data_case in data_cases:\n",
    "    print(solution(data_case))"
   ]
  }
 ],
 "metadata": {
  "language_info": {
   "name": "python"
  },
  "orig_nbformat": 4
 },
 "nbformat": 4,
 "nbformat_minor": 2
}
