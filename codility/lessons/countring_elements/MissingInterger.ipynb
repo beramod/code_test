{
 "cells": [
  {
   "cell_type": "markdown",
   "metadata": {},
   "source": [
    "* https://app.codility.com/programmers/lessons/4-counting_elements/missing_integer/\n",
    "\n",
    "```\n",
    "This is a demo task.\n",
    "\n",
    "Write a function:\n",
    "\n",
    "def solution(A)\n",
    "\n",
    "that, given an array A of N integers, returns the smallest positive integer (greater than 0) that does not occur in A.\n",
    "\n",
    "For example, given A = [1, 3, 6, 4, 1, 2], the function should return 5.\n",
    "\n",
    "Given A = [1, 2, 3], the function should return 4.\n",
    "\n",
    "Given A = [−1, −3], the function should return 1.\n",
    "\n",
    "Write an efficient algorithm for the following assumptions:\n",
    "\n",
    "N is an integer within the range [1..100,000];\n",
    "each element of array A is an integer within the range [−1,000,000..1,000,000].\n",
    "```\n",
    "\n",
    "### 조건\n",
    "- N의 범위: 1 ~ 100,000\n",
    "- N개의 요소를 가진 A의 요소 범위: -1,000,000 ~ 1,000,000\n",
    "- A에 존재하지 않는 가장 작은 양의 정수를 반환하라.\n",
    "\n",
    "### 풀이\n",
    "- 양의 정수만 필터하고 sort한 뒤 순차적으로 찾다가 연속되지 않을 때 이전값 + 1"
   ]
  },
  {
   "cell_type": "code",
   "execution_count": 2,
   "metadata": {},
   "outputs": [
    {
     "name": "stdout",
     "output_type": "stream",
     "text": [
      "[Case 1] Answer: 5, Correct: 5, Solved: True\n",
      "[Case 2] Answer: 4, Correct: 4, Solved: True\n",
      "[Case 3] Answer: 1, Correct: 1, Solved: True\n",
      "[Result] Solved: 3, Failed: 0\n"
     ]
    }
   ],
   "source": [
    "def solution(A):\n",
    "    A = list(filter(lambda el: el >= 0, A))\n",
    "    if len(A) == 0:\n",
    "        return 1\n",
    "    \n",
    "    len_a = len(A)\n",
    "    A.sort()\n",
    "    \n",
    "    if A[0] > 1:\n",
    "        return 1\n",
    "    \n",
    "    for i in range(len_a - 1):\n",
    "        if A[i] + 1 < A[i + 1]:\n",
    "            return A[i] + 1\n",
    "\n",
    "    return A[len_a - 1] + 1\n",
    "    \n",
    "import sys\n",
    "path = sys.path[0]\n",
    "path = path[:path.index('code_test') + 9]\n",
    "if path not in sys.path:\n",
    "    sys.path.append(path)\n",
    "from util.code_test_util import CodeTestUtil\n",
    "code_test_util = CodeTestUtil()\n",
    "code_test_util.set_multi_args(False)\n",
    "code_test_util.solution = solution\n",
    "code_test_util.add_data_case([1, 3, 6, 4, 1, 2], 5)\n",
    "code_test_util.add_data_case([1, 2, 3], 4)\n",
    "code_test_util.add_data_case([-1, -3], 1)\n",
    "code_test_util.run()"
   ]
  }
 ],
 "metadata": {
  "interpreter": {
   "hash": "f9ccdf3afa3dc3e101816fbeb38d5182e8e63e68ddc1acefd7abf85a12f12e7d"
  },
  "kernelspec": {
   "display_name": "Python 3.9.7 64-bit",
   "language": "python",
   "name": "python3"
  },
  "language_info": {
   "codemirror_mode": {
    "name": "ipython",
    "version": 3
   },
   "file_extension": ".py",
   "mimetype": "text/x-python",
   "name": "python",
   "nbconvert_exporter": "python",
   "pygments_lexer": "ipython3",
   "version": "3.9.7"
  },
  "orig_nbformat": 4
 },
 "nbformat": 4,
 "nbformat_minor": 2
}
