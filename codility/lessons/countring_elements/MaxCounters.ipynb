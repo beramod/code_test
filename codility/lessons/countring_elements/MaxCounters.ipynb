{
 "cells": [
  {
   "cell_type": "markdown",
   "metadata": {},
   "source": [
    "* https://app.codility.com/programmers/lessons/4-counting_elements/max_counters/\n",
    "\n",
    "```\n",
    "You are given N counters, initially set to 0, and you have two possible operations on them:\n",
    "\n",
    "increase(X) − counter X is increased by 1,\n",
    "max counter − all counters are set to the maximum value of any counter.\n",
    "A non-empty array A of M integers is given. This array represents consecutive operations:\n",
    "\n",
    "if A[K] = X, such that 1 ≤ X ≤ N, then operation K is increase(X),\n",
    "if A[K] = N + 1 then operation K is max counter.\n",
    "For example, given integer N = 5 and array A such that:\n",
    "\n",
    "    A[0] = 3\n",
    "    A[1] = 4\n",
    "    A[2] = 4\n",
    "    A[3] = 6\n",
    "    A[4] = 1\n",
    "    A[5] = 4\n",
    "    A[6] = 4\n",
    "the values of the counters after each consecutive operation will be:\n",
    "\n",
    "    (0, 0, 1, 0, 0)\n",
    "    (0, 0, 1, 1, 0)\n",
    "    (0, 0, 1, 2, 0)\n",
    "    (2, 2, 2, 2, 2)\n",
    "    (3, 2, 2, 2, 2)\n",
    "    (3, 2, 2, 3, 2)\n",
    "    (3, 2, 2, 4, 2)\n",
    "The goal is to calculate the value of every counter after all operations.\n",
    "\n",
    "Write a function:\n",
    "\n",
    "def solution(N, A)\n",
    "\n",
    "that, given an integer N and a non-empty array A consisting of M integers, returns a sequence of integers representing the values of the counters.\n",
    "\n",
    "Result array should be returned as an array of integers.\n",
    "\n",
    "For example, given:\n",
    "\n",
    "    A[0] = 3\n",
    "    A[1] = 4\n",
    "    A[2] = 4\n",
    "    A[3] = 6\n",
    "    A[4] = 1\n",
    "    A[5] = 4\n",
    "    A[6] = 4\n",
    "the function should return [3, 2, 2, 4, 2], as explained above.\n",
    "\n",
    "Write an efficient algorithm for the following assumptions:\n",
    "\n",
    "N and M are integers within the range [1..100,000];\n",
    "each element of array A is an integer within the range [1..N + 1].\n",
    "```\n",
    "\n",
    "### 조건\n",
    "- 0으로 설정된 N개의 카운터와 M개의 정수를 포함하는 배열 A가 제공된다.\n",
    "- increase(X) - X 카운터가 1 증가\n",
    "- max counter - 모든 카운터의 값을 카운터중 가장 큰 값으로 설정\n",
    "- operation K에 대해\n",
    "    - if A[K] = X, 1 <= X <= N, operation K는 increase(X)\n",
    "    - if A[K] = N + 1 이면 K는 max counter\n",
    "- N, M: [1 ~ 100,000]\n",
    "- A의 요소: [1 ~ N + 1]"
   ]
  },
  {
   "cell_type": "code",
   "execution_count": 15,
   "metadata": {},
   "outputs": [
    {
     "name": "stdout",
     "output_type": "stream",
     "text": [
      "[Case 1] Answer: [1], Correct: [2], Solved: False\n",
      "[Case 2] Answer: [3, 2, 2, 4, 2], Correct: [3, 2, 2, 4, 2], Solved: True\n",
      "[Case 3] Answer: [1, 2, 2], Correct: [1, 2, 2], Solved: True\n",
      "[Case 4] Answer: [0, 0, 0, 0], Correct: [0, 0, 0, 0], Solved: True\n",
      "[Result] Solved: 3, Failed: 1\n"
     ]
    }
   ],
   "source": [
    "def solution(N, A):\n",
    "    counters = [0] * N\n",
    "    if A.count(N + 1) == len(A):\n",
    "        return counters\n",
    "    max_v = 0\n",
    "    for a in A:\n",
    "        if a > N:\n",
    "            counters = [max_v] * N\n",
    "        else:\n",
    "            counters[a - 1] += 1\n",
    "            if max_v < counters[a - 1]:\n",
    "                max_v = counters[a - 1]\n",
    "    return counters\n",
    "    \n",
    "import sys\n",
    "path = sys.path[0]\n",
    "path = path[:path.index('code_test') + 9]\n",
    "if path not in sys.path:\n",
    "    sys.path.append(path)\n",
    "from util.code_test_util import CodeTestUtil\n",
    "code_test_util = CodeTestUtil()\n",
    "code_test_util.set_multi_args(True)\n",
    "code_test_util.solution = solution\n",
    "code_test_util.add_data_case([1, [1, 2]], [2])\n",
    "code_test_util.add_data_case([5, [3, 4, 4, 6, 1, 4, 4]], [3, 2, 2, 4, 2])\n",
    "code_test_util.add_data_case([3, [3, 1, 2, 4, 2, 3]], [1, 2, 2])\n",
    "code_test_util.add_data_case([4, [5, 5, 5, 5]], [0, 0, 0, 0])\n",
    "code_test_util.run()"
   ]
  }
 ],
 "metadata": {
  "interpreter": {
   "hash": "aee8b7b246df8f9039afb4144a1f6fd8d2ca17a180786b69acc140d282b71a49"
  },
  "kernelspec": {
   "display_name": "Python 3.9.1 64-bit",
   "language": "python",
   "name": "python3"
  },
  "language_info": {
   "codemirror_mode": {
    "name": "ipython",
    "version": 3
   },
   "file_extension": ".py",
   "mimetype": "text/x-python",
   "name": "python",
   "nbconvert_exporter": "python",
   "pygments_lexer": "ipython3",
   "version": "3.9.1"
  },
  "orig_nbformat": 4
 },
 "nbformat": 4,
 "nbformat_minor": 2
}
