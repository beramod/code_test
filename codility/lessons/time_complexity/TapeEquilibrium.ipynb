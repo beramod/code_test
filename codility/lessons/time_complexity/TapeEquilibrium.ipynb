{
 "cells": [
  {
   "cell_type": "markdown",
   "metadata": {},
   "source": [
    "* https://app.codility.com/programmers/lessons/3-time_complexity/tape_equilibrium/\n",
    "\n",
    "```\n",
    "A non-empty array A consisting of N integers is given. Array A represents numbers on a tape.\n",
    "\n",
    "Any integer P, such that 0 < P < N, splits this tape into two non-empty parts: A[0], A[1], ..., A[P − 1] and A[P], A[P + 1], ..., A[N − 1].\n",
    "\n",
    "The difference between the two parts is the value of: |(A[0] + A[1] + ... + A[P − 1]) − (A[P] + A[P + 1] + ... + A[N − 1])|\n",
    "\n",
    "In other words, it is the absolute difference between the sum of the first part and the sum of the second part.\n",
    "\n",
    "For example, consider array A such that:\n",
    "\n",
    "  A[0] = 3\n",
    "  A[1] = 1\n",
    "  A[2] = 2\n",
    "  A[3] = 4\n",
    "  A[4] = 3\n",
    "We can split this tape in four places:\n",
    "\n",
    "P = 1, difference = |3 − 10| = 7\n",
    "P = 2, difference = |4 − 9| = 5\n",
    "P = 3, difference = |6 − 7| = 1\n",
    "P = 4, difference = |10 − 3| = 7\n",
    "Write a function:\n",
    "\n",
    "def solution(A)\n",
    "\n",
    "that, given a non-empty array A of N integers, returns the minimal difference that can be achieved.\n",
    "\n",
    "For example, given:\n",
    "\n",
    "  A[0] = 3\n",
    "  A[1] = 1\n",
    "  A[2] = 2\n",
    "  A[3] = 4\n",
    "  A[4] = 3\n",
    "the function should return 1, as explained above.\n",
    "\n",
    "Write an efficient algorithm for the following assumptions:\n",
    "\n",
    "N is an integer within the range [2..100,000];\n",
    "each element of array A is an integer within the range [−1,000..1,000].\n",
    "```\n",
    "\n",
    "### 조건\n",
    "- N개의 정수로 구성된 비어 있지 않은 배열 A. 배열 A는 테이프의 숫자를 표현.\n",
    "- 임의의 정수 P는 이 테이프를 두 부분으로 나눈다.\n",
    "- O < P < N => A[0], A[1], ..., A[P-1], A[P], A[P + 1], ..., A[N]\n",
    "- |(A[0] + A[1] + ... + A[P − 1]) − (A[P] + A[P + 1] + ... + A[N − 1])|\n",
    "- A가 주어질 때 위 규칙으로 나온 값중 가장 작은 값을 반환\n",
    "- N의 요소수는 2 ~ 100,000개\n",
    "- A의 값의 범위는 -1,000 ~ 1,000\n"
   ]
  },
  {
   "cell_type": "code",
   "execution_count": 25,
   "metadata": {},
   "outputs": [
    {
     "name": "stdout",
     "output_type": "stream",
     "text": [
      "[Case 1] Answer: 0, Correct: 0, Solved: True\n",
      "[Case 2] Answer: 1, Correct: 1, Solved: True\n",
      "[Case 3] Answer: 0, Correct: 0, Solved: True\n",
      "[Case 4] Answer: 2000, Correct: 2000, Solved: True\n",
      "[Result] Solved: 4, Failed: 0\n"
     ]
    }
   ],
   "source": [
    "def solution(A):\n",
    "    N = len(A)\n",
    "    left_sum = A[0]\n",
    "    right_sum = sum(A[1:])\n",
    "    diffs = [abs(left_sum - right_sum)]\n",
    "    \n",
    "    for i in range(1, N - 1):\n",
    "        left_sum += A[i]\n",
    "        right_sum -= A[i]\n",
    "        diffs.append(abs(left_sum - right_sum))\n",
    "    \n",
    "    return min(diffs)\n",
    "        \n",
    "import sys\n",
    "path = sys.path[0]\n",
    "path = path[:path.index('code_test') + 9]\n",
    "if path not in sys.path:\n",
    "    sys.path.append(path)\n",
    "from util.code_test_util import CodeTestUtil\n",
    "code_test_util = CodeTestUtil()\n",
    "code_test_util.set_multi_args(False)\n",
    "code_test_util.solution = solution\n",
    "code_test_util.add_data_case([0, 0], 0)\n",
    "code_test_util.add_data_case([3, 1, 2, 4, 3], 1)\n",
    "code_test_util.add_data_case([3, 3], 0)\n",
    "code_test_util.add_data_case([-1000, 1000], 2000)\n",
    "code_test_util.run()"
   ]
  }
 ],
 "metadata": {
  "interpreter": {
   "hash": "f9ccdf3afa3dc3e101816fbeb38d5182e8e63e68ddc1acefd7abf85a12f12e7d"
  },
  "kernelspec": {
   "display_name": "Python 3.9.7 64-bit",
   "language": "python",
   "name": "python3"
  },
  "language_info": {
   "codemirror_mode": {
    "name": "ipython",
    "version": 3
   },
   "file_extension": ".py",
   "mimetype": "text/x-python",
   "name": "python",
   "nbconvert_exporter": "python",
   "pygments_lexer": "ipython3",
   "version": "3.9.7"
  },
  "orig_nbformat": 4
 },
 "nbformat": 4,
 "nbformat_minor": 2
}
