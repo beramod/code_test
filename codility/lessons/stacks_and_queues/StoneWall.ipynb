{
 "cells": [
  {
   "cell_type": "markdown",
   "metadata": {},
   "source": [
    "* https://app.codility.com/programmers/lessons/7-stacks_and_queues/stone_wall/\n",
    "\n",
    "```\n",
    "You are going to build a stone wall. The wall should be straight and N meters long, and its thickness should be constant; however, it should have different heights in different places. The height of the wall is specified by an array H of N positive integers. H[I] is the height of the wall from I to I+1 meters to the right of its left end. In particular, H[0] is the height of the wall's left end and H[N−1] is the height of the wall's right end.\n",
    "\n",
    "The wall should be built of cuboid stone blocks (that is, all sides of such blocks are rectangular). Your task is to compute the minimum number of blocks needed to build the wall.\n",
    "\n",
    "Write a function:\n",
    "\n",
    "def solution(H)\n",
    "\n",
    "that, given an array H of N positive integers specifying the height of the wall, returns the minimum number of blocks needed to build it.\n",
    "\n",
    "For example, given array H containing N = 9 integers:\n",
    "\n",
    "  H[0] = 8    H[1] = 8    H[2] = 5\n",
    "  H[3] = 7    H[4] = 9    H[5] = 8\n",
    "  H[6] = 7    H[7] = 4    H[8] = 8\n",
    "the function should return 7. The figure shows one possible arrangement of seven blocks.\n",
    "\n",
    "\n",
    "\n",
    "Write an efficient algorithm for the following assumptions:\n",
    "\n",
    "N is an integer within the range [1..100,000];\n",
    "each element of array H is an integer within the range [1..1,000,000,000].\n",
    "```\n",
    "\n",
    "### 조건\n",
    "- 길이 N인 돌담을 쌓아야 한다.\n",
    "    - N: 1 ~ 100,000\n",
    "- 두께는 일정하지만 위치마다 높이는 다를수 있다.\n",
    "- H[I]: I ~ I+1미터까지의 왼쪽끝과 오른쪽의 높이\n",
    "    H 요소: 1 ~ 1,000,000,000\n",
    "- 벽은 직육면체(cuboid) <- 파파고로 본문 번역시 정육면체라고 나온다...!\n",
    "- 벽을 완성하는데 필요한 최소 블록의 수를 계산하라\n",
    "\n",
    "\n",
    "### 풀이\n",
    "- 잘 모르겠음 ㅜㅜ"
   ]
  },
  {
   "cell_type": "code",
   "execution_count": 9,
   "metadata": {},
   "outputs": [
    {
     "name": "stdout",
     "output_type": "stream",
     "text": [
      "[Case 1] Answer: 7, Correct: 7, Solved: True\n",
      "[Case 2] Answer: 1, Correct: 1, Solved: True\n",
      "[Result] Solved: 2, Failed: 0\n"
     ]
    }
   ],
   "source": [
    "def solution(H):\n",
    "    N = len(H)\n",
    "    stack = []\n",
    "    count = 0\n",
    "    for i in range(N):\n",
    "        while stack and stack[-1] > H[i]:\n",
    "            stack.pop()\n",
    "        if not stack or stack[-1] < H[i]:\n",
    "            stack.append(H[i])\n",
    "            count += 1\n",
    "    return count\n",
    "\n",
    "import sys\n",
    "path = sys.path[0]\n",
    "path = path[:path.index('code_test') + 9]\n",
    "if path not in sys.path:\n",
    "    sys.path.append(path)\n",
    "from util.code_test_util import CodeTestUtil\n",
    "code_test_util = CodeTestUtil()\n",
    "code_test_util.set_multi_args(False)\n",
    "code_test_util.solution = solution\n",
    "code_test_util.add_data_case([8, 8, 5, 7, 9, 8, 7, 4, 8], 7)\n",
    "code_test_util.add_data_case([1], 1)\n",
    "code_test_util.run()"
   ]
  }
 ],
 "metadata": {
  "interpreter": {
   "hash": "f9ccdf3afa3dc3e101816fbeb38d5182e8e63e68ddc1acefd7abf85a12f12e7d"
  },
  "kernelspec": {
   "display_name": "Python 3.9.7 64-bit",
   "language": "python",
   "name": "python3"
  },
  "language_info": {
   "codemirror_mode": {
    "name": "ipython",
    "version": 3
   },
   "file_extension": ".py",
   "mimetype": "text/x-python",
   "name": "python",
   "nbconvert_exporter": "python",
   "pygments_lexer": "ipython3",
   "version": "3.9.7"
  },
  "orig_nbformat": 4
 },
 "nbformat": 4,
 "nbformat_minor": 2
}
