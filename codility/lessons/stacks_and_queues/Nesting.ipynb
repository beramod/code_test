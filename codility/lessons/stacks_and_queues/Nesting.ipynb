{
 "cells": [
  {
   "cell_type": "markdown",
   "metadata": {},
   "source": [
    "* https://app.codility.com/programmers/lessons/7-stacks_and_queues/nesting/\n",
    "\n",
    "```\n",
    "A string S consisting of N characters is called properly nested if:\n",
    "\n",
    "S is empty;\n",
    "S has the form \"(U)\" where U is a properly nested string;\n",
    "S has the form \"VW\" where V and W are properly nested strings.\n",
    "For example, string \"(()(())())\" is properly nested but string \"())\" isn't.\n",
    "\n",
    "Write a function:\n",
    "\n",
    "def solution(S)\n",
    "\n",
    "that, given a string S consisting of N characters, returns 1 if string S is properly nested and 0 otherwise.\n",
    "\n",
    "For example, given S = \"(()(())())\", the function should return 1 and given S = \"())\", the function should return 0, as explained above.\n",
    "\n",
    "Write an efficient algorithm for the following assumptions:\n",
    "\n",
    "N is an integer within the range [0..1,000,000];\n",
    "string S consists only of the characters \"(\" and/or \")\".\n",
    "```\n",
    "\n",
    "### 조건\n",
    "- N개의 문자로 구성된 문자열 S는 다음과 같은 경우에 적절하게 중첩되었다고 합니다.\n",
    "    - N: 0 ~ 1,000,000\n",
    "- S가 비어있다.\n",
    "    - S: \"(\" or \")\"\n",
    "- S는 \"(U)\" 형태를 가진다. 여기서 U는 적절하게 중첩된 문자열이다.\n",
    "- S는 V와 W가 적절하게 중첩된 문자열인 \"VW\"형태를 가지고 있다.\n",
    "- ex) \"(()(())())\"는 적절하게 중첩된 문자열이고, \"())\"는 아니다.\n",
    "- 문자열 S가 적절하게 중첩되어 있으면 1, 아니면 0 반환\n",
    "\n",
    "### 풀이\n"
   ]
  },
  {
   "cell_type": "code",
   "execution_count": 3,
   "metadata": {},
   "outputs": [
    {
     "name": "stdout",
     "output_type": "stream",
     "text": [
      "[Case 1] Answer: 1, Correct: 1, Solved: True\n",
      "[Case 2] Answer: 0, Correct: 0, Solved: True\n",
      "[Result] Solved: 2, Failed: 0\n"
     ]
    }
   ],
   "source": [
    "def solution(S):\n",
    "    N = len(S)\n",
    "    if N == 0:\n",
    "        return 1\n",
    "    \n",
    "    stack = []\n",
    "    \n",
    "    for s in S:\n",
    "        if not stack or s == '(':\n",
    "            stack.append(s)\n",
    "        elif s == ')' and stack[-1] == '(':\n",
    "            stack.pop()\n",
    "        else:\n",
    "            return 0\n",
    "    if not stack:\n",
    "        return 1\n",
    "    return 0\n",
    "\n",
    "import sys\n",
    "path = sys.path[0]\n",
    "path = path[:path.index('code_test') + 9]\n",
    "if path not in sys.path:\n",
    "    sys.path.append(path)\n",
    "from util.code_test_util import CodeTestUtil\n",
    "code_test_util = CodeTestUtil()\n",
    "code_test_util.set_multi_args(False)\n",
    "code_test_util.solution = solution\n",
    "code_test_util.add_data_case('(()(())())', 1)\n",
    "code_test_util.add_data_case('())', 0)\n",
    "code_test_util.run()"
   ]
  }
 ],
 "metadata": {
  "interpreter": {
   "hash": "f9ccdf3afa3dc3e101816fbeb38d5182e8e63e68ddc1acefd7abf85a12f12e7d"
  },
  "kernelspec": {
   "display_name": "Python 3.9.7 64-bit",
   "language": "python",
   "name": "python3"
  },
  "language_info": {
   "codemirror_mode": {
    "name": "ipython",
    "version": 3
   },
   "file_extension": ".py",
   "mimetype": "text/x-python",
   "name": "python",
   "nbconvert_exporter": "python",
   "pygments_lexer": "ipython3",
   "version": "3.9.7"
  },
  "orig_nbformat": 4
 },
 "nbformat": 4,
 "nbformat_minor": 2
}
