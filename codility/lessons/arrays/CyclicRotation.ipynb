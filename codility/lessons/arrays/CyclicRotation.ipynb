{
 "cells": [
  {
   "cell_type": "markdown",
   "metadata": {},
   "source": [
    "* https://app.codility.com/programmers/lessons/2-arrays/cyclic_rotation/\n",
    "\n",
    "```\n",
    "An array A consisting of N integers is given. Rotation of the array means that each element is shifted right by one index, and the last element of the array is moved to the first place. For example, the rotation of array A = [3, 8, 9, 7, 6] is [6, 3, 8, 9, 7] (elements are shifted right by one index and 6 is moved to the first place).\n",
    "\n",
    "The goal is to rotate array A K times; that is, each element of A will be shifted to the right K times.\n",
    "\n",
    "Write a function:\n",
    "\n",
    "def solution(A, K)\n",
    "\n",
    "that, given an array A consisting of N integers and an integer K, returns the array A rotated K times.\n",
    "\n",
    "For example, given\n",
    "\n",
    "    A = [3, 8, 9, 7, 6]\n",
    "    K = 3\n",
    "the function should return [9, 7, 6, 3, 8]. Three rotations were made:\n",
    "\n",
    "    [3, 8, 9, 7, 6] -> [6, 3, 8, 9, 7]\n",
    "    [6, 3, 8, 9, 7] -> [7, 6, 3, 8, 9]\n",
    "    [7, 6, 3, 8, 9] -> [9, 7, 6, 3, 8]\n",
    "For another example, given\n",
    "\n",
    "    A = [0, 0, 0]\n",
    "    K = 1\n",
    "the function should return [0, 0, 0]\n",
    "\n",
    "Given\n",
    "\n",
    "    A = [1, 2, 3, 4]\n",
    "    K = 4\n",
    "the function should return [1, 2, 3, 4]\n",
    "\n",
    "Assume that:\n",
    "\n",
    "N and K are integers within the range [0..100];\n",
    "each element of array A is an integer within the range [−1,000..1,000].\n",
    "In your solution, focus on correctness. The performance of your solution will not be the focus of the assessment.\n",
    "```\n",
    "\n",
    "### 조건\n",
    "- 배열을 K만큼 회전하라\n",
    "- 회전: 끝에껄 앞으로"
   ]
  },
  {
   "cell_type": "code",
   "execution_count": 22,
   "metadata": {},
   "outputs": [
    {
     "name": "stdout",
     "output_type": "stream",
     "text": [
      "[Case 1] Answer: [], Correct: [], Solved: True\n",
      "[Case 2] Answer: [1], Correct: [1], Solved: True\n",
      "[Case 3] Answer: [3, 8, 9, 7, 6], Correct: [3, 8, 9, 7, 6], Solved: True\n",
      "[Case 4] Answer: [7, 6, 3, 8, 9], Correct: [7, 6, 3, 8, 9], Solved: True\n",
      "[Case 5] Answer: [9, 7, 6, 3, 8], Correct: [9, 7, 6, 3, 8], Solved: True\n",
      "[Case 6] Answer: [0, 0, 0], Correct: [0, 0, 0], Solved: True\n",
      "[Case 7] Answer: [1, 2, 3, 4], Correct: [1, 2, 3, 4], Solved: True\n",
      "[Result] Solved: 7, Failed: 0\n"
     ]
    }
   ],
   "source": [
    "def solution(A, K):\n",
    "    if K == 0:\n",
    "        return A\n",
    "    len_a = len(A)\n",
    "    if len_a < 2:\n",
    "        return A\n",
    "    shift_cnt = K % len_a\n",
    "    return A[-shift_cnt:] + A[:-shift_cnt]\n",
    "\n",
    "import sys\n",
    "path = sys.path[0]\n",
    "path = path[:path.index('code_test') + 9]\n",
    "if path not in sys.path:\n",
    "    sys.path.append(path)\n",
    "from util.code_test_util import CodeTestUtil\n",
    "code_test_util = CodeTestUtil()\n",
    "code_test_util.set_multi_args(True)\n",
    "code_test_util.solution = solution\n",
    "code_test_util.add_data_case([[], 1000], [])\n",
    "code_test_util.add_data_case([[1], 1000], [1])\n",
    "code_test_util.add_data_case([[3, 8, 9, 7, 6], 0], [3, 8, 9, 7, 6])\n",
    "code_test_util.add_data_case([[3, 8, 9, 7, 6], 7], [7, 6, 3, 8, 9])\n",
    "code_test_util.add_data_case([[3, 8, 9, 7, 6], 3], [9, 7, 6, 3, 8])\n",
    "code_test_util.add_data_case([[0, 0, 0], 1], [0, 0, 0])\n",
    "code_test_util.add_data_case([[1, 2, 3, 4], 4], [1, 2, 3, 4])\n",
    "code_test_util.run()"
   ]
  }
 ],
 "metadata": {
  "interpreter": {
   "hash": "f9ccdf3afa3dc3e101816fbeb38d5182e8e63e68ddc1acefd7abf85a12f12e7d"
  },
  "kernelspec": {
   "display_name": "Python 3.9.7 64-bit",
   "language": "python",
   "name": "python3"
  },
  "language_info": {
   "codemirror_mode": {
    "name": "ipython",
    "version": 3
   },
   "file_extension": ".py",
   "mimetype": "text/x-python",
   "name": "python",
   "nbconvert_exporter": "python",
   "pygments_lexer": "ipython3",
   "version": "3.9.7"
  },
  "orig_nbformat": 4
 },
 "nbformat": 4,
 "nbformat_minor": 2
}
