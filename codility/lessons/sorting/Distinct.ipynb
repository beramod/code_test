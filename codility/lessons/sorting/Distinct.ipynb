{
 "cells": [
  {
   "cell_type": "markdown",
   "metadata": {},
   "source": [
    "* https://app.codility.com/programmers/lessons/6-sorting/\n",
    "\n",
    "```\n",
    "Write a function\n",
    "\n",
    "def solution(A)\n",
    "\n",
    "that, given an array A consisting of N integers, returns the number of distinct values in array A.\n",
    "\n",
    "For example, given array A consisting of six elements such that:\n",
    "\n",
    " A[0] = 2    A[1] = 1    A[2] = 1\n",
    " A[3] = 2    A[4] = 3    A[5] = 1\n",
    "the function should return 3, because there are 3 distinct values appearing in array A, namely 1, 2 and 3.\n",
    "\n",
    "Write an efficient algorithm for the following assumptions:\n",
    "\n",
    "N is an integer within the range [0..100,000];\n",
    "each element of array A is an integer within the range [−1,000,000..1,000,000].\n",
    "```\n",
    "\n",
    "### 조건\n",
    "- N개의 요소를 가진 배열 A\n",
    "  - N: 0 ~ 100,000\n",
    "  - A의 요소: -1,000,000 ~ 1,000,000\n",
    "- A의 distinct value의 갯수를 반환하라"
   ]
  },
  {
   "cell_type": "code",
   "execution_count": 1,
   "metadata": {},
   "outputs": [
    {
     "name": "stdout",
     "output_type": "stream",
     "text": [
      "[Case 1] Answer: 3, Correct: 3, Solved: True\n",
      "[Result] Solved: 1, Failed: 0\n"
     ]
    }
   ],
   "source": [
    "def solution(A):\n",
    "    return len(list(set(A)))\n",
    "\n",
    "import sys\n",
    "path = sys.path[0]\n",
    "path = path[:path.index('code_test') + 9]\n",
    "if path not in sys.path:\n",
    "    sys.path.append(path)\n",
    "from util.code_test_util import CodeTestUtil\n",
    "code_test_util = CodeTestUtil()\n",
    "code_test_util.set_multi_args(False)\n",
    "code_test_util.solution = solution\n",
    "code_test_util.add_data_case([2, 1, 1, 2, 3, 1], 3)\n",
    "code_test_util.run()"
   ]
  }
 ],
 "metadata": {
  "interpreter": {
   "hash": "f9ccdf3afa3dc3e101816fbeb38d5182e8e63e68ddc1acefd7abf85a12f12e7d"
  },
  "kernelspec": {
   "display_name": "Python 3.9.7 64-bit",
   "language": "python",
   "name": "python3"
  },
  "language_info": {
   "codemirror_mode": {
    "name": "ipython",
    "version": 3
   },
   "file_extension": ".py",
   "mimetype": "text/x-python",
   "name": "python",
   "nbconvert_exporter": "python",
   "pygments_lexer": "ipython3",
   "version": "3.9.7"
  },
  "orig_nbformat": 4
 },
 "nbformat": 4,
 "nbformat_minor": 2
}
