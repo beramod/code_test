{
 "cells": [
  {
   "cell_type": "markdown",
   "metadata": {},
   "source": [
    "* https://app.codility.com/programmers/lessons/6-sorting/number_of_disc_intersections/\n",
    "\n",
    "```\n",
    "We draw N discs on a plane. The discs are numbered from 0 to N − 1. An array A of N non-negative integers, specifying the radiuses of the discs, is given. The J-th disc is drawn with its center at (J, 0) and radius A[J].\n",
    "\n",
    "We say that the J-th disc and K-th disc intersect if J ≠ K and the J-th and K-th discs have at least one common point (assuming that the discs contain their borders).\n",
    "\n",
    "The figure below shows discs drawn for N = 6 and A as follows:\n",
    "\n",
    "  A[0] = 1\n",
    "  A[1] = 5\n",
    "  A[2] = 2\n",
    "  A[3] = 1\n",
    "  A[4] = 4\n",
    "  A[5] = 0\n",
    "\n",
    "\n",
    "There are eleven (unordered) pairs of discs that intersect, namely:\n",
    "\n",
    "discs 1 and 4 intersect, and both intersect with all the other discs;\n",
    "disc 2 also intersects with discs 0 and 3.\n",
    "Write a function:\n",
    "\n",
    "def solution(A)\n",
    "\n",
    "that, given an array A describing N discs as explained above, returns the number of (unordered) pairs of intersecting discs. The function should return −1 if the number of intersecting pairs exceeds 10,000,000.\n",
    "\n",
    "Given array A shown above, the function should return 11, as explained above.\n",
    "\n",
    "Write an efficient algorithm for the following assumptions:\n",
    "\n",
    "N is an integer within the range [0..100,000];\n",
    "each element of array A is an integer within the range [0..2,147,483,647].\n",
    "```\n",
    "\n",
    "### 조건\n",
    "- N개의 음이아닌 정수 배열 A\n",
    "    - N: 0 ~ 100,000\n",
    "    - A의 요소: 0 ~ 2,147,483,647\n",
    "- J번째 디스크는 중심을 (J, 0)에 두고 반지름을 A[J]로 그립니다.\n",
    "- J != K이고 J-th와 K-th가 겹칠때, 두개의 디스크는 교차한다고 말한다.\n",
    "- 교차하는 디스크의 수를 반환하라.\n",
    "- 교차수가 10000000가 넘어간다면 -1 반환\n",
    "\n",
    "### 풀이\n",
    "- upper보다 작은 lower들은 접점을 가진다.\n",
    "- upper보다 작은 upper는 접점이 없다."
   ]
  },
  {
   "cell_type": "code",
   "execution_count": 37,
   "metadata": {},
   "outputs": [
    {
     "name": "stdout",
     "output_type": "stream",
     "text": [
      "[-4, -1, 0, 0, 2, 5]\n",
      "[1, 4, 4, 5, 6, 8]\n",
      "[Case 1] Answer: 11, Correct: 11, Solved: True\n",
      "[Result] Solved: 1, Failed: 0\n"
     ]
    }
   ],
   "source": [
    "MAX_ANSWER = 10000000\n",
    "\n",
    "def solution(A):\n",
    "    N = len(A)\n",
    "    \n",
    "    lowers = []\n",
    "    uppers = []\n",
    "    \n",
    "    for i in range(N):\n",
    "        lowers.append(i - A[i])\n",
    "        uppers.append(i + A[i])\n",
    "    lowers.sort()\n",
    "    uppers.sort()\n",
    "    \n",
    "    answer = 0\n",
    "    j = 0\n",
    "    \n",
    "    for i in range(N):\n",
    "        while j < N and uppers[i] >= lowers[j]:\n",
    "            answer += j # upper보다 작은 lower를 가진 원들을 추가\n",
    "            answer -= i # upper보다 작은 upper를 가진 원들을 제거. (자기 자신 포함)\n",
    "            j += 1\n",
    "        if answer > MAX_ANSWER:\n",
    "            return -1\n",
    "            \n",
    "    return answer\n",
    "\n",
    "import sys\n",
    "path = sys.path[0]\n",
    "path = path[:path.index('code_test') + 9]\n",
    "if path not in sys.path:\n",
    "    sys.path.append(path)\n",
    "from util.code_test_util import CodeTestUtil\n",
    "code_test_util = CodeTestUtil()\n",
    "code_test_util.set_multi_args(False)\n",
    "code_test_util.solution = solution\n",
    "code_test_util.add_data_case([1, 1, 1], 3)\n",
    "code_test_util.add_data_case([1, 5, 2, 1, 4, 0], 11)\n",
    "code_test_util.add_data_case([2147483647, 2147483647, 2147483647, 2147483647, 2147483647], 10)\n",
    "code_test_util.add_data_case([0, 0, 0, 0, 0, 0], 0)\n",
    "code_test_util.run()"
   ]
  }
 ],
 "metadata": {
  "interpreter": {
   "hash": "f9ccdf3afa3dc3e101816fbeb38d5182e8e63e68ddc1acefd7abf85a12f12e7d"
  },
  "kernelspec": {
   "display_name": "Python 3.9.7 64-bit",
   "language": "python",
   "name": "python3"
  },
  "language_info": {
   "codemirror_mode": {
    "name": "ipython",
    "version": 3
   },
   "file_extension": ".py",
   "mimetype": "text/x-python",
   "name": "python",
   "nbconvert_exporter": "python",
   "pygments_lexer": "ipython3",
   "version": "3.9.7"
  },
  "orig_nbformat": 4
 },
 "nbformat": 4,
 "nbformat_minor": 2
}
