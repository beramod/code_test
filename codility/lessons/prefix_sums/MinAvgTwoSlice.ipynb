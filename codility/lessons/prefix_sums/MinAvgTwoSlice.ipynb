{
 "cells": [
  {
   "cell_type": "markdown",
   "metadata": {},
   "source": [
    "* https://app.codility.com/programmers/lessons/5-prefix_sums/min_avg_two_slice/\n",
    "\n",
    "```\n",
    "A non-empty array A consisting of N integers is given. A pair of integers (P, Q), such that 0 ≤ P < Q < N, is called a slice of array A (notice that the slice contains at least two elements). The average of a slice (P, Q) is the sum of A[P] + A[P + 1] + ... + A[Q] divided by the length of the slice. To be precise, the average equals (A[P] + A[P + 1] + ... + A[Q]) / (Q − P + 1).\n",
    "\n",
    "For example, array A such that:\n",
    "\n",
    "    A[0] = 4\n",
    "    A[1] = 2\n",
    "    A[2] = 2\n",
    "    A[3] = 5\n",
    "    A[4] = 1\n",
    "    A[5] = 5\n",
    "    A[6] = 8\n",
    "contains the following example slices:\n",
    "\n",
    "slice (1, 2), whose average is (2 + 2) / 2 = 2;\n",
    "slice (3, 4), whose average is (5 + 1) / 2 = 3;\n",
    "slice (1, 4), whose average is (2 + 2 + 5 + 1) / 4 = 2.5.\n",
    "The goal is to find the starting position of a slice whose average is minimal.\n",
    "\n",
    "Write a function:\n",
    "\n",
    "def solution(A)\n",
    "\n",
    "that, given a non-empty array A consisting of N integers, returns the starting position of the slice with the minimal average. If there is more than one slice with a minimal average, you should return the smallest starting position of such a slice.\n",
    "\n",
    "For example, given array A such that:\n",
    "\n",
    "    A[0] = 4\n",
    "    A[1] = 2\n",
    "    A[2] = 2\n",
    "    A[3] = 5\n",
    "    A[4] = 1\n",
    "    A[5] = 5\n",
    "    A[6] = 8\n",
    "the function should return 1, as explained above.\n",
    "\n",
    "Write an efficient algorithm for the following assumptions:\n",
    "\n",
    "N is an integer within the range [2..100,000];\n",
    "each element of array A is an integer within the range [−10,000..10,000].\n",
    "```\n",
    "\n",
    "### 조건\n",
    "- N개의 정수로 구성된 배열 A\n",
    "  - N: 2 ~ 100,000\n",
    "  - 각 요소: -10,000 ~ 10,000\n",
    "- (P, Q): 0 <= P < Q < N과 같은 한 쌍의 정수로 이루어진 A의 한 조각\n",
    "- (P, Q)의 평균은 A[P] + ... + A[Q]의 평균과 같다.\n",
    "- 평균이 최소인 slice의 최소 위치를 찾아라\n",
    "\n",
    "### 풀이\n",
    "- A = (a, b, c, d)\n",
    "- a + b < c + d 라면, (a + b) / 2 < (a + b + c +d) / 4 < (c + d) / 2\n",
    "- A = (2, 4, 2) 인 경우\n",
    "- 3 < 2.xxx < 3이 되므로 3개의 평균이 더 작은 경우도 있다.\n",
    "- 따라서 2개 그룹, 3개 그룹인것만 고려하여 평균을 구해준다면 최소가 되는 시작점은 찾을 수 있다."
   ]
  },
  {
   "cell_type": "code",
   "execution_count": 19,
   "metadata": {},
   "outputs": [
    {
     "name": "stdout",
     "output_type": "stream",
     "text": [
      "[Case 1] Answer: 2, Correct: 2, Solved: True\n",
      "[Case 2] Answer: 2, Correct: 2, Solved: True\n",
      "[Case 3] Answer: 1, Correct: 1, Solved: True\n",
      "[Case 4] Answer: 3, Correct: 3, Solved: True\n",
      "[Result] Solved: 4, Failed: 0\n"
     ]
    }
   ],
   "source": [
    "def solution(A):\n",
    "    N = len(A)\n",
    "    min_idx = 0\n",
    "    min_avg = (A[0] + A[1]) / 2\n",
    "    if N == 2:\n",
    "        return min_idx\n",
    "    for i in range(1, N - 1):\n",
    "        val = (A[i - 1] + A[i] + A[i + 1]) / 3\n",
    "        if val < min_avg:\n",
    "            min_avg = val\n",
    "            min_idx = i - 1\n",
    "        val = (A[i] + A[i + 1]) / 2\n",
    "        if val < min_avg:\n",
    "            min_avg = val\n",
    "            min_idx = i\n",
    "    return min_idx\n",
    "\n",
    "import sys\n",
    "path = sys.path[0]\n",
    "path = path[:path.index('code_test') + 9]\n",
    "if path not in sys.path:\n",
    "    sys.path.append(path)\n",
    "from util.code_test_util import CodeTestUtil\n",
    "code_test_util = CodeTestUtil()\n",
    "code_test_util.set_multi_args(False)\n",
    "code_test_util.solution = solution\n",
    "code_test_util.add_data_case([-1, 1, -1, -1, -1, 0, 0, 0, 1, 1, 1, 1, 1], 2)\n",
    "code_test_util.add_data_case([-3, -5, -8, -4, -10], 2)\n",
    "code_test_util.add_data_case([4, 2, 2, 5, 1, 5, 8], 1)\n",
    "code_test_util.add_data_case([10, 11, 12, 1, 1, 1, 1, 1, 1, 90], 3)\n",
    "code_test_util.run()"
   ]
  }
 ],
 "metadata": {
  "interpreter": {
   "hash": "f9ccdf3afa3dc3e101816fbeb38d5182e8e63e68ddc1acefd7abf85a12f12e7d"
  },
  "kernelspec": {
   "display_name": "Python 3.9.7 64-bit",
   "language": "python",
   "name": "python3"
  },
  "language_info": {
   "codemirror_mode": {
    "name": "ipython",
    "version": 3
   },
   "file_extension": ".py",
   "mimetype": "text/x-python",
   "name": "python",
   "nbconvert_exporter": "python",
   "pygments_lexer": "ipython3",
   "version": "3.9.7"
  },
  "orig_nbformat": 4
 },
 "nbformat": 4,
 "nbformat_minor": 2
}
