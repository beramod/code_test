{
 "cells": [
  {
   "cell_type": "markdown",
   "metadata": {},
   "source": [
    "* https://app.codility.com/programmers/lessons/5-prefix_sums/count_div/\n",
    "\n",
    "```\n",
    "Write a function:\n",
    "\n",
    "def solution(A, B, K)\n",
    "\n",
    "that, given three integers A, B and K, returns the number of integers within the range [A..B] that are divisible by K, i.e.:\n",
    "\n",
    "{ i : A ≤ i ≤ B, i mod K = 0 }\n",
    "\n",
    "For example, for A = 6, B = 11 and K = 2, your function should return 3, because there are three numbers divisible by 2 within the range [6..11], namely 6, 8 and 10.\n",
    "\n",
    "Write an efficient algorithm for the following assumptions:\n",
    "\n",
    "A and B are integers within the range [0..2,000,000,000];\n",
    "K is an integer within the range [1..2,000,000,000];\n",
    "A ≤ B.\n",
    "```\n",
    "\n",
    "### 조건\n",
    "- 3개의 정수 A, B, K가 주어질 때 범위 내의 정수 수를 반환\n",
    "- A ~ B사이의 정수 중 K로 나눌 수 있는 수\n",
    "- A, B는 0 ~ 2,000,000,000 사이의 값\n",
    "- K는 1 ~ 2,000,000,000\n",
    "- A <= B"
   ]
  },
  {
   "cell_type": "code",
   "execution_count": 31,
   "metadata": {},
   "outputs": [
    {
     "name": "stdout",
     "output_type": "stream",
     "text": [
      "[Case 1] Answer: 1, Correct: 1, Solved: True\n",
      "[Case 2] Answer: 6, Correct: 6, Solved: True\n",
      "[Case 3] Answer: 3, Correct: 3, Solved: True\n",
      "[Case 4] Answer: 1, Correct: 1, Solved: True\n",
      "[Case 5] Answer: 2, Correct: 2, Solved: True\n",
      "[Result] Solved: 5, Failed: 0\n"
     ]
    }
   ],
   "source": [
    "def solution(A, B, K):\n",
    "    count = 0 if A > 0 else 1\n",
    "    if K > B:\n",
    "        return count\n",
    "    count += B // K\n",
    "    if K < A:\n",
    "        count -= A // K\n",
    "        if A % K == 0:\n",
    "            count += 1\n",
    "    return count       \n",
    "    \n",
    "import sys\n",
    "path = sys.path[0]\n",
    "path = path[:path.index('code_test') + 9]\n",
    "if path not in sys.path:\n",
    "    sys.path.append(path)\n",
    "from util.code_test_util import CodeTestUtil\n",
    "code_test_util = CodeTestUtil()\n",
    "code_test_util.set_multi_args(True)\n",
    "code_test_util.solution = solution\n",
    "code_test_util.add_data_case([0, 1, 3], 1)\n",
    "code_test_util.add_data_case([0, 11, 2], 6)\n",
    "code_test_util.add_data_case([6, 11, 2], 3)\n",
    "code_test_util.add_data_case([6, 11, 5], 1)\n",
    "code_test_util.add_data_case([4, 11, 5], 2)\n",
    "code_test_util.run()"
   ]
  },
  {
   "cell_type": "code",
   "execution_count": 29,
   "metadata": {},
   "outputs": [
    {
     "name": "stdout",
     "output_type": "stream",
     "text": [
      "[Case 1] Answer: 1, Correct: 1, Solved: True\n",
      "[Case 2] Answer: 0, Correct: 0, Solved: True\n",
      "[Case 3] Answer: 3, Correct: 3, Solved: True\n",
      "[Case 4] Answer: 1, Correct: 1, Solved: True\n",
      "[Case 5] Answer: 2, Correct: 2, Solved: True\n",
      "[Result] Solved: 5, Failed: 0\n"
     ]
    }
   ],
   "source": [
    "def solution(A, B, K):\n",
    "    if K > B:\n",
    "        if A == 0:\n",
    "            return 1\n",
    "        return 0\n",
    "    count = 0\n",
    "    search = K\n",
    "    if K < A:\n",
    "        search = A if A % K == 0 else (A - (A % K)) + K\n",
    "    while search <= B:\n",
    "        count += 1\n",
    "        search += K\n",
    "    return count\n",
    "    \n",
    "import sys\n",
    "path = sys.path[0]\n",
    "path = path[:path.index('code_test') + 9]\n",
    "if path not in sys.path:\n",
    "    sys.path.append(path)\n",
    "from util.code_test_util import CodeTestUtil\n",
    "code_test_util = CodeTestUtil()\n",
    "code_test_util.set_multi_args(True)\n",
    "code_test_util.solution = solution\n",
    "code_test_util.add_data_case([0, 0, 11], 1)\n",
    "code_test_util.add_data_case([1, 2, 3], 0)\n",
    "code_test_util.add_data_case([6, 11, 2], 3)\n",
    "code_test_util.add_data_case([6, 11, 5], 1)\n",
    "code_test_util.add_data_case([4, 11, 5], 2)\n",
    "code_test_util.run()"
   ]
  }
 ],
 "metadata": {
  "interpreter": {
   "hash": "f9ccdf3afa3dc3e101816fbeb38d5182e8e63e68ddc1acefd7abf85a12f12e7d"
  },
  "kernelspec": {
   "display_name": "Python 3.9.7 64-bit",
   "language": "python",
   "name": "python3"
  },
  "language_info": {
   "codemirror_mode": {
    "name": "ipython",
    "version": 3
   },
   "file_extension": ".py",
   "mimetype": "text/x-python",
   "name": "python",
   "nbconvert_exporter": "python",
   "pygments_lexer": "ipython3",
   "version": "3.9.7"
  },
  "orig_nbformat": 4
 },
 "nbformat": 4,
 "nbformat_minor": 2
}
