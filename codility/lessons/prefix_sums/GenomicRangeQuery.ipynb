{
 "cells": [
  {
   "cell_type": "markdown",
   "metadata": {},
   "source": [
    "* https://app.codility.com/programmers/lessons/5-prefix_sums/genomic_range_query/\n",
    "\n",
    "```\n",
    "A DNA sequence can be represented as a string consisting of the letters A, C, G and T, which correspond to the types of successive nucleotides in the sequence. Each nucleotide has an impact factor, which is an integer. Nucleotides of types A, C, G and T have impact factors of 1, 2, 3 and 4, respectively. You are going to answer several queries of the form: What is the minimal impact factor of nucleotides contained in a particular part of the given DNA sequence?\n",
    "\n",
    "The DNA sequence is given as a non-empty string S = S[0]S[1]...S[N-1] consisting of N characters. There are M queries, which are given in non-empty arrays P and Q, each consisting of M integers. The K-th query (0 ≤ K < M) requires you to find the minimal impact factor of nucleotides contained in the DNA sequence between positions P[K] and Q[K] (inclusive).\n",
    "\n",
    "For example, consider string S = CAGCCTA and arrays P, Q such that:\n",
    "\n",
    "    P[0] = 2    Q[0] = 4\n",
    "    P[1] = 5    Q[1] = 5\n",
    "    P[2] = 0    Q[2] = 6\n",
    "The answers to these M = 3 queries are as follows:\n",
    "\n",
    "The part of the DNA between positions 2 and 4 contains nucleotides G and C (twice), whose impact factors are 3 and 2 respectively, so the answer is 2.\n",
    "The part between positions 5 and 5 contains a single nucleotide T, whose impact factor is 4, so the answer is 4.\n",
    "The part between positions 0 and 6 (the whole string) contains all nucleotides, in particular nucleotide A whose impact factor is 1, so the answer is 1.\n",
    "Write a function:\n",
    "\n",
    "def solution(S, P, Q)\n",
    "\n",
    "that, given a non-empty string S consisting of N characters and two non-empty arrays P and Q consisting of M integers, returns an array consisting of M integers specifying the consecutive answers to all queries.\n",
    "\n",
    "Result array should be returned as an array of integers.\n",
    "\n",
    "For example, given the string S = CAGCCTA and arrays P, Q such that:\n",
    "\n",
    "    P[0] = 2    Q[0] = 4\n",
    "    P[1] = 5    Q[1] = 5\n",
    "    P[2] = 0    Q[2] = 6\n",
    "the function should return the values [2, 4, 1], as explained above.\n",
    "\n",
    "Write an efficient algorithm for the following assumptions:\n",
    "\n",
    "N is an integer within the range [1..100,000];\n",
    "M is an integer within the range [1..50,000];\n",
    "each element of arrays P and Q is an integer within the range [0..N − 1];\n",
    "P[K] ≤ Q[K], where 0 ≤ K < M;\n",
    "string S consists only of upper-case English letters A, C, G, T.\n",
    "```\n",
    "\n",
    "### 조건\n",
    "- S는 N개의 염기로 이루어진 염기서열\n",
    "- S는 A, C, G, T 대문자로만 이루어짐\n",
    "- 이는 각각 1, 2, 3, 4의 영향 인자를 가짐\n",
    "- M개의 정수로 구성된 비어있지 않은 배열 P, Q가 주어짐\n",
    "- P, Q의 같은 위치가 쌍\n",
    "- S상에서 P[0] ~ Q[0] 사이에 위치한 염기중 가장 낮은값(A, T / 1 ~ 4)\n",
    "- N: 1 ~ 100,000\n",
    "- M: 1 ~ 50,000\n",
    "- P, Q의 요소: 0 ~ N - 1\n",
    "- P[K] <= Q[K], 0<= K < M"
   ]
  },
  {
   "cell_type": "code",
   "execution_count": 7,
   "metadata": {},
   "outputs": [
    {
     "name": "stdout",
     "output_type": "stream",
     "text": [
      "[Case 1] Answer: [2, 4, 1], Correct: [2, 4, 1], Solved: True\n",
      "[Result] Solved: 1, Failed: 0\n"
     ]
    }
   ],
   "source": [
    "def solution(S, P, Q):\n",
    "    answer = []\n",
    "    M = len(P)\n",
    "    for i in range(M):\n",
    "        substr = S[P[i]:Q[i] + 1]\n",
    "        if 'A' in substr:\n",
    "            answer.append(1)\n",
    "            continue\n",
    "        elif 'C' in substr:\n",
    "            answer.append(2)\n",
    "            continue\n",
    "        elif 'G' in substr:\n",
    "            answer.append(3)\n",
    "            continue\n",
    "        answer.append(4)\n",
    "    return answer\n",
    "\n",
    "import sys\n",
    "path = sys.path[0]\n",
    "path = path[:path.index('code_test') + 9]\n",
    "if path not in sys.path:\n",
    "    sys.path.append(path)\n",
    "from util.code_test_util import CodeTestUtil\n",
    "code_test_util = CodeTestUtil()\n",
    "code_test_util.set_multi_args(True)\n",
    "code_test_util.solution = solution\n",
    "code_test_util.add_data_case(['CAGCCTA', [2, 5, 0], [4, 5, 6]], [2, 4, 1])\n",
    "code_test_util.run()"
   ]
  }
 ],
 "metadata": {
  "interpreter": {
   "hash": "f9ccdf3afa3dc3e101816fbeb38d5182e8e63e68ddc1acefd7abf85a12f12e7d"
  },
  "kernelspec": {
   "display_name": "Python 3.9.7 64-bit",
   "language": "python",
   "name": "python3"
  },
  "language_info": {
   "codemirror_mode": {
    "name": "ipython",
    "version": 3
   },
   "file_extension": ".py",
   "mimetype": "text/x-python",
   "name": "python",
   "nbconvert_exporter": "python",
   "pygments_lexer": "ipython3",
   "version": "3.9.7"
  },
  "orig_nbformat": 4
 },
 "nbformat": 4,
 "nbformat_minor": 2
}
