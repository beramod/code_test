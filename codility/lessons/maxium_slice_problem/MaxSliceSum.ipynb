{
 "cells": [
  {
   "cell_type": "markdown",
   "metadata": {},
   "source": [
    "* https://app.codility.com/programmers/lessons/9-maximum_slice_problem/max_slice_sum/\n",
    "\n",
    "```\n",
    "A non-empty array A consisting of N integers is given. A pair of integers (P, Q), such that 0 ≤ P ≤ Q < N, is called a slice of array A. The sum of a slice (P, Q) is the total of A[P] + A[P+1] + ... + A[Q].\n",
    "\n",
    "Write a function:\n",
    "\n",
    "def solution(A)\n",
    "\n",
    "that, given an array A consisting of N integers, returns the maximum sum of any slice of A.\n",
    "\n",
    "For example, given array A such that:\n",
    "\n",
    "A[0] = 3  A[1] = 2  A[2] = -6\n",
    "A[3] = 4  A[4] = 0\n",
    "the function should return 5 because:\n",
    "\n",
    "(3, 4) is a slice of A that has sum 4,\n",
    "(2, 2) is a slice of A that has sum −6,\n",
    "(0, 1) is a slice of A that has sum 5,\n",
    "no other slice of A has sum greater than (0, 1).\n",
    "Write an efficient algorithm for the following assumptions:\n",
    "\n",
    "N is an integer within the range [1..1,000,000];\n",
    "each element of array A is an integer within the range [−1,000,000..1,000,000];\n",
    "the result will be an integer within the range [−2,147,483,648..2,147,483,647].\n",
    "```\n",
    "\n",
    "### 조건\n",
    "- N개의 배열 A에서 P, Q slice sum의 최대값 반환\n",
    "    - N: 1 ~ 1,000,000\n",
    "    - A: -1,000,000 ~ 1,000,000\n",
    "\n",
    "### 풀이\n",
    "- Kadane's Algorithm 참고(카데인 알고리즘)"
   ]
  },
  {
   "cell_type": "code",
   "execution_count": 50,
   "metadata": {},
   "outputs": [
    {
     "name": "stdout",
     "output_type": "stream",
     "text": [
      "1 2 2\n",
      "1 3 3\n",
      "1 4 4\n",
      "1 5 5\n",
      "1 6 6\n",
      "-1 5 6\n",
      "1 6 6\n",
      "1 7 7\n",
      "1 8 8\n",
      "1 9 9\n",
      "1 10 10\n",
      "1 11 11\n",
      "[Case 1] Answer: 11, Correct: 11, Solved: True\n",
      "[Result] Solved: 1, Failed: 0\n"
     ]
    }
   ],
   "source": [
    "def solution(A):\n",
    "    N = len(A)\n",
    "    if N == 1:\n",
    "        return A[0]\n",
    "    \n",
    "    local_max_sum = A[0]\n",
    "    global_max_sum = A[0]\n",
    "    \n",
    "    for i in range(1, N):\n",
    "        local_max_sum = max(A[i], local_max_sum + A[i])\n",
    "        global_max_sum = max(local_max_sum, global_max_sum)\n",
    "    return global_max_sum\n",
    "\n",
    "import sys\n",
    "path = sys.path[0]\n",
    "path = path[:path.index('code_test') + 9]\n",
    "if path not in sys.path:\n",
    "    sys.path.append(path)\n",
    "from util.code_test_util import CodeTestUtil\n",
    "code_test_util = CodeTestUtil()\n",
    "code_test_util.set_multi_args(False)\n",
    "code_test_util.solution = solution\n",
    "code_test_util.add_data_case([3, 2, -6, 4, 0], 5)\n",
    "code_test_util.add_data_case([-1, -2, -3, -4, -5], -1)\n",
    "code_test_util.add_data_case([-2, 1, 1], 2)\n",
    "code_test_util.add_data_case([1, 1, 1, 1, 1, 1, -1, 1, 1, 1, 1, 1, 1], 11)\n",
    "code_test_util.run()"
   ]
  }
 ],
 "metadata": {
  "interpreter": {
   "hash": "f9ccdf3afa3dc3e101816fbeb38d5182e8e63e68ddc1acefd7abf85a12f12e7d"
  },
  "kernelspec": {
   "display_name": "Python 3.9.7 64-bit",
   "language": "python",
   "name": "python3"
  },
  "language_info": {
   "codemirror_mode": {
    "name": "ipython",
    "version": 3
   },
   "file_extension": ".py",
   "mimetype": "text/x-python",
   "name": "python",
   "nbconvert_exporter": "python",
   "pygments_lexer": "ipython3",
   "version": "3.9.7"
  },
  "orig_nbformat": 4
 },
 "nbformat": 4,
 "nbformat_minor": 2
}
