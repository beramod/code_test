{
 "cells": [
  {
   "cell_type": "markdown",
   "metadata": {},
   "source": [
    "* https://app.codility.com/programmers/lessons/16-greedy_algorithms/max_nonoverlapping_segments/\n",
    "\n",
    "```\n",
    "Located on a line are N segments, numbered from 0 to N − 1, whose positions are given in arrays A and B. For each I (0 ≤ I < N) the position of segment I is from A[I] to B[I] (inclusive). The segments are sorted by their ends, which means that B[K] ≤ B[K + 1] for K such that 0 ≤ K < N − 1.\n",
    "\n",
    "Two segments I and J, such that I ≠ J, are overlapping if they share at least one common point. In other words, A[I] ≤ A[J] ≤ B[I] or A[J] ≤ A[I] ≤ B[J].\n",
    "\n",
    "We say that the set of segments is non-overlapping if it contains no two overlapping segments. The goal is to find the size of a non-overlapping set containing the maximal number of segments.\n",
    "\n",
    "For example, consider arrays A, B such that:\n",
    "\n",
    "    A[0] = 1    B[0] = 5\n",
    "    A[1] = 3    B[1] = 6\n",
    "    A[2] = 7    B[2] = 8\n",
    "    A[3] = 9    B[3] = 9\n",
    "    A[4] = 9    B[4] = 10\n",
    "The segments are shown in the figure below.\n",
    "\n",
    "\n",
    "\n",
    "The size of a non-overlapping set containing a maximal number of segments is 3. For example, possible sets are {0, 2, 3}, {0, 2, 4}, {1, 2, 3} or {1, 2, 4}. There is no non-overlapping set with four segments.\n",
    "\n",
    "Write a function:\n",
    "\n",
    "def solution(A, B)\n",
    "\n",
    "that, given two arrays A and B consisting of N integers, returns the size of a non-overlapping set containing a maximal number of segments.\n",
    "\n",
    "For example, given arrays A, B shown above, the function should return 3, as explained above.\n",
    "\n",
    "Write an efficient algorithm for the following assumptions:\n",
    "\n",
    "N is an integer within the range [0..30,000];\n",
    "each element of arrays A and B is an integer within the range [0..1,000,000,000];\n",
    "A[I] ≤ B[I], for each I (0 ≤ I < N);\n",
    "B[K] ≤ B[K + 1], for each K (0 ≤ K < N − 1).\n",
    "```\n",
    "\n",
    "### 조건\n",
    "- 세그먼트는 N개, 배열 A와 B에 각각 위치가 주어짐.\n",
    "    - N: 0 ~ 30,000\n",
    "    - A, B: 0 ~ 1,000,000,000\n",
    "    - A[I] <= B[I] (0 <= I < N)\n",
    "    - B[K] <= B[K + 1] (0 <= K < N - 1)\n",
    "- 세그먼트 I의 위치는 A[I] to B[I] 까지\n",
    "- 각 세그먼트는 끝의 위치에 따라 정렬됨\n",
    "- 겹치지 않는 최대 세그먼트 수를 반환하라\n",
    "\n",
    "### 풀이\n",
    "- 이전 세그먼트의 오른쪽 끝과 다음 세그먼트의 왼쪽 끝을 비교\n",
    "- 겹칠때 오른쪽 끝의 길이가 더 짧은 세그먼트로 선택\n",
    "- 겹치지 않는다면 count"
   ]
  },
  {
   "cell_type": "code",
   "execution_count": 71,
   "metadata": {},
   "outputs": [
    {
     "name": "stdout",
     "output_type": "stream",
     "text": [
      "[Case 1] Answer: 2, Correct: 3, Solved: False\n",
      "[Case 2] Answer: 1, Correct: 1, Solved: True\n",
      "[Case 3] Answer: 2, Correct: 3, Solved: False\n",
      "[Result] Solved: 1, Failed: 2\n"
     ]
    }
   ],
   "source": [
    "def solution(A, B):\n",
    "    N = len(B)\n",
    "    if N < 2:\n",
    "        return N\n",
    "    segments = [(A[0], B[0])]\n",
    "    \n",
    "    for i in range(1, N):\n",
    "        pre_segment = segments[-1]\n",
    "        if A[i] <= pre_segment[1]:\n",
    "            if B[i] < pre_segment[0]:\n",
    "                segments.pop()\n",
    "                segments.append((A[i], B[i]))\n",
    "        else:\n",
    "            segments.append((A[i], B[i]))\n",
    "\n",
    "    return len(segments)\n",
    "\n",
    "import sys\n",
    "path = sys.path[0]\n",
    "path = path[:path.index('code_test') + 9]\n",
    "if path not in sys.path:\n",
    "    sys.path.append(path)\n",
    "from util.code_test_util import CodeTestUtil\n",
    "code_test_util = CodeTestUtil()\n",
    "code_test_util.set_multi_args(True)\n",
    "code_test_util.solution = solution\n",
    "code_test_util.add_data_case([[1, 3, 7, 9, 9], [5, 6, 8, 9, 10]], 3)\n",
    "code_test_util.add_data_case([[0], [0]], 1)\n",
    "code_test_util.add_data_case([[0, 2, 100], [0, 50, 1000]], 3)\n",
    "code_test_util.run()"
   ]
  }
 ],
 "metadata": {
  "interpreter": {
   "hash": "f9ccdf3afa3dc3e101816fbeb38d5182e8e63e68ddc1acefd7abf85a12f12e7d"
  },
  "kernelspec": {
   "display_name": "Python 3.9.7 64-bit",
   "language": "python",
   "name": "python3"
  },
  "language_info": {
   "codemirror_mode": {
    "name": "ipython",
    "version": 3
   },
   "file_extension": ".py",
   "mimetype": "text/x-python",
   "name": "python",
   "nbconvert_exporter": "python",
   "pygments_lexer": "ipython3",
   "version": "3.9.7"
  },
  "orig_nbformat": 4
 },
 "nbformat": 4,
 "nbformat_minor": 2
}
