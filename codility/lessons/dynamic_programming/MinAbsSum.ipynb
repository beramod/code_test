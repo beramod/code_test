{
 "cells": [
  {
   "cell_type": "markdown",
   "metadata": {},
   "source": [
    "* https://app.codility.com/programmers/lessons/17-dynamic_programming/min_abs_sum/\n",
    "\n",
    "```\n",
    "For a given array A of N integers and a sequence S of N integers from the set {−1, 1}, we define val(A, S) as follows:\n",
    "\n",
    "val(A, S) = |sum{ A[i]*S[i] for i = 0..N−1 }|\n",
    "\n",
    "(Assume that the sum of zero elements equals zero.)\n",
    "\n",
    "For a given array A, we are looking for such a sequence S that minimizes val(A,S).\n",
    "\n",
    "Write a function:\n",
    "\n",
    "def solution(A)\n",
    "\n",
    "that, given an array A of N integers, computes the minimum value of val(A,S) from all possible values of val(A,S) for all possible sequences S of N integers from the set {−1, 1}.\n",
    "\n",
    "For example, given array:\n",
    "\n",
    "  A[0] =  1\n",
    "  A[1] =  5\n",
    "  A[2] =  2\n",
    "  A[3] = -2\n",
    "your function should return 0, since for S = [−1, 1, −1, 1], val(A, S) = 0, which is the minimum possible value.\n",
    "\n",
    "Write an efficient algorithm for the following assumptions:\n",
    "\n",
    "N is an integer within the range [0..20,000];\n",
    "each element of array A is an integer within the range [−100..100].\n",
    "```\n",
    "\n",
    "### 조건\n",
    "- 주어진 N개의 요소를 가진 배열 A와의 집합 {-1, 1}으로 이루어진 N개의 요소를 가진 수열 S에 대해 val(A, S)를 아래와 같이 정의한다.\n",
    "    - N: 0 ~ 20,000\n",
    "    - A: -100 ~ 100\n",
    "- val(A, S) = |sum{ A[i] * S[i] for i = 0..N - 1}|\n",
    "    - 0개의 원소의 합은 0으로 가정\n",
    "- 집합 {-1, 1}에서 N개의 정수의 가능한 모든시퀀스 S에 대해 가능한 모든 val(A, S)의 값중 최소값을 반환\n",
    "\n",
    "### 풀이\n",
    "- 0 <= val(A, S)\n",
    "- gg...\n",
    "- 정답: https://codility.com/media/train/solution-min-abs-sum.pdf"
   ]
  },
  {
   "cell_type": "code",
   "execution_count": 18,
   "metadata": {},
   "outputs": [
    {
     "name": "stdout",
     "output_type": "stream",
     "text": [
      "[Case 1] Answer: 0, Correct: 0, Solved: True\n",
      "[Case 2] Answer: 0, Correct: 0, Solved: True\n",
      "[Case 3] Answer: 93, Correct: 93, Solved: True\n",
      "[Case 4] Answer: 0, Correct: 0, Solved: True\n",
      "[Case 5] Answer: 1, Correct: 1, Solved: True\n",
      "[Case 6] Answer: 0, Correct: 0, Solved: True\n",
      "[Result] Solved: 6, Failed: 0\n"
     ]
    }
   ],
   "source": [
    "## O(N**2 * max(abs(A)))\n",
    "def solution(A):\n",
    "    N = len(A)\n",
    "    if N == 0:\n",
    "        return 0\n",
    "    if N == 1:\n",
    "        return abs(A[0])\n",
    "    \n",
    "    pre_temp = [A[0]]\n",
    "    for i in range(1, N):\n",
    "        new_temp = []\n",
    "        for val in pre_temp:\n",
    "            new_temp.append(abs(A[i] - val))\n",
    "            new_temp.append(abs(A[i] + val))\n",
    "        pre_temp = list(set(new_temp))\n",
    "    return min(pre_temp)\n",
    "    \n",
    "import sys\n",
    "path = sys.path[0]\n",
    "path = path[:path.index('code_test') + 9]\n",
    "if path not in sys.path:\n",
    "    sys.path.append(path)\n",
    "from util.code_test_util import CodeTestUtil\n",
    "code_test_util = CodeTestUtil()\n",
    "code_test_util.set_multi_args(False)\n",
    "code_test_util.solution = solution\n",
    "code_test_util.add_data_case([1, 5, 2, -2], 0)\n",
    "code_test_util.add_data_case([-1, 1, -1, 1], 0)\n",
    "code_test_util.add_data_case([99, 1, 2, 1, 2], 93)\n",
    "code_test_util.add_data_case([], 0)\n",
    "code_test_util.add_data_case([-1], 1)\n",
    "code_test_util.add_data_case([3, 3, 3, 4, 5], 0)\n",
    "code_test_util.run()\n"
   ]
  }
 ],
 "metadata": {
  "interpreter": {
   "hash": "f9ccdf3afa3dc3e101816fbeb38d5182e8e63e68ddc1acefd7abf85a12f12e7d"
  },
  "kernelspec": {
   "display_name": "Python 3.9.7 64-bit",
   "language": "python",
   "name": "python3"
  },
  "language_info": {
   "codemirror_mode": {
    "name": "ipython",
    "version": 3
   },
   "file_extension": ".py",
   "mimetype": "text/x-python",
   "name": "python",
   "nbconvert_exporter": "python",
   "pygments_lexer": "ipython3",
   "version": "3.9.7"
  },
  "orig_nbformat": 4
 },
 "nbformat": 4,
 "nbformat_minor": 2
}
