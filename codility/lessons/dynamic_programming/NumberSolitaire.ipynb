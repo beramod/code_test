{
 "cells": [
  {
   "cell_type": "markdown",
   "metadata": {},
   "source": [
    "* https://app.codility.com/programmers/lessons/17-dynamic_programming/number_solitaire/\n",
    "\n",
    "```\n",
    "A game for one player is played on a board consisting of N consecutive squares, numbered from 0 to N − 1. There is a number written on each square. A non-empty array A of N integers contains the numbers written on the squares. Moreover, some squares can be marked during the game.\n",
    "\n",
    "At the beginning of the game, there is a pebble on square number 0 and this is the only square on the board which is marked. The goal of the game is to move the pebble to square number N − 1.\n",
    "\n",
    "During each turn we throw a six-sided die, with numbers from 1 to 6 on its faces, and consider the number K, which shows on the upper face after the die comes to rest. Then we move the pebble standing on square number I to square number I + K, providing that square number I + K exists. If square number I + K does not exist, we throw the die again until we obtain a valid move. Finally, we mark square number I + K.\n",
    "\n",
    "After the game finishes (when the pebble is standing on square number N − 1), we calculate the result. The result of the game is the sum of the numbers written on all marked squares.\n",
    "\n",
    "For example, given the following array:\n",
    "\n",
    "    A[0] = 1\n",
    "    A[1] = -2\n",
    "    A[2] = 0\n",
    "    A[3] = 9\n",
    "    A[4] = -1\n",
    "    A[5] = -2\n",
    "one possible game could be as follows:\n",
    "\n",
    "the pebble is on square number 0, which is marked;\n",
    "we throw 3; the pebble moves from square number 0 to square number 3; we mark square number 3;\n",
    "we throw 5; the pebble does not move, since there is no square number 8 on the board;\n",
    "we throw 2; the pebble moves to square number 5; we mark this square and the game ends.\n",
    "The marked squares are 0, 3 and 5, so the result of the game is 1 + 9 + (−2) = 8. This is the maximal possible result that can be achieved on this board.\n",
    "\n",
    "Write a function:\n",
    "\n",
    "def solution(A)\n",
    "\n",
    "that, given a non-empty array A of N integers, returns the maximal result that can be achieved on the board represented by array A.\n",
    "\n",
    "For example, given the array\n",
    "\n",
    "    A[0] = 1\n",
    "    A[1] = -2\n",
    "    A[2] = 0\n",
    "    A[3] = 9\n",
    "    A[4] = -1\n",
    "    A[5] = -2\n",
    "the function should return 8, as explained above.\n",
    "\n",
    "Write an efficient algorithm for the following assumptions:\n",
    "\n",
    "N is an integer within the range [2..100,000];\n",
    "each element of array A is an integer within the range [−10,000..10,000].\n",
    "```\n",
    "\n",
    "### 조건\n",
    "- N개의 비어있지 않은 배열 A\n",
    "    - N: 2 ~ 100,000\n",
    "    - A: -10,000 ~ 10,000\n",
    "- A[0]에 놓여진 조약돌을 A[N-1]까지 옮겨야함\n",
    "- 6면체 주사위를 던져 숫자 K를 얻는다.\n",
    "- 현재 위치가 I일때, I + K 위치가 존재한다면 이동.\n",
    "- 존재하지 않는다면 나올때 까지 다시 굴림\n",
    "- 게임기 끝난후 방문했던 배열에 쓰인 값의 합중 최대값을 반환하라.\n",
    "\n",
    "### 풀이\n",
    "- 최대 6칸 갈수있음\n",
    "- A를 순차적으로 순회하며 6칸중 가장 큰값을 선택하며 결과값을 저장\n",
    "- "
   ]
  },
  {
   "cell_type": "code",
   "execution_count": 36,
   "metadata": {},
   "outputs": [
    {
     "name": "stdout",
     "output_type": "stream",
     "text": [
      "[-4, -4, -4, -4, -4, -4, -4, -7, -4, -4, -4, -4, -4, -4, -4, -4, -4, -4]\n",
      "[-4, -4, -4, -4, -4, -4, -4, -7, -6, -4, -4, -4, -4, -4, -4, -4, -4, -4]\n",
      "[-4, -4, -4, -4, -4, -4, -4, -7, -6, -5, -4, -4, -4, -4, -4, -4, -4, -4]\n",
      "[-4, -4, -4, -4, -4, -4, -4, -7, -6, -5, -8, -4, -4, -4, -4, -4, -4, -4]\n",
      "[-4, -4, -4, -4, -4, -4, -4, -7, -6, -5, -8, -6, -4, -4, -4, -4, -4, -4]\n",
      "[-4, -4, -4, -4, -4, -4, -4, -7, -6, -5, -8, -6, -5, -4, -4, -4, -4, -4]\n",
      "[-4, -4, -4, -4, -4, -4, -4, -7, -6, -5, -8, -6, -5, -9, -4, -4, -4, -4]\n",
      "[-4, -4, -4, -4, -4, -4, -4, -7, -6, -5, -8, -6, -5, -9, -7, -4, -4, -4]\n",
      "[-4, -4, -4, -4, -4, -4, -4, -7, -6, -5, -8, -6, -5, -9, -7, -6, -4, -4]\n",
      "[-4, -4, -4, -4, -4, -4, -4, -7, -6, -5, -8, -6, -5, -9, -7, -6, -10, -4]\n",
      "[-4, -4, -4, -4, -4, -4, -4, -7, -6, -5, -8, -6, -5, -9, -7, -6, -10, -6]\n",
      "[Case 1] Answer: -6, Correct: -6, Solved: True\n",
      "[Result] Solved: 1, Failed: 0\n"
     ]
    }
   ],
   "source": [
    "def solution(A):\n",
    "    N = len(A)\n",
    "    answer = [A[0]] * (N + 6)\n",
    "    \n",
    "    for i in range(1, N):\n",
    "        answer[i + 6] = max(answer[i : i + 6]) + A[i]\n",
    "\n",
    "    return answer[-1]\n",
    "\n",
    "import sys\n",
    "path = sys.path[0]\n",
    "path = path[:path.index('code_test') + 9]\n",
    "if path not in sys.path:\n",
    "    sys.path.append(path)\n",
    "from util.code_test_util import CodeTestUtil\n",
    "code_test_util = CodeTestUtil()\n",
    "code_test_util.set_multi_args(False)\n",
    "code_test_util.solution = solution\n",
    "code_test_util.add_data_case([1, -2, 0, 9, -1, -2], 8)\n",
    "code_test_util.add_data_case([1, 2], 3)\n",
    "code_test_util.add_data_case([-4, -3, -2, -1, -4, -2, -1, -4, -2, -1, -5, -1], -6)\n",
    "code_test_util.add_data_case([1, -2, 4, 3, -1, -3, -7, 4, -9], 3)\n",
    "code_test_util.run()"
   ]
  }
 ],
 "metadata": {
  "interpreter": {
   "hash": "f9ccdf3afa3dc3e101816fbeb38d5182e8e63e68ddc1acefd7abf85a12f12e7d"
  },
  "kernelspec": {
   "display_name": "Python 3.9.7 64-bit",
   "language": "python",
   "name": "python3"
  },
  "language_info": {
   "codemirror_mode": {
    "name": "ipython",
    "version": 3
   },
   "file_extension": ".py",
   "mimetype": "text/x-python",
   "name": "python",
   "nbconvert_exporter": "python",
   "pygments_lexer": "ipython3",
   "version": "3.9.7"
  },
  "orig_nbformat": 4
 },
 "nbformat": 4,
 "nbformat_minor": 2
}
