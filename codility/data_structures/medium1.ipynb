{
 "cells": [
  {
   "cell_type": "markdown",
   "metadata": {},
   "source": [
    "* https://app.codility.com/programmers/trainings/7/count_bounded_slices/\n",
    "\n",
    "```\n",
    "An integer K and a non-empty array A consisting of N integers are given.\n",
    "\n",
    "A pair of integers (P, Q), such that 0 ≤ P ≤ Q < N, is called a slice of array A.\n",
    "\n",
    "A bounded slice is a slice in which the difference between the maximum and minimum values in the slice is less than or equal to K. More precisely it is a slice, such that max(A[P], A[P + 1], ..., A[Q]) − min(A[P], A[P + 1], ..., A[Q]) ≤ K.\n",
    "\n",
    "The goal is to calculate the number of bounded slices.\n",
    "\n",
    "For example, consider K = 2 and array A such that:\n",
    "\n",
    "    A[0] = 3\n",
    "    A[1] = 5\n",
    "    A[2] = 7\n",
    "    A[3] = 6\n",
    "    A[4] = 3\n",
    "There are exactly nine bounded slices: (0, 0), (0, 1), (1, 1), (1, 2), (1, 3), (2, 2), (2, 3), (3, 3), (4, 4).\n",
    "\n",
    "Write a function:\n",
    "\n",
    "class Solution { public int solution(int K, int[] A); }\n",
    "\n",
    "that, given an integer K and a non-empty array A of N integers, returns the number of bounded slices of array A.\n",
    "\n",
    "If the number of bounded slices is greater than 1,000,000,000, the function should return 1,000,000,000.\n",
    "\n",
    "For example, given:\n",
    "\n",
    "    A[0] = 3\n",
    "    A[1] = 5\n",
    "    A[2] = 7\n",
    "    A[3] = 6\n",
    "    A[4] = 3\n",
    "the function should return 9, as explained above.\n",
    "\n",
    "Write an efficient algorithm for the following assumptions:\n",
    "\n",
    "N is an integer within the range [1..100,000];\n",
    "K is an integer within the range [0..1,000,000,000];\n",
    "each element of array A is an integer within the range [−1,000,000,000..1,000,000,000].\n",
    "```\n",
    "\n",
    "### 조건\n",
    "- 시작 index, 마지막 index로 부분 배열을 만드는데, 부분 배열의 최소값과 최대값의 차가 K 이하가 되도록 만들어라.\n",
    "- 총 페어의 수 리턴\n",
    "- 페어의 수가 1,000,000,000 보다 클 경우 1,000,000,000 반환"
   ]
  },
  {
   "cell_type": "code",
   "execution_count": 15,
   "metadata": {},
   "outputs": [
    {
     "name": "stdout",
     "output_type": "stream",
     "text": [
      "[3, 5]\n",
      "9\n"
     ]
    }
   ],
   "source": [
    "def solution(K, A):\n",
    "    def sort(left, right):\n",
    "        count = 1\n",
    "        if right - left > 1:\n",
    "            mid = (left + right) // 2\n",
    "            count += sort(left, mid)\n",
    "            count += sort(mid, right)\n",
    "            count += merge(left, mid, right)\n",
    "        return count\n",
    "\n",
    "    def merge(left, mid, right):\n",
    "        temp = []\n",
    "        l, r = left, mid\n",
    "        count = 0\n",
    "\n",
    "        while l < mid and r < right:\n",
    "            if A[l] < A[r]:\n",
    "                temp.append(A[l])\n",
    "                l += 1\n",
    "            else:\n",
    "                temp.append(A[r])\n",
    "                r += 1\n",
    "        while l < mid:\n",
    "            temp.append(A[l])\n",
    "            l += 1\n",
    "        while r < right:\n",
    "            temp.append(A[r])\n",
    "            r += 1\n",
    "        if temp[(right - left) - 1] - temp[0] <= K:\n",
    "            count += 1\n",
    "        for i in range(left, right):\n",
    "            A[i] = temp[i - left]\n",
    "        \n",
    "        return count\n",
    "    count = sort(0, len(A)) - 1\n",
    "    return count if count < 1000000000 else 1000000000\n",
    "\n",
    "data_cases = [\n",
    "    [2, [3, 5, 7, 6, 3]], # 9\n",
    "]\n",
    "\n",
    "for data_case in data_cases:\n",
    "    print(solution(*data_case))"
   ]
  },
  {
   "cell_type": "code",
   "execution_count": 16,
   "metadata": {},
   "outputs": [
    {
     "name": "stdout",
     "output_type": "stream",
     "text": [
      "9\n"
     ]
    }
   ],
   "source": [
    "# O(N^2)\n",
    "def solution(K, A):\n",
    "    len_a = len(A)\n",
    "    count = 0\n",
    "    for i in range(len_a):\n",
    "        count += 1\n",
    "        min_val = A[i]\n",
    "        max_val = A[i]\n",
    "        for j in range(i + 1, len_a):\n",
    "            min_val = min(min_val, A[j])\n",
    "            max_val = max(max_val, A[j])\n",
    "            if max_val - min_val <= K:\n",
    "                count += 1\n",
    "                if count == 1000000000:\n",
    "                    return count\n",
    "            else:\n",
    "                break\n",
    "    return count\n",
    "\n",
    "data_cases = [\n",
    "    [2, [3, 5, 7, 6, 3]], # 9\n",
    "]\n",
    "\n",
    "for data_case in data_cases:\n",
    "    print(solution(*data_case))"
   ]
  }
 ],
 "metadata": {
  "interpreter": {
   "hash": "aee8b7b246df8f9039afb4144a1f6fd8d2ca17a180786b69acc140d282b71a49"
  },
  "kernelspec": {
   "display_name": "Python 3.9.1 64-bit",
   "language": "python",
   "name": "python3"
  },
  "language_info": {
   "codemirror_mode": {
    "name": "ipython",
    "version": 3
   },
   "file_extension": ".py",
   "mimetype": "text/x-python",
   "name": "python",
   "nbconvert_exporter": "python",
   "pygments_lexer": "ipython3",
   "version": "3.9.1"
  },
  "orig_nbformat": 4
 },
 "nbformat": 4,
 "nbformat_minor": 2
}
