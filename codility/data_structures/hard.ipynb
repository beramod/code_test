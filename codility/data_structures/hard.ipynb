{
 "cells": [
  {
   "cell_type": "markdown",
   "metadata": {},
   "source": [
    "* https://app.codility.com/programmers/trainings/7/countries_count/\n",
    "\n",
    "```\n",
    "A rectangular map consisting of N rows and M columns of square areas is given. Each area is painted with a certain color.\n",
    "\n",
    "Two areas on the map belong to the same country if the following conditions are met:\n",
    "\n",
    "they have the same color;\n",
    "it is possible to travel from one area to the other orthogonally (that is, by moving only north, south, west or east) without moving over areas of a different color.\n",
    "The map can be described by a zero-indexed matrix A consisting of N rows and M columns of integers. The color of each area is described by the corresponding element of the matrix. Two areas have the same color if and only if their corresponding matrix elements have the same value.\n",
    "\n",
    "For example, consider the following matrix A consisting of seven rows and three columns:\n",
    "\n",
    "A[0][0] = 5    A[0][1] = 4    A[0][2] = 4\n",
    "A[1][0] = 4    A[1][1] = 3    A[1][2] = 4\n",
    "A[2][0] = 3    A[2][1] = 2    A[2][2] = 4\n",
    "A[3][0] = 2    A[3][1] = 2    A[3][2] = 2\n",
    "A[4][0] = 3    A[4][1] = 3    A[4][2] = 4\n",
    "A[5][0] = 1    A[5][1] = 4    A[5][2] = 4\n",
    "A[6][0] = 4    A[6][1] = 1    A[6][2] = 1\n",
    "Matrix A describes a map that is colored with five colors. The areas on the map belong to eleven different countries (C1−C11), as shown in the following figure:\n",
    "\n",
    "\n",
    "Write a function\n",
    "\n",
    "class Solution { public int solution(int[][] A); }\n",
    "\n",
    "that, given a zero-indexed matrix A consisting of N rows and M columns of integers, returns the number of different countries to which the areas of the map described by matrix A belong.\n",
    "\n",
    "For example, given matrix A consisting of seven rows and three columns corresponding to the example above, the function should return 11.\n",
    "\n",
    "Write an efficient algorithm for the following assumptions:\n",
    "\n",
    "N and M are integers within the range [1..300,000];\n",
    "the number of elements in matrix A is within the range [1..300,000];\n",
    "each element of matrix A is an integer within the range [−1,000,000,000..1,000,000,000].\n",
    "```\n",
    "\n",
    "### 조건\n",
    "- 직사각형의 맵이 주어진다.\n",
    "- 2차 배열에서 동, 서, 남, 북 방향으로 같은 색이 연속된 경우 같은 영역으로 본다.\n",
    "- 총 영역의 갯수 반환"
   ]
  },
  {
   "cell_type": "code",
   "execution_count": 28,
   "metadata": {},
   "outputs": [
    {
     "name": "stdout",
     "output_type": "stream",
     "text": [
      "[Case 1] Answer: 11, Correct: 11, Solved: True\n",
      "[Result] Solved: 1, Failed: 0\n"
     ]
    }
   ],
   "source": [
    "from collections import defaultdict\n",
    "\n",
    "def dfs(root, A, val, visit_map, horizontal, vertical):\n",
    "    stack = [root]\n",
    "    while stack:\n",
    "        node = stack.pop()\n",
    "        if A[node[0]][node[1]] != val or visit_map[node[0]][node[1]] == val:\n",
    "            continue\n",
    "        visit_map[node[0]][node[1]] = val\n",
    "        if node[1] > 0 and visit_map[node[0]][node[1] - 1] != val and A[node[0]][node[1] - 1] == val:\n",
    "            stack.append((node[0], node[1] - 1))\n",
    "        if node[0] > 0 and visit_map[node[0] - 1][node[1]] != val and A[node[0] - 1][node[1]] == val:\n",
    "            stack.append((node[0] - 1, node[1]))\n",
    "        if node[1] < horizontal - 1 and visit_map[node[0]][node[1] + 1] != val and A[node[0]][node[1] + 1] == val:\n",
    "            stack.append((node[0], node[1] + 1))\n",
    "        if node[0] < vertical - 1 and visit_map[node[0] + 1][node[1]] != val and A[node[0] + 1][node[1]] == val:\n",
    "            stack.append((node[0] + 1, node[1]))\n",
    "\n",
    "def solution(A):\n",
    "    count = 0\n",
    "    vertical = len(A)\n",
    "    horizontal = len(A[0])\n",
    "    val_dict = defaultdict(list)\n",
    "    visit_map = [['x'] * horizontal for i in range(vertical)]\n",
    "\n",
    "    for i in range(vertical):\n",
    "        for j in range(horizontal):\n",
    "            val_dict[A[i][j]].append((i, j))    \n",
    "    for val in val_dict:\n",
    "        if len(val_dict.get(val)) == 1:\n",
    "            count += 1\n",
    "            continue\n",
    "        for i, j in val_dict.get(val):\n",
    "            if visit_map[i][j] == val:\n",
    "                continue\n",
    "            count += 1\n",
    "            dfs((i, j), A, val, visit_map, horizontal, vertical)\n",
    "\n",
    "    return count\n",
    "\n",
    "import sys\n",
    "path = sys.path[0]\n",
    "path = path[:path.index('code_test') + 9]\n",
    "if path not in sys.path:\n",
    "    sys.path.append(path)\n",
    "from util.code_test_util import CodeTestUtil\n",
    "code_test_util = CodeTestUtil()\n",
    "code_test_util.solution = solution\n",
    "code_test_util.add_data_case(\n",
    "    [[5, 4, 4], [4, 3, 4], [3, 2, 4], [2, 2, 2], [3, 3, 4], [1, 4, 4], [4, 1, 1]],\n",
    "    11\n",
    ")\n",
    "code_test_util.run()"
   ]
  }
 ],
 "metadata": {
  "interpreter": {
   "hash": "aee8b7b246df8f9039afb4144a1f6fd8d2ca17a180786b69acc140d282b71a49"
  },
  "kernelspec": {
   "display_name": "Python 3.9.1 64-bit",
   "language": "python",
   "name": "python3"
  },
  "language_info": {
   "codemirror_mode": {
    "name": "ipython",
    "version": 3
   },
   "file_extension": ".py",
   "mimetype": "text/x-python",
   "name": "python",
   "nbconvert_exporter": "python",
   "pygments_lexer": "ipython3",
   "version": "3.9.1"
  },
  "orig_nbformat": 4
 },
 "nbformat": 4,
 "nbformat_minor": 2
}
