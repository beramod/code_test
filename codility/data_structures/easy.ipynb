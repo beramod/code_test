{
 "cells": [
  {
   "cell_type": "markdown",
   "metadata": {},
   "source": [
    "* https://app.codility.com/programmers/trainings/7/arr_list_len/\n",
    "\n",
    "```\n",
    "A non-empty array A consisting of N integers is given.\n",
    "\n",
    "Array A represents a linked list. A list is constructed from this array as follows:\n",
    "\n",
    "the first node (the head) is located at index 0;\n",
    "the value of a node located at index K is A[K];\n",
    "if the value of a node is −1 then it is the last node of the list;\n",
    "otherwise, the successor of a node located at index K is located at index A[K] (you can assume that A[K] is a valid index, that is 0 ≤ A[K] < N).\n",
    "For example, for array A such that:\n",
    "\n",
    "  A[0] =  1\n",
    "  A[1] =  4\n",
    "  A[2] = -1\n",
    "  A[3] =  3\n",
    "  A[4] =  2\n",
    "\n",
    "\n",
    "the following list is constructed:\n",
    "\n",
    "the first node (the head) is located at index 0 and has a value of 1;\n",
    "the second node is located at index 1 and has a value of 4;\n",
    "the third node is located at index 4 and has a value of 2;\n",
    "the fourth node is located at index 2 and has a value of −1.\n",
    "Write a function:\n",
    "\n",
    "class Solution { public int solution(int[] A); }\n",
    "\n",
    "that, given a non-empty array A consisting of N integers, returns the length of the list constructed from A in the above manner.\n",
    "\n",
    "For example, given array A such that:\n",
    "\n",
    "  A[0] =  1\n",
    "  A[1] =  4\n",
    "  A[2] = -1\n",
    "  A[3] =  3\n",
    "  A[4] =  2\n",
    "the function should return 4, as explained in the example above.\n",
    "\n",
    "Assume that:\n",
    "\n",
    "N is an integer within the range [1..200,000];\n",
    "each element of array A is an integer within the range [−1..N−1];\n",
    "it will always be possible to construct the list and its length will be finite.\n",
    "In your solution, focus on correctness. The performance of your solution will not be the focus of the assessment.\n",
    "```\n",
    "\n",
    "### 조건\n",
    "- N개의 정수로 구성된 non-empty 배열 A\n",
    "- root node는 0에 위치\n",
    "- 특정 노드의 값은 다음으로 연결된 index를 뜻함\n",
    "- 값이 -1이라면 last node\n",
    "- 연결 리스트의 길이를 반환"
   ]
  },
  {
   "cell_type": "code",
   "execution_count": 1,
   "metadata": {},
   "outputs": [
    {
     "name": "stdout",
     "output_type": "stream",
     "text": [
      "4\n"
     ]
    }
   ],
   "source": [
    "def solution(A):\n",
    "    count = 1\n",
    "    idx = 0\n",
    "    while A[idx] > -1:\n",
    "        idx = A[idx]\n",
    "        count += 1\n",
    "    return count\n",
    "\n",
    "data_cases = [\n",
    "    [1, 4, -1, 3, 2], # 4\n",
    "]\n",
    "\n",
    "for data_case in data_cases:\n",
    "    print(solution(data_case))"
   ]
  }
 ],
 "metadata": {
  "interpreter": {
   "hash": "aee8b7b246df8f9039afb4144a1f6fd8d2ca17a180786b69acc140d282b71a49"
  },
  "kernelspec": {
   "display_name": "Python 3.9.1 64-bit",
   "language": "python",
   "name": "python3"
  },
  "language_info": {
   "codemirror_mode": {
    "name": "ipython",
    "version": 3
   },
   "file_extension": ".py",
   "mimetype": "text/x-python",
   "name": "python",
   "nbconvert_exporter": "python",
   "pygments_lexer": "ipython3",
   "version": "3.9.1"
  },
  "orig_nbformat": 4
 },
 "nbformat": 4,
 "nbformat_minor": 2
}
