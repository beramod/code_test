{
 "cells": [
  {
   "cell_type": "markdown",
   "metadata": {},
   "source": [
    "* https://app.codility.com/programmers/trainings/5/parity_degree/\n",
    "\n",
    "```\n",
    "A positive integer N is given. The goal is to find the highest power of 2 that divides N. In other words, we have to find the maximum K for which N modulo 2^K is 0.\n",
    "\n",
    "For example, given integer N = 24 the answer is 3, because 2^3 = 8 is the highest power of 2 that divides N.\n",
    "\n",
    "Write a function:\n",
    "\n",
    "class Solution { public int solution(int N); }\n",
    "\n",
    "that, given a positive integer N, returns the highest power of 2 that divides N.\n",
    "\n",
    "For example, given integer N = 24, the function should return 3, as explained above.\n",
    "\n",
    "Assume that:\n",
    "\n",
    "N is an integer within the range [1..1,000,000,000].\n",
    "In your solution, focus on correctness. The performance of your solution will not be the focus of the assessment.\n",
    "```\n",
    "\n",
    "### 조건\n",
    "- N % 2^K 가 0이되는 K값 중 가장 높은값\n"
   ]
  },
  {
   "cell_type": "code",
   "execution_count": 32,
   "metadata": {},
   "outputs": [
    {
     "name": "stdout",
     "output_type": "stream",
     "text": [
      "0\n",
      "1\n",
      "3\n"
     ]
    }
   ],
   "source": [
    "import math\n",
    "\n",
    "def solution(N):\n",
    "    left_k = 0\n",
    "    right_k = 29\n",
    "    mid = 0\n",
    "    \n",
    "    while left_k <= right_k:\n",
    "        mid = int((left_k + right_k) / 2)\n",
    "        n = int(math.pow(2, mid))\n",
    "        if N < n:\n",
    "            right_k = mid - 1\n",
    "        elif N > n:\n",
    "            left_k = mid + 1\n",
    "        else:\n",
    "            break\n",
    "    \n",
    "    for k in range(mid, -1, -1):\n",
    "        if N % int(math.pow(2, k)) == 0:\n",
    "            return k\n",
    "\n",
    "data_cases = [\n",
    "    1, # 0\n",
    "    2, # 1\n",
    "    24, # 3\n",
    "]\n",
    "\n",
    "for data_case in data_cases:\n",
    "    print(solution(data_case))"
   ]
  }
 ],
 "metadata": {
  "interpreter": {
   "hash": "f9ccdf3afa3dc3e101816fbeb38d5182e8e63e68ddc1acefd7abf85a12f12e7d"
  },
  "kernelspec": {
   "display_name": "Python 3.9.7 64-bit",
   "language": "python",
   "name": "python3"
  },
  "language_info": {
   "codemirror_mode": {
    "name": "ipython",
    "version": 3
   },
   "file_extension": ".py",
   "mimetype": "text/x-python",
   "name": "python",
   "nbconvert_exporter": "python",
   "pygments_lexer": "ipython3",
   "version": "3.9.7"
  },
  "orig_nbformat": 4
 },
 "nbformat": 4,
 "nbformat_minor": 2
}
