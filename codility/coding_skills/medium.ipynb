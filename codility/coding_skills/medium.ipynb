{
 "cells": [
  {
   "cell_type": "markdown",
   "metadata": {},
   "source": [
    "* https://app.codility.com/programmers/trainings/5/three_letters/\n",
    "\n",
    "```\n",
    "Write a function solution that, given two integers A and B, returns a string containing exactly A letters 'a' and exactly B letters 'b' with no three consecutive letters being the same (in other words, neither \"aaa\" nor \"bbb\" may occur in the returned string).\n",
    "\n",
    "Examples:\n",
    "\n",
    "1. Given A = 5 and B = 3, your function may return \"aabaabab\". Note that \"abaabbaa\" would also be a correct answer. Your function may return any correct answer.\n",
    "\n",
    "2. Given A = 3 and B = 3, your function should return \"ababab\", \"aababb\", \"abaabb\" or any of several other strings.\n",
    "\n",
    "3. Given A = 1 and B = 4, your function should return \"bbabb\", which is the only correct answer in this case.\n",
    "\n",
    "Assume that:\n",
    "\n",
    "A and B are integers within the range [0..100];\n",
    "at least one solution exists for the given A and B.\n",
    "In your solution, focus on correctness. The performance of your solution will not be the focus of the assessment.\n",
    "```\n",
    "\n",
    "### 조건\n",
    "- A는 a문자의 수, B는 b문자의 수\n",
    "- a or b가 세번 연속되지 않는 문자열을 반환\n",
    "- 답은 여러개일 수 있다.\n",
    "\n",
    "### 풀이\n",
    "- a, b가 연속된 횟수를 카운팅하며 문자열 완성"
   ]
  },
  {
   "cell_type": "code",
   "execution_count": 8,
   "metadata": {},
   "outputs": [
    {
     "name": "stdout",
     "output_type": "stream",
     "text": [
      "aabaabab\n",
      "ababab\n",
      "bbabb\n"
     ]
    }
   ],
   "source": [
    "def solution(A, B):\n",
    "    result = ''\n",
    "    con_a = 0\n",
    "    con_b = 0\n",
    "\n",
    "    while A or B:\n",
    "        if (A >= B or con_b == 2) and con_a < 2:\n",
    "            con_b = 0\n",
    "            con_a += 1\n",
    "            result += 'a'\n",
    "            A -= 1\n",
    "        elif (B >= A or con_a == 2) and con_b < 2:\n",
    "            con_a = 0\n",
    "            con_b += 1\n",
    "            result += 'b'\n",
    "            B -= 1\n",
    "    return result\n",
    "\n",
    "data_cases = [\n",
    "    [5, 3], # aabaabab, abaabbaa\n",
    "    [3, 3], # ababab, aababb, abaabb\n",
    "    [1, 4], # bbabb\n",
    "]\n",
    "\n",
    "for data_case in data_cases:\n",
    "    print(solution(*data_case))"
   ]
  }
 ],
 "metadata": {
  "interpreter": {
   "hash": "aee8b7b246df8f9039afb4144a1f6fd8d2ca17a180786b69acc140d282b71a49"
  },
  "kernelspec": {
   "display_name": "Python 3.9.1 64-bit",
   "language": "python",
   "name": "python3"
  },
  "language_info": {
   "codemirror_mode": {
    "name": "ipython",
    "version": 3
   },
   "file_extension": ".py",
   "mimetype": "text/x-python",
   "name": "python",
   "nbconvert_exporter": "python",
   "pygments_lexer": "ipython3",
   "version": "3.9.1"
  },
  "orig_nbformat": 4
 },
 "nbformat": 4,
 "nbformat_minor": 2
}
