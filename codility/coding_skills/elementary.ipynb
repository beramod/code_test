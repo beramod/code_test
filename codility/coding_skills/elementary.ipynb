{
 "cells": [
  {
   "cell_type": "markdown",
   "metadata": {},
   "source": [
    "* https://app.codility.com/programmers/trainings/5/parking_bill/\n",
    "\n",
    "```\n",
    "You parked your car in a parking lot and want to compute the total cost of the ticket. The billing rules are as follows:\n",
    "\n",
    "The entrance fee of the car parking lot is 2;\n",
    "The first full or partial hour costs 3;\n",
    "Each successive full or partial hour (after the first) costs 4.\n",
    "You entered the car parking lot at time E and left at time L. In this task, times are represented as strings in the format \"HH:MM\" (where \"HH\" is a two-digit number between 0 and 23, which stands for hours, and \"MM\" is a two-digit number between 0 and 59, which stands for minutes).\n",
    "\n",
    "Write a function:\n",
    "\n",
    "class Solution { public int solution(String E, String L); }\n",
    "\n",
    "that, given strings E and L specifying points in time in the format \"HH:MM\", returns the total cost of the parking bill from your entry at time E to your exit at time L. You can assume that E describes a time before L on the same day.\n",
    "\n",
    "For example, given \"10:00\" and \"13:21\" your function should return 17, because the entrance fee equals 2, the first hour costs 3 and there are two more full hours and part of a further hour, so the total cost is 2 + 3 + (3 * 4) = 17. Given \"09:42\" and \"11:42\" your function should return 9, because the entrance fee equals 2, the first hour costs 3 and the second hour costs 4, so the total cost is 2 + 3 + 4 = 9.\n",
    "\n",
    "Assume that:\n",
    "\n",
    "strings E and L follow the format \"HH:MM\" strictly;\n",
    "string E describes a time before L on the same day.\n",
    "In your solution, focus on correctness. The performance of your solution will not be the focus of the assessment.\n",
    "```\n",
    "\n",
    "### 조건\n",
    "- 입장료는 2\n",
    "- 처음 1시간은 비용 3\n",
    "- 이후 1시간은 비용 4\n",
    "  - 한시간이 다 채워지지 않더라도 한시간으로 친다\n",
    "- 주어지는 시간은 동일한 날짜의 시간으로 E는 항상 L보다 시간이 빠르다."
   ]
  },
  {
   "cell_type": "code",
   "execution_count": 12,
   "metadata": {},
   "outputs": [
    {
     "name": "stdout",
     "output_type": "stream",
     "text": [
      "3 21\n",
      "17\n",
      "2 0\n",
      "9\n",
      "1 59\n",
      "9\n"
     ]
    }
   ],
   "source": [
    "def solution(E, L):\n",
    "    e_h = int(E[:2])\n",
    "    e_m = int(E[3:])\n",
    "    l_h = int(L[:2])\n",
    "    l_m = int(L[3:])\n",
    "    diff_h = l_h - e_h\n",
    "    diff_m = l_m - e_m\n",
    "    if diff_m < 0:\n",
    "        diff_m = 60 - (diff_m * -1)\n",
    "        diff_h -= 1\n",
    "    if diff_m > 0:\n",
    "        diff_h += 1\n",
    "    diff_h -= 1\n",
    "    return 5 + (diff_h * 4)\n",
    "\n",
    "data_cases = [\n",
    "    ['10:00', '13:21'], # 17\n",
    "    ['09:42', '11:42'], # 9\n",
    "    ['09:42', '11:41'], # 9\n",
    "]\n",
    "\n",
    "for data_case in data_cases:\n",
    "    print(solution(*data_case))"
   ]
  }
 ],
 "metadata": {
  "interpreter": {
   "hash": "f9ccdf3afa3dc3e101816fbeb38d5182e8e63e68ddc1acefd7abf85a12f12e7d"
  },
  "kernelspec": {
   "display_name": "Python 3.9.7 64-bit",
   "language": "python",
   "name": "python3"
  },
  "language_info": {
   "codemirror_mode": {
    "name": "ipython",
    "version": 3
   },
   "file_extension": ".py",
   "mimetype": "text/x-python",
   "name": "python",
   "nbconvert_exporter": "python",
   "pygments_lexer": "ipython3",
   "version": "3.9.7"
  },
  "orig_nbformat": 4
 },
 "nbformat": 4,
 "nbformat_minor": 2
}
