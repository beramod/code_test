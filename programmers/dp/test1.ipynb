{
 "cells": [
  {
   "cell_type": "markdown",
   "metadata": {},
   "source": [
    "* https://programmers.co.kr/learn/courses/30/lessons/42895\n",
    "\n",
    "```\n",
    "문제 설명\n",
    "아래와 같이 5와 사칙연산만으로 12를 표현할 수 있습니다.\n",
    "\n",
    "12 = 5 + 5 + (5 / 5) + (5 / 5)\n",
    "12 = 55 / 5 + 5 / 5\n",
    "12 = (55 + 5) / 5\n",
    "\n",
    "5를 사용한 횟수는 각각 6,5,4 입니다. 그리고 이중 가장 작은 경우는 4입니다.\n",
    "이처럼 숫자 N과 number가 주어질 때, N과 사칙연산만 사용해서 표현 할 수 있는 방법 중 N 사용횟수의 최솟값을 return 하도록 solution 함수를 작성하세요.\n",
    "\n",
    "제한사항\n",
    "N은 1 이상 9 이하입니다.\n",
    "number는 1 이상 32,000 이하입니다.\n",
    "수식에는 괄호와 사칙연산만 가능하며 나누기 연산에서 나머지는 무시합니다.\n",
    "최솟값이 8보다 크면 -1을 return 합니다.\n",
    "입출력 예\n",
    "N\tnumber\treturn\n",
    "5\t12\t4\n",
    "2\t11\t3\n",
    "입출력 예 설명\n",
    "예제 #1\n",
    "문제에 나온 예와 같습니다.\n",
    "\n",
    "예제 #2\n",
    "11 = 22 / 2와 같이 2를 3번만 사용하여 표현할 수 있습니다.\n",
    "```\n",
    "\n",
    "### 풀이\n",
    "- 최소값이 8보다 크면 -1이기 때문에 1 ~ 9로 반복문을 만들어준다.\n",
    "    - N을 한번만 쓰는경우부터 8번 쓰는 경우까지 살펴본다.\n",
    "- mem에 저장된 이전값에 + - * /를 한다.\n",
    "- 그 값중 답이 있는지 확인후 없다면 mem에 추가한다."
   ]
  },
  {
   "cell_type": "code",
   "execution_count": 1,
   "metadata": {},
   "outputs": [
    {
     "name": "stdout",
     "output_type": "stream",
     "text": [
      "4\n",
      "3\n",
      "4\n",
      "1\n",
      "3\n"
     ]
    }
   ],
   "source": [
    "def solution(N, number):\n",
    "    mem = [[]]\n",
    "\n",
    "    for i in range(1, 9):\n",
    "        temp = []\n",
    "        for j in range(1, i):\n",
    "            for k in mem[j]:\n",
    "                for l in mem[i - j]:\n",
    "                    temp.append(k + l)\n",
    "                    temp.append(k - l)\n",
    "                    temp.append(k * l)\n",
    "                    if k != 0 and l != 0:\n",
    "                        temp.append(k // l)\n",
    "        temp.append(int(str(N) * i))\n",
    "\n",
    "        if number in temp:\n",
    "            return i\n",
    "        mem.append(list(set(temp)))\n",
    "    return -1\n",
    "\n",
    "data_cases = [\n",
    "    [5, 12], # 4\n",
    "    [2, 11],  # 3\n",
    "    [5, 26],\n",
    "    [5, 5],\n",
    "    [4, 5],\n",
    "]\n",
    "\n",
    "for data_case in data_cases:\n",
    "    print(solution(*data_case))"
   ]
  }
 ],
 "metadata": {
  "interpreter": {
   "hash": "aee8b7b246df8f9039afb4144a1f6fd8d2ca17a180786b69acc140d282b71a49"
  },
  "kernelspec": {
   "display_name": "Python 3.9.1 64-bit",
   "language": "python",
   "name": "python3"
  },
  "language_info": {
   "codemirror_mode": {
    "name": "ipython",
    "version": 3
   },
   "file_extension": ".py",
   "mimetype": "text/x-python",
   "name": "python",
   "nbconvert_exporter": "python",
   "pygments_lexer": "ipython3",
   "version": "3.9.7"
  },
  "orig_nbformat": 4
 },
 "nbformat": 4,
 "nbformat_minor": 2
}
