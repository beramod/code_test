{
 "cells": [
  {
   "cell_type": "markdown",
   "metadata": {},
   "source": [
    "* https://programmers.co.kr/learn/courses/30/lessons/43105\n",
    "\n",
    "```\n",
    "문제 설명\n",
    "스크린샷 2018-09-14 오후 5.44.19.png\n",
    "\n",
    "위와 같은 삼각형의 꼭대기에서 바닥까지 이어지는 경로 중, 거쳐간 숫자의 합이 가장 큰 경우를 찾아보려고 합니다. 아래 칸으로 이동할 때는 대각선 방향으로 한 칸 오른쪽 또는 왼쪽으로만 이동 가능합니다. 예를 들어 3에서는 그 아래칸의 8 또는 1로만 이동이 가능합니다.\n",
    "\n",
    "삼각형의 정보가 담긴 배열 triangle이 매개변수로 주어질 때, 거쳐간 숫자의 최댓값을 return 하도록 solution 함수를 완성하세요.\n",
    "\n",
    "제한사항\n",
    "삼각형의 높이는 1 이상 500 이하입니다.\n",
    "삼각형을 이루고 있는 숫자는 0 이상 9,999 이하의 정수입니다.\n",
    "입출력 예\n",
    "triangle\tresult\n",
    "[[7], [3, 8], [8, 1, 0], [2, 7, 4, 4], [4, 5, 2, 6, 5]]\t30\n",
    "\n",
    "```\n",
    "\n",
    "### 풀이\n",
    "- 아래로 내려가면서 위, 아래를 더한 값을 저장\n",
    "- 한칸 내려가 저장한값을 참조하여 계산"
   ]
  },
  {
   "cell_type": "code",
   "execution_count": 19,
   "metadata": {},
   "outputs": [
    {
     "name": "stdout",
     "output_type": "stream",
     "text": [
      "30\n"
     ]
    }
   ],
   "source": [
    "def solution(triangle):\n",
    "    mem = [[-1] * len(triangle) for i in range(len(triangle))]\n",
    "    mem[0][0] = triangle[0][0]\n",
    "\n",
    "    for y in range(0, len(triangle) - 1):\n",
    "        for x in range(0, len(triangle[y])):\n",
    "            left_val = mem[y][x] + triangle[y + 1][x]\n",
    "            if mem[y + 1][x] == -1 or mem[y + 1][x] < left_val:\n",
    "                mem[y + 1][x] = left_val\n",
    "            right_val = mem[y][x] + triangle[y + 1][x + 1]\n",
    "            if mem[y + 1][x + 1] -1 or mem[y + 1][x + 1] < right_val:\n",
    "                mem[y + 1][x + 1] = right_val\n",
    "    \n",
    "    return max(mem[len(mem) - 1])\n",
    "\n",
    "data_cases = [\n",
    "    [[7], [3, 8], [8, 1, 0], [2, 7, 4, 4], [4, 5, 2, 6, 5]]\n",
    "]\n",
    "\n",
    "for data_case in data_cases:\n",
    "    print(solution(data_case))"
   ]
  }
 ],
 "metadata": {
  "interpreter": {
   "hash": "aee8b7b246df8f9039afb4144a1f6fd8d2ca17a180786b69acc140d282b71a49"
  },
  "kernelspec": {
   "display_name": "Python 3.9.1 64-bit",
   "language": "python",
   "name": "python3"
  },
  "language_info": {
   "codemirror_mode": {
    "name": "ipython",
    "version": 3
   },
   "file_extension": ".py",
   "mimetype": "text/x-python",
   "name": "python",
   "nbconvert_exporter": "python",
   "pygments_lexer": "ipython3",
   "version": "3.9.1"
  },
  "orig_nbformat": 4
 },
 "nbformat": 4,
 "nbformat_minor": 2
}
