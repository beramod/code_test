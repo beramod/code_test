{
 "cells": [
  {
   "cell_type": "markdown",
   "metadata": {},
   "source": [
    "* https://programmers.co.kr/learn/courses/30/lessons/42897\n",
    "\n",
    "```\n",
    "도둑이 어느 마을을 털 계획을 하고 있습니다. 이 마을의 모든 집들은 아래 그림과 같이 동그랗게 배치되어 있습니다.\n",
    "\n",
    "image.png\n",
    "\n",
    "각 집들은 서로 인접한 집들과 방범장치가 연결되어 있기 때문에 인접한 두 집을 털면 경보가 울립니다.\n",
    "\n",
    "각 집에 있는 돈이 담긴 배열 money가 주어질 때, 도둑이 훔칠 수 있는 돈의 최댓값을 return 하도록 solution 함수를 작성하세요.\n",
    "\n",
    "제한사항\n",
    "이 마을에 있는 집은 3개 이상 1,000,000개 이하입니다.\n",
    "money 배열의 각 원소는 0 이상 1,000 이하인 정수입니다.\n",
    "입출력 예\n",
    "money\treturn\n",
    "[1, 2, 3, 1]\t4\n",
    "```\n",
    "\n",
    "### 풀이\n",
    "- index 0번에서 시작한 경우와 1번에서 시작한 경우가 있을 수 있다.\n",
    "- 어느집이 더 큰지 확인할필요 없이 그냥 집을 방문하며 더하면 된다.\n",
    "- 0번시작, 1번시작을 둘다 구해서 가장 큰값을 반환"
   ]
  },
  {
   "cell_type": "code",
   "execution_count": 52,
   "metadata": {},
   "outputs": [
    {
     "name": "stdout",
     "output_type": "stream",
     "text": [
      "4\n",
      "8\n",
      "8\n",
      "3000\n",
      "30\n",
      "104\n"
     ]
    }
   ],
   "source": [
    "def solution(money):\n",
    "    house_cnt = len(money)\n",
    "    mem1 = [0] * house_cnt\n",
    "    mem1[0] = money[0]\n",
    "    mem1[1] = max(money[0], money[1])\n",
    "    \n",
    "    for i in range(2, house_cnt - 1):\n",
    "        mem1[i] = max(mem1[i - 1], money[i] + mem1[i - 2])\n",
    "    \n",
    "    mem2 = [0] * house_cnt\n",
    "    mem2[0] = 0\n",
    "    mem2[1] = money[1]\n",
    "    \n",
    "    for i in range(2, house_cnt):\n",
    "        mem2[i] = max(mem2[i - 1], money[i] + mem2[i - 2])\n",
    "    \n",
    "    return max(max(mem1), max(mem2))\n",
    "\n",
    "data_cases = [\n",
    "    [1, 2, 3, 1], # 4\n",
    "    [1, 1, 4, 1, 4], # 8\n",
    "    [1, 4, 1, 4, 1], # 8\n",
    "    [1000, 0, 0, 1000, 0, 0, 1000, 0, 0, 1000], #3000\n",
    "    [1, 2, 3, 4, 5, 6, 7, 8, 9, 10], # 30\n",
    "    [91, 90, 5, 7, 5, 7], # 104\n",
    "]\n",
    "\n",
    "for data_case in data_cases:\n",
    "    print(solution(data_case))"
   ]
  }
 ],
 "metadata": {
  "interpreter": {
   "hash": "f9ccdf3afa3dc3e101816fbeb38d5182e8e63e68ddc1acefd7abf85a12f12e7d"
  },
  "kernelspec": {
   "display_name": "Python 3.9.7 64-bit",
   "language": "python",
   "name": "python3"
  },
  "language_info": {
   "codemirror_mode": {
    "name": "ipython",
    "version": 3
   },
   "file_extension": ".py",
   "mimetype": "text/x-python",
   "name": "python",
   "nbconvert_exporter": "python",
   "pygments_lexer": "ipython3",
   "version": "3.9.7"
  },
  "orig_nbformat": 4
 },
 "nbformat": 4,
 "nbformat_minor": 2
}
