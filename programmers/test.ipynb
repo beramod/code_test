{
 "cells": [
  {
   "cell_type": "code",
   "execution_count": 39,
   "metadata": {},
   "outputs": [
    {
     "name": "stdout",
     "output_type": "stream",
     "text": [
      "[Case 1] Answer: 2, Correct: 2, Solved: True\n",
      "[Case 2] Answer: 2, Correct: 2, Solved: True\n",
      "[Case 3] Answer: 3, Correct: 3, Solved: True\n",
      "[Case 4] Answer: 3, Correct: 3, Solved: True\n",
      "[Result] Solved: 4, Failed: 0\n"
     ]
    }
   ],
   "source": [
    "from itertools import permutations\n",
    "\n",
    "def check(users,banned_id):\n",
    "    for i in range(len(banned_id)):\n",
    "        if len(users[i]) != len(banned_id[i]):\n",
    "            return False\n",
    "\n",
    "        for j in range(len(users[i])):\n",
    "            if banned_id[i][j] == \"*\":\n",
    "                continue\n",
    "            if banned_id[i][j] != users[i][j]:\n",
    "                return False\n",
    "    return True\n",
    "\n",
    "def solution(user_id, banned_id):\n",
    "    user_permutation = list(permutations(user_id, len(banned_id)))\n",
    "    banned_Set = []\n",
    "\n",
    "    for users in user_permutation:\n",
    "        if not check(users, banned_id):\n",
    "            continue\n",
    "        else:\n",
    "            users = set(users)\n",
    "            if users not in banned_Set:\n",
    "                banned_Set.append(users)\n",
    "\n",
    "    return len(banned_Set)\n",
    "\n",
    "import sys\n",
    "path = sys.path[0]\n",
    "path = path[:path.index('code_test') + 9]\n",
    "if path not in sys.path:\n",
    "    sys.path.append(path)\n",
    "from util.code_test_util import CodeTestUtil\n",
    "code_test_util = CodeTestUtil()\n",
    "code_test_util.set_multi_args(True)\n",
    "code_test_util.solution = solution\n",
    "code_test_util.add_data_case([[\"frodo\", \"fradi\", \"crodo\", \"abc123\", \"frodoc\"], [\"fr*d*\", \"abc1**\"]], 2)\n",
    "code_test_util.add_data_case([[\"frodo\", \"fradi\", \"crodo\", \"abc123\", \"frodoc\"], [\"*rodo\", \"*rodo\", \"******\"]], 2)\n",
    "code_test_util.add_data_case([[\"frodo\", \"fradi\", \"crodo\", \"abc123\", \"frodoc\"], [\"fr*d*\", \"*rodo\", \"******\", \"******\"]], 3)\n",
    "code_test_util.add_data_case([[\"12345\", \"12453\", \"aaaaa\"], ['*****', '*****']], 3)\n",
    "\n",
    "code_test_util.run()"
   ]
  }
 ],
 "metadata": {
  "interpreter": {
   "hash": "f9ccdf3afa3dc3e101816fbeb38d5182e8e63e68ddc1acefd7abf85a12f12e7d"
  },
  "kernelspec": {
   "display_name": "Python 3.9.7 64-bit",
   "language": "python",
   "name": "python3"
  },
  "language_info": {
   "codemirror_mode": {
    "name": "ipython",
    "version": 3
   },
   "file_extension": ".py",
   "mimetype": "text/x-python",
   "name": "python",
   "nbconvert_exporter": "python",
   "pygments_lexer": "ipython3",
   "version": "3.9.7"
  },
  "orig_nbformat": 4
 },
 "nbformat": 4,
 "nbformat_minor": 2
}
