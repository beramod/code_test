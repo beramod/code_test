{
 "cells": [
  {
   "cell_type": "markdown",
   "metadata": {},
   "source": [
    "* https://programmers.co.kr/learn/courses/30/lessons/42885\n",
    "\n",
    "```\n",
    "문제 설명\n",
    "무인도에 갇힌 사람들을 구명보트를 이용하여 구출하려고 합니다. 구명보트는 작아서 한 번에 최대 2명씩 밖에 탈 수 없고, 무게 제한도 있습니다.\n",
    "\n",
    "예를 들어, 사람들의 몸무게가 [70kg, 50kg, 80kg, 50kg]이고 구명보트의 무게 제한이 100kg이라면 2번째 사람과 4번째 사람은 같이 탈 수 있지만 1번째 사람과 3번째 사람의 무게의 합은 150kg이므로 구명보트의 무게 제한을 초과하여 같이 탈 수 없습니다.\n",
    "\n",
    "구명보트를 최대한 적게 사용하여 모든 사람을 구출하려고 합니다.\n",
    "\n",
    "사람들의 몸무게를 담은 배열 people과 구명보트의 무게 제한 limit가 매개변수로 주어질 때, 모든 사람을 구출하기 위해 필요한 구명보트 개수의 최솟값을 return 하도록 solution 함수를 작성해주세요.\n",
    "\n",
    "제한사항\n",
    "무인도에 갇힌 사람은 1명 이상 50,000명 이하입니다.\n",
    "각 사람의 몸무게는 40kg 이상 240kg 이하입니다.\n",
    "구명보트의 무게 제한은 40kg 이상 240kg 이하입니다.\n",
    "구명보트의 무게 제한은 항상 사람들의 몸무게 중 최댓값보다 크게 주어지므로 사람들을 구출할 수 없는 경우는 없습니다.\n",
    "입출력 예\n",
    "people\tlimit\treturn\n",
    "[70, 50, 80, 50]\t100\t3\n",
    "[70, 80, 50]\t100\t3\n",
    "```"
   ]
  },
  {
   "cell_type": "code",
   "execution_count": 2,
   "metadata": {},
   "outputs": [
    {
     "name": "stdout",
     "output_type": "stream",
     "text": [
      "3\n",
      "3\n",
      "2\n",
      "3\n",
      "2\n",
      "3\n"
     ]
    }
   ],
   "source": [
    "### 개선\n",
    "from collections import deque\n",
    "\n",
    "def solution(people, limit):       \n",
    "    people.sort()\n",
    "    weights = deque(people)\n",
    "    move_cnt = 0\n",
    "\n",
    "    while weights:\n",
    "        boat = weights.pop()\n",
    "        if weights and weights[0] + boat <= limit:\n",
    "            weights.popleft()\n",
    "        move_cnt += 1\n",
    "\n",
    "    return move_cnt\n",
    "\n",
    "data_cases = [\n",
    "    [[70, 50, 80, 50], 100], ## 3\n",
    "    [[70, 80, 50], 100], ## 3\n",
    "    [[40, 50, 150, 160], 200], ## 2\n",
    "    [[100, 500, 500, 900, 950], 1000], ## 3\n",
    "    [[40, 40, 40], 100], ## 2\n",
    "    [[90, 90, 90], 100], ## 3\n",
    "]\n",
    "\n",
    "for data_case in data_cases:\n",
    "    print(solution(*data_case))"
   ]
  },
  {
   "cell_type": "code",
   "execution_count": 3,
   "metadata": {},
   "outputs": [
    {
     "name": "stdout",
     "output_type": "stream",
     "text": [
      "3\n",
      "3\n",
      "2\n",
      "3\n",
      "2\n",
      "3\n"
     ]
    }
   ],
   "source": [
    "from collections import deque, defaultdict\n",
    "\n",
    "def solution(people, limit):\n",
    "    people_map = defaultdict(int)\n",
    "\n",
    "    for obj in people:\n",
    "        people_map[obj] += 1\n",
    "\n",
    "    weights = list(people_map.keys())\n",
    "    rweights = list(people_map.keys())\n",
    "    rweights.sort()\n",
    "    weights.sort(reverse = True)\n",
    "    min_weight = weights[len(weights) - 1]\n",
    "    move_cnt = 0\n",
    "\n",
    "    for weight in weights:\n",
    "        if not people_map.get(weight):\n",
    "            continue\n",
    "\n",
    "        while people_map.get(weight):\n",
    "            people_map[weight] -= 1\n",
    "            remain = limit - weight\n",
    "\n",
    "            if remain == 0 or remain < min_weight:\n",
    "                move_cnt += 1\n",
    "                continue\n",
    "            \n",
    "            for remain_weight in rweights:\n",
    "                if remain_weight > remain:\n",
    "                    continue\n",
    "                if people_map.get(remain_weight):\n",
    "                    people_map[remain_weight] -= 1\n",
    "                    if not people_map.get(remain_weight):\n",
    "                        rweights.remove(remain_weight)\n",
    "                    break\n",
    "            \n",
    "            move_cnt += 1\n",
    "            people_map.get(remain)\n",
    "\n",
    "    return move_cnt\n",
    "\n",
    "data_cases = [\n",
    "    [[70, 50, 80, 50], 100], ## 3\n",
    "    [[70, 80, 50], 100], ## 3\n",
    "    [[40, 50, 150, 160], 200], ## 2\n",
    "    [[100, 500, 500, 900, 950], 1000], ## 3\n",
    "    [[40, 40, 40], 100], ## 2\n",
    "    [[90, 90, 90], 100], ## 3\n",
    "]\n",
    "\n",
    "for data_case in data_cases:\n",
    "    print(solution(*data_case))"
   ]
  }
 ],
 "metadata": {
  "interpreter": {
   "hash": "aee8b7b246df8f9039afb4144a1f6fd8d2ca17a180786b69acc140d282b71a49"
  },
  "kernelspec": {
   "display_name": "Python 3.9.1 64-bit",
   "language": "python",
   "name": "python3"
  },
  "language_info": {
   "codemirror_mode": {
    "name": "ipython",
    "version": 3
   },
   "file_extension": ".py",
   "mimetype": "text/x-python",
   "name": "python",
   "nbconvert_exporter": "python",
   "pygments_lexer": "ipython3",
   "version": "3.9.7"
  },
  "orig_nbformat": 4
 },
 "nbformat": 4,
 "nbformat_minor": 2
}
