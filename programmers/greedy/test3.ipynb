{
 "cells": [
  {
   "cell_type": "markdown",
   "metadata": {},
   "source": [
    "* https://programmers.co.kr/learn/courses/30/lessons/42883\n",
    "\n",
    "```\n",
    "문제 설명\n",
    "어떤 숫자에서 k개의 수를 제거했을 때 얻을 수 있는 가장 큰 숫자를 구하려 합니다.\n",
    "\n",
    "예를 들어, 숫자 1924에서 수 두 개를 제거하면 [19, 12, 14, 92, 94, 24] 를 만들 수 있습니다. 이 중 가장 큰 숫자는 94 입니다.\n",
    "\n",
    "문자열 형식으로 숫자 number와 제거할 수의 개수 k가 solution 함수의 매개변수로 주어집니다. number에서 k 개의 수를 제거했을 때 만들 수 있는 수 중 가장 큰 숫자를 문자열 형태로 return 하도록 solution 함수를 완성하세요.\n",
    "\n",
    "제한 조건\n",
    "number는 1자리 이상, 1,000,000자리 이하인 숫자입니다.\n",
    "k는 1 이상 number의 자릿수 미만인 자연수입니다.\n",
    "입출력 예\n",
    "number\tk\treturn\n",
    "\"1924\"\t2\t\"94\"\n",
    "\"1231234\"\t3\t\"3234\"\n",
    "\"4177252841\"\t4\t\"775841\"\n",
    "```"
   ]
  },
  {
   "cell_type": "code",
   "execution_count": 78,
   "metadata": {},
   "outputs": [
    {
     "name": "stdout",
     "output_type": "stream",
     "text": [
      "94\n",
      "3234\n",
      "94449999\n",
      "775841\n",
      "9\n",
      "3000\n",
      "10\n",
      "11\n"
     ]
    }
   ],
   "source": [
    "def solution(number, k):\n",
    "    numbers = list(number)\n",
    "    if numbers.count(\"0\") == len(numbers):\n",
    "        return \"0\"\n",
    "\n",
    "    select_cnt = len(numbers) - k\n",
    "    selected_numbers = []\n",
    "    offset = 0\n",
    "\n",
    "    while select_cnt:\n",
    "        max_idx = 0\n",
    "        for idx in range(1, len(numbers) - offset):\n",
    "            if numbers[offset + max_idx] == '9':\n",
    "                break\n",
    "            if select_cnt > (len(numbers) - offset) - idx + 1:\n",
    "                break\n",
    "            if int(numbers[offset + idx]) > int(numbers[offset + max_idx]):\n",
    "                if select_cnt <= (len(numbers) - offset) - idx:\n",
    "                    max_idx = idx\n",
    "        \n",
    "        select_cnt -= 1\n",
    "        selected_numbers.append(numbers[offset + max_idx])\n",
    "        offset += max_idx + 1\n",
    "        \n",
    "    return str(int(''.join(selected_numbers)))\n",
    "\n",
    "data_cases = [\n",
    "    [\"1924\", 2],\n",
    "    [\"1231234\", 3],\n",
    "    [\"91234432419999\", 6],\n",
    "    [\"4177252841\", 4],\n",
    "    [\"11191\", 4],\n",
    "    [\"23000\", 1],\n",
    "    [\"1000\", 2],\n",
    "    [\"1111\", 2]\n",
    "]\n",
    "\n",
    "for data_case in data_cases:\n",
    "    print(solution(*data_case))"
   ]
  }
 ],
 "metadata": {
  "interpreter": {
   "hash": "aee8b7b246df8f9039afb4144a1f6fd8d2ca17a180786b69acc140d282b71a49"
  },
  "kernelspec": {
   "display_name": "Python 3.9.1 64-bit",
   "language": "python",
   "name": "python3"
  },
  "language_info": {
   "codemirror_mode": {
    "name": "ipython",
    "version": 3
   },
   "file_extension": ".py",
   "mimetype": "text/x-python",
   "name": "python",
   "nbconvert_exporter": "python",
   "pygments_lexer": "ipython3",
   "version": "3.9.1"
  },
  "orig_nbformat": 4
 },
 "nbformat": 4,
 "nbformat_minor": 2
}
