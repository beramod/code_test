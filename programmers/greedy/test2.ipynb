{
 "cells": [
  {
   "cell_type": "markdown",
   "metadata": {},
   "source": [
    "* https://programmers.co.kr/learn/courses/30/lessons/42860\n",
    "\n",
    "```\n",
    "문제 설명\n",
    "조이스틱으로 알파벳 이름을 완성하세요. 맨 처음엔 A로만 이루어져 있습니다.\n",
    "ex) 완성해야 하는 이름이 세 글자면 AAA, 네 글자면 AAAA\n",
    "\n",
    "조이스틱을 각 방향으로 움직이면 아래와 같습니다.\n",
    "\n",
    "▲ - 다음 알파벳\n",
    "▼ - 이전 알파벳 (A에서 아래쪽으로 이동하면 Z로)\n",
    "◀ - 커서를 왼쪽으로 이동 (첫 번째 위치에서 왼쪽으로 이동하면 마지막 문자에 커서)\n",
    "▶ - 커서를 오른쪽으로 이동\n",
    "예를 들어 아래의 방법으로 \"JAZ\"를 만들 수 있습니다.\n",
    "\n",
    "- 첫 번째 위치에서 조이스틱을 위로 9번 조작하여 J를 완성합니다.\n",
    "- 조이스틱을 왼쪽으로 1번 조작하여 커서를 마지막 문자 위치로 이동시킵니다.\n",
    "- 마지막 위치에서 조이스틱을 아래로 1번 조작하여 Z를 완성합니다.\n",
    "따라서 11번 이동시켜 \"JAZ\"를 만들 수 있고, 이때가 최소 이동입니다.\n",
    "만들고자 하는 이름 name이 매개변수로 주어질 때, 이름에 대해 조이스틱 조작 횟수의 최솟값을 return 하도록 solution 함수를 만드세요.\n",
    "\n",
    "제한 사항\n",
    "name은 알파벳 대문자로만 이루어져 있습니다.\n",
    "name의 길이는 1 이상 20 이하입니다.\n",
    "입출력 예\n",
    "name\treturn\n",
    "\"JEROEN\"\t56\n",
    "\"JAN\"\t23\n",
    "```"
   ]
  },
  {
   "cell_type": "code",
   "execution_count": 32,
   "metadata": {},
   "outputs": [
    {
     "name": "stdout",
     "output_type": "stream",
     "text": [
      "18\n"
     ]
    }
   ],
   "source": [
    "### A: 65\n",
    "### N: 78\n",
    "### Z: 90\n",
    "\n",
    "def solution(name):\n",
    "    answer = 0\n",
    "    target_name = list(name)\n",
    "    target_name = list(map(lambda el: ord(el), target_name))\n",
    "    name_len = len(target_name)\n",
    "    cur_name = [65 for i in range(name_len)]\n",
    "    cursor = 0\n",
    "    \n",
    "    while True:\n",
    "        if cur_name[cursor] == target_name[cursor]:\n",
    "            right_list = target_name[cursor + 1:]\n",
    "            left_list = (target_name[cursor + 1:] + target_name[:cursor])\n",
    "            left_list.reverse()\n",
    "            right_cost = 1\n",
    "            left_cost = 1\n",
    "            for code in right_list:\n",
    "                if code != 65:\n",
    "                    break\n",
    "                right_cost += 1\n",
    "            for code in left_cost:\n",
    "                if code != 65:\n",
    "                    break\n",
    "                right_cost += 1\n",
    "            if right_cost < left_cost:\n",
    "                cursor += right_cost\n",
    "            else:\n",
    "                cursor -= 1\n",
    "\n",
    "\n",
    "    for i, c in enumerate(c_list):\n",
    "        ascii_code = ord(c)\n",
    "        if ascii_code == 65:\n",
    "            continue\n",
    "        else:\n",
    "            pos_diff = i - end_pos\n",
    "            if pos_diff == 1:\n",
    "                answer += 1\n",
    "            else:\n",
    "                if end_pos + name_len - i < pos_diff:\n",
    "                    answer += name_len - i\n",
    "                else:\n",
    "                    answer += pos_diff\n",
    "        if ascii_code > 78:\n",
    "            answer += 90 - ascii_code + 1\n",
    "        else:\n",
    "            answer += ascii_code - 65\n",
    "        end_pos = i\n",
    "\n",
    "    return answer\n",
    "\n",
    "data_cases = [\n",
    "    \"ZAAAZZZZZZZ\"\n",
    "    # \"JEROEN\",\n",
    "    # \"JAN\",\n",
    "    # \"NNN\",\n",
    "    # \"ABAAB\"\n",
    "]\n",
    "\n",
    "for data_case in data_cases:\n",
    "    print(solution(data_case))"
   ]
  }
 ],
 "metadata": {
  "interpreter": {
   "hash": "aee8b7b246df8f9039afb4144a1f6fd8d2ca17a180786b69acc140d282b71a49"
  },
  "kernelspec": {
   "display_name": "Python 3.9.1 64-bit",
   "language": "python",
   "name": "python3"
  },
  "language_info": {
   "codemirror_mode": {
    "name": "ipython",
    "version": 3
   },
   "file_extension": ".py",
   "mimetype": "text/x-python",
   "name": "python",
   "nbconvert_exporter": "python",
   "pygments_lexer": "ipython3",
   "version": "3.9.1"
  },
  "orig_nbformat": 4
 },
 "nbformat": 4,
 "nbformat_minor": 2
}
