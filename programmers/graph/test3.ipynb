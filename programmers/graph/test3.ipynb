{
 "cells": [
  {
   "cell_type": "markdown",
   "metadata": {},
   "source": [
    "* https://programmers.co.kr/learn/courses/30/lessons/49190\n",
    "\n",
    "```\n",
    "문제 설명\n",
    "원점(0,0)에서 시작해서 아래처럼 숫자가 적힌 방향으로 이동하며 선을 긋습니다.\n",
    "\n",
    "스크린샷 2018-09-06 오후 4.55.33.png\n",
    "\n",
    "ex) 1일때는 오른쪽 위로 이동\n",
    "\n",
    "그림을 그릴 때, 사방이 막히면 방하나로 샙니다.\n",
    "이동하는 방향이 담긴 배열 arrows가 매개변수로 주어질 때, 방의 갯수를 return 하도록 solution 함수를 작성하세요.\n",
    "\n",
    "제한사항\n",
    "배열 arrows의 크기는 1 이상 100,000 이하 입니다.\n",
    "arrows의 원소는 0 이상 7 이하 입니다.\n",
    "방은 다른 방으로 둘러 싸여질 수 있습니다.\n",
    "입출력 예\n",
    "arrows\treturn\n",
    "[6, 6, 6, 4, 4, 4, 2, 2, 2, 0, 0, 0, 1, 6, 5, 5, 3, 6, 0]\t3\n",
    "입출력 예 설명\n",
    "스크린샷 2018-09-06 오후 5.08.09.png\n",
    "\n",
    "(0,0) 부터 시작해서 6(왼쪽) 으로 3번 이동합니다. 그 이후 주어진 arrows 를 따라 그립니다.\n",
    "삼각형 (1), 큰 사각형(1), 평행사변형(1) = 3\n",
    "```"
   ]
  },
  {
   "cell_type": "code",
   "execution_count": 1,
   "metadata": {},
   "outputs": [
    {
     "name": "stdout",
     "output_type": "stream",
     "text": [
      "0\n"
     ]
    }
   ],
   "source": [
    "def solution(arrows):\n",
    "    answer = 0\n",
    "    return answer\n",
    "\n",
    "data_cases = [\n",
    "    [6, 6, 6, 4, 4, 4, 2, 2, 2, 0, 0, 0, 1, 6, 5, 5, 3, 6, 0]\n",
    "]\n",
    "for data_case in data_cases:\n",
    "    print(solution(data_case))"
   ]
  }
 ],
 "metadata": {
  "interpreter": {
   "hash": "f9ccdf3afa3dc3e101816fbeb38d5182e8e63e68ddc1acefd7abf85a12f12e7d"
  },
  "kernelspec": {
   "display_name": "Python 3.9.7 64-bit",
   "language": "python",
   "name": "python3"
  },
  "language_info": {
   "codemirror_mode": {
    "name": "ipython",
    "version": 3
   },
   "file_extension": ".py",
   "mimetype": "text/x-python",
   "name": "python",
   "nbconvert_exporter": "python",
   "pygments_lexer": "ipython3",
   "version": "3.9.7"
  },
  "orig_nbformat": 4
 },
 "nbformat": 4,
 "nbformat_minor": 2
}
