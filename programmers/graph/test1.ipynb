{
 "cells": [
  {
   "cell_type": "markdown",
   "metadata": {},
   "source": [
    "* https://programmers.co.kr/learn/courses/30/lessons/49189\n",
    "\n",
    "```\n",
    "문제 설명\n",
    "n개의 노드가 있는 그래프가 있습니다. 각 노드는 1부터 n까지 번호가 적혀있습니다. 1번 노드에서 가장 멀리 떨어진 노드의 갯수를 구하려고 합니다. 가장 멀리 떨어진 노드란 최단경로로 이동했을 때 간선의 개수가 가장 많은 노드들을 의미합니다.\n",
    "\n",
    "노드의 개수 n, 간선에 대한 정보가 담긴 2차원 배열 vertex가 매개변수로 주어질 때, 1번 노드로부터 가장 멀리 떨어진 노드가 몇 개인지를 return 하도록 solution 함수를 작성해주세요.\n",
    "\n",
    "제한사항\n",
    "노드의 개수 n은 2 이상 20,000 이하입니다.\n",
    "간선은 양방향이며 총 1개 이상 50,000개 이하의 간선이 있습니다.\n",
    "vertex 배열 각 행 [a, b]는 a번 노드와 b번 노드 사이에 간선이 있다는 의미입니다.\n",
    "입출력 예\n",
    "n\tvertex\treturn\n",
    "6\t[[3, 6], [4, 3], [3, 2], [1, 3], [1, 2], [2, 4], [5, 2]]\t3\n",
    "입출력 예 설명\n",
    "예제의 그래프를 표현하면 아래 그림과 같고, 1번 노드에서 가장 멀리 떨어진 노드는 4,5,6번 노드입니다.\n",
    "\n",
    "image.png\n",
    "```\n",
    "\n",
    "### 풀이\n",
    "* graph로 변환\n",
    "* bfs로 모든곳을 방문하며 distance 기록\n",
    "* max distance 반환"
   ]
  },
  {
   "cell_type": "code",
   "execution_count": 27,
   "metadata": {},
   "outputs": [
    {
     "name": "stdout",
     "output_type": "stream",
     "text": [
      "3\n",
      "3\n",
      "1\n",
      "1\n",
      "2\n",
      "1\n",
      "3\n",
      "1\n",
      "2\n"
     ]
    }
   ],
   "source": [
    "from collections import defaultdict, deque\n",
    "\n",
    "def solution(n, edge):\n",
    "    graph = defaultdict(list)\n",
    "\n",
    "    for each in edge:\n",
    "        graph[each[0]].append(each[1])\n",
    "        graph[each[1]].append(each[0])\n",
    "    \n",
    "    for each in graph:\n",
    "        graph[each] = list(set(graph.get(each)))\n",
    "\n",
    "    que = deque([(1, 0)])\n",
    "    distance = [n] * (n + 1)\n",
    "    distance[0] = 0\n",
    "\n",
    "    while que:\n",
    "        idx, dis = que.popleft()\n",
    "        if distance[idx] > dis:\n",
    "            distance[idx] = dis\n",
    "        if graph.get(idx):\n",
    "            for each in graph.get(idx):\n",
    "                que.append((each, dis + 1))\n",
    "            graph.pop(idx)\n",
    "\n",
    "    max_dis = max(distance)\n",
    "\n",
    "    return distance.count(max_dis)\n",
    "\n",
    "data_cases = [\n",
    "    [6,\t[[3, 6], [4, 3], [3, 2], [1, 3], [1, 2], [2, 4], [5, 2]]], # 3\n",
    "    [6, [[3, 6], [4, 3], [3, 2], [1, 3], [1, 2], [2, 4], [5, 2]]], # 3\n",
    "    [4, [[1, 2], [2, 3], [3, 4]]], # 1\n",
    "    [2, [[1, 2]]], # 1\n",
    "    [5, [[4, 3], [3, 2], [1, 3], [1, 2], [2, 4], [5, 2]]], # 2\n",
    "    [4, [[1, 2], [1, 3], [2, 3], [2, 4], [3, 4]]], # 1\n",
    "    [4, [[1, 4], [1, 3], [2, 3], [2, 1]]], # 3\n",
    "    [4, [[3, 4], [1, 3], [2, 3], [2, 1]]], # 1\n",
    "    [4, [[4, 3], [1, 3], [2, 3]]], # 2\n",
    "]\n",
    "for data_case in data_cases:\n",
    "    print(solution(*data_case))"
   ]
  }
 ],
 "metadata": {
  "interpreter": {
   "hash": "aee8b7b246df8f9039afb4144a1f6fd8d2ca17a180786b69acc140d282b71a49"
  },
  "kernelspec": {
   "display_name": "Python 3.9.1 64-bit",
   "language": "python",
   "name": "python3"
  },
  "language_info": {
   "codemirror_mode": {
    "name": "ipython",
    "version": 3
   },
   "file_extension": ".py",
   "mimetype": "text/x-python",
   "name": "python",
   "nbconvert_exporter": "python",
   "pygments_lexer": "ipython3",
   "version": "3.9.1"
  },
  "orig_nbformat": 4
 },
 "nbformat": 4,
 "nbformat_minor": 2
}
