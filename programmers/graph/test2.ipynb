{
 "cells": [
  {
   "cell_type": "markdown",
   "metadata": {},
   "source": [
    "* https://programmers.co.kr/learn/courses/30/lessons/49191\n",
    "\n",
    "```\n",
    "문제 설명\n",
    "n명의 권투선수가 권투 대회에 참여했고 각각 1번부터 n번까지 번호를 받았습니다. 권투 경기는 1대1 방식으로 진행이 되고, 만약 A 선수가 B 선수보다 실력이 좋다면 A 선수는 B 선수를 항상 이깁니다. 심판은 주어진 경기 결과를 가지고 선수들의 순위를 매기려 합니다. 하지만 몇몇 경기 결과를 분실하여 정확하게 순위를 매길 수 없습니다.\n",
    "\n",
    "선수의 수 n, 경기 결과를 담은 2차원 배열 results가 매개변수로 주어질 때 정확하게 순위를 매길 수 있는 선수의 수를 return 하도록 solution 함수를 작성해주세요.\n",
    "\n",
    "제한사항\n",
    "선수의 수는 1명 이상 100명 이하입니다.\n",
    "경기 결과는 1개 이상 4,500개 이하입니다.\n",
    "results 배열 각 행 [A, B]는 A 선수가 B 선수를 이겼다는 의미입니다.\n",
    "모든 경기 결과에는 모순이 없습니다.\n",
    "입출력 예\n",
    "n\tresults\treturn\n",
    "5\t[[4, 3], [4, 2], [3, 2], [1, 2], [2, 5]]\t2\n",
    "입출력 예 설명\n",
    "2번 선수는 [1, 3, 4] 선수에게 패배했고 5번 선수에게 승리했기 때문에 4위입니다.\n",
    "5번 선수는 4위인 2번 선수에게 패배했기 때문에 5위입니다.\n",
    "```\n",
    "\n",
    "### 풀이\n",
    "- set을 사용한 이유는 아래에서 승/패 관계 graph를 업데이트 하다보면 중복으로 넣는 경우가 있는데, 이런 경우 따로 처리하지 않기 위함\n",
    "- 주어진 배열로 그래프를 만든다.\n",
    "- 해당 그래프를 이용해 승/패를 최대한 업데이트 한다.\n",
    "- 승과 패가 선수수 - 1만큼 있는 경우 승패를 정확히 알수있다."
   ]
  },
  {
   "cell_type": "code",
   "execution_count": 49,
   "metadata": {},
   "outputs": [
    {
     "name": "stdout",
     "output_type": "stream",
     "text": [
      "2\n",
      "5\n",
      "4\n"
     ]
    }
   ],
   "source": [
    "def solution(n, results):\n",
    "    ## dictionary를 이용한 풀이. 이게 훨씬 빠름\n",
    "    answer = 0\n",
    "    scores = dict(zip([i for i in range(1, n + 1)], [{'w': set(), 'l': set()} for i in range(n)]))\n",
    "\n",
    "    for each in results:\n",
    "        scores[each[0]]['w'].add(each[1])\n",
    "        scores[each[1]]['l'].add(each[0])\n",
    "\n",
    "    for i in range(1, n + 1):\n",
    "        for w in scores.get(i).get('w'):\n",
    "            scores.get(w).get('l').update(scores.get(i).get('l'))\n",
    "        for l in scores.get(i).get('l'):\n",
    "            scores.get(l).get('w').update(scores.get(i).get('w'))\n",
    "    \n",
    "    for i in range(1, n + 1):\n",
    "        if len(scores.get(i).get('w')) + len(scores.get(i).get('l')) == n - 1:\n",
    "            answer += 1\n",
    "    return answer\n",
    "\n",
    "    ## 이차행렬을 이용한 풀이\n",
    "    answer = 0\n",
    "    scores = [[0] * n for i in range(n)]\n",
    "    \n",
    "    for result in results:\n",
    "        scores[result[0] - 1][result[1] - 1] = 1\n",
    "        scores[result[1] - 1][result[0] - 1] = -1\n",
    "    \n",
    "    for i in range(n):\n",
    "        for j in range(n):\n",
    "            if scores[i][j] == 1:\n",
    "                for k in range(n):\n",
    "                    if scores[j][k] == 1:\n",
    "                        scores[i][k] = 1\n",
    "                        scores[k][i] = -1\n",
    "            elif scores[i][j] == -1:\n",
    "                for k in range(n):\n",
    "                    if scores[j][k] == -1:\n",
    "                        scores[i][k] = -1\n",
    "                        scores[k][i] = 1\n",
    "\n",
    "    for score in scores:\n",
    "        if score.count(0) == 1:\n",
    "            answer += 1\n",
    "  \n",
    "    return answer\n",
    "\n",
    "data_cases = [\n",
    "    [5,\t[[4, 3], [4, 2], [3, 2], [1, 2], [2, 5]]], # 2\n",
    "    [5, [[1, 2], [4, 5], [3, 4], [2, 3]]], # 5\n",
    "    [4, [[1, 2], [2, 3], [3, 4]]], # 4\n",
    "]\n",
    "for data_case in data_cases:\n",
    "    print(solution(*data_case))"
   ]
  }
 ],
 "metadata": {
  "interpreter": {
   "hash": "aee8b7b246df8f9039afb4144a1f6fd8d2ca17a180786b69acc140d282b71a49"
  },
  "kernelspec": {
   "display_name": "Python 3.9.1 64-bit",
   "language": "python",
   "name": "python3"
  },
  "language_info": {
   "codemirror_mode": {
    "name": "ipython",
    "version": 3
   },
   "file_extension": ".py",
   "mimetype": "text/x-python",
   "name": "python",
   "nbconvert_exporter": "python",
   "pygments_lexer": "ipython3",
   "version": "3.9.7"
  },
  "orig_nbformat": 4
 },
 "nbformat": 4,
 "nbformat_minor": 2
}
