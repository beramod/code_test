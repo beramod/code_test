{
 "cells": [
  {
   "cell_type": "markdown",
   "metadata": {},
   "source": [
    "* https://programmers.co.kr/learn/courses/30/lessons/49191\n",
    "\n",
    "```\n",
    "문제 설명\n",
    "n명의 권투선수가 권투 대회에 참여했고 각각 1번부터 n번까지 번호를 받았습니다. 권투 경기는 1대1 방식으로 진행이 되고, 만약 A 선수가 B 선수보다 실력이 좋다면 A 선수는 B 선수를 항상 이깁니다. 심판은 주어진 경기 결과를 가지고 선수들의 순위를 매기려 합니다. 하지만 몇몇 경기 결과를 분실하여 정확하게 순위를 매길 수 없습니다.\n",
    "\n",
    "선수의 수 n, 경기 결과를 담은 2차원 배열 results가 매개변수로 주어질 때 정확하게 순위를 매길 수 있는 선수의 수를 return 하도록 solution 함수를 작성해주세요.\n",
    "\n",
    "제한사항\n",
    "선수의 수는 1명 이상 100명 이하입니다.\n",
    "경기 결과는 1개 이상 4,500개 이하입니다.\n",
    "results 배열 각 행 [A, B]는 A 선수가 B 선수를 이겼다는 의미입니다.\n",
    "모든 경기 결과에는 모순이 없습니다.\n",
    "입출력 예\n",
    "n\tresults\treturn\n",
    "5\t[[4, 3], [4, 2], [3, 2], [1, 2], [2, 5]]\t2\n",
    "입출력 예 설명\n",
    "2번 선수는 [1, 3, 4] 선수에게 패배했고 5번 선수에게 승리했기 때문에 4위입니다.\n",
    "5번 선수는 4위인 2번 선수에게 패배했기 때문에 5위입니다.\n",
    "```"
   ]
  },
  {
   "cell_type": "code",
   "execution_count": 19,
   "metadata": {},
   "outputs": [
    {
     "name": "stdout",
     "output_type": "stream",
     "text": [
      "{1: {'w': 1, 'l': 0}, 2: {'w': 1, 'l': 3}, 3: {'w': 1, 'l': 1}, 4: {'w': 2, 'l': 0}, 5: {'w': 0, 'l': 1}}\n",
      "[0, 0, 0, 2, 0]\n",
      "0\n"
     ]
    }
   ],
   "source": [
    "from collections import defaultdict\n",
    "\n",
    "def solution(n, results):\n",
    "    answer = 0\n",
    "    graph = defaultdict(list)\n",
    "    temp = dict(zip([i for i in range(1, n + 1)], [{'w': 0, 'l': 0} for i in range(n)]))\n",
    "    rank = [0] * n\n",
    "\n",
    "    for each in results:\n",
    "        graph[each[0]].append(each[1])\n",
    "        temp[each[0]]['w'] += 1\n",
    "        temp[each[1]]['l'] += 1\n",
    "\n",
    "    print(temp)\n",
    "\n",
    "    for id in temp:\n",
    "        if temp[id]['w'] + temp[id]['l'] == n - 1:\n",
    "            rank[n - temp[id]['w'] - 1] = id\n",
    "    \n",
    "    print(rank)\n",
    "\n",
    "    return answer\n",
    "\n",
    "data_cases = [\n",
    "    [5,\t[[4, 3], [4, 2], [3, 2], [1, 2], [2, 5]]], # 2\n",
    "]\n",
    "for data_case in data_cases:\n",
    "    print(solution(*data_case))"
   ]
  }
 ],
 "metadata": {
  "interpreter": {
   "hash": "aee8b7b246df8f9039afb4144a1f6fd8d2ca17a180786b69acc140d282b71a49"
  },
  "kernelspec": {
   "display_name": "Python 3.9.1 64-bit",
   "language": "python",
   "name": "python3"
  },
  "language_info": {
   "codemirror_mode": {
    "name": "ipython",
    "version": 3
   },
   "file_extension": ".py",
   "mimetype": "text/x-python",
   "name": "python",
   "nbconvert_exporter": "python",
   "pygments_lexer": "ipython3",
   "version": "3.9.1"
  },
  "orig_nbformat": 4
 },
 "nbformat": 4,
 "nbformat_minor": 2
}
