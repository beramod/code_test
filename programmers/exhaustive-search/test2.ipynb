{
 "cells": [
  {
   "cell_type": "markdown",
   "metadata": {},
   "source": [
    "* https://programmers.co.kr/learn/courses/30/lessons/42839\n",
    "\n",
    "```\n",
    "문제 설명\n",
    "한자리 숫자가 적힌 종이 조각이 흩어져있습니다. 흩어진 종이 조각을 붙여 소수를 몇 개 만들 수 있는지 알아내려 합니다.\n",
    "\n",
    "각 종이 조각에 적힌 숫자가 적힌 문자열 numbers가 주어졌을 때, 종이 조각으로 만들 수 있는 소수가 몇 개인지 return 하도록 solution 함수를 완성해주세요.\n",
    "\n",
    "제한사항\n",
    "numbers는 길이 1 이상 7 이하인 문자열입니다.\n",
    "numbers는 0~9까지 숫자만으로 이루어져 있습니다.\n",
    "\"013\"은 0, 1, 3 숫자가 적힌 종이 조각이 흩어져있다는 의미입니다.\n",
    "입출력 예\n",
    "numbers\treturn\n",
    "\"17\"\t3\n",
    "\"011\"\t2\n",
    "입출력 예 설명\n",
    "예제 #1\n",
    "[1, 7]으로는 소수 [7, 17, 71]를 만들 수 있습니다.\n",
    "\n",
    "예제 #2\n",
    "[0, 1, 1]으로는 소수 [11, 101]를 만들 수 있습니다.\n",
    "\n",
    "11과 011은 같은 숫자로 취급합니다.\n",
    "```"
   ]
  },
  {
   "cell_type": "code",
   "execution_count": null,
   "metadata": {},
   "outputs": [],
   "source": [
    "def solution(numbers):\n",
    "    answer = 0\n",
    "    return answer\n",
    "\n",
    "data_cases = [\n",
    "    \"17\",\n",
    "    \"011\"\n",
    "]\n",
    "for data_case in data_cases:\n",
    "    print(solution(data_case))"
   ]
  }
 ],
 "metadata": {
  "language_info": {
   "name": "python"
  },
  "orig_nbformat": 4
 },
 "nbformat": 4,
 "nbformat_minor": 2
}
