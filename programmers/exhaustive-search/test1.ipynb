{
 "cells": [
  {
   "cell_type": "markdown",
   "metadata": {},
   "source": [
    "* https://programmers.co.kr/learn/courses/30/lessons/42840\n",
    "\n",
    "```\n",
    "문제 설명\n",
    "수포자는 수학을 포기한 사람의 준말입니다. 수포자 삼인방은 모의고사에 수학 문제를 전부 찍으려 합니다. 수포자는 1번 문제부터 마지막 문제까지 다음과 같이 찍습니다.\n",
    "\n",
    "1번 수포자가 찍는 방식: 1, 2, 3, 4, 5, 1, 2, 3, 4, 5, ...\n",
    "2번 수포자가 찍는 방식: 2, 1, 2, 3, 2, 4, 2, 5, 2, 1, 2, 3, 2, 4, 2, 5, ...\n",
    "3번 수포자가 찍는 방식: 3, 3, 1, 1, 2, 2, 4, 4, 5, 5, 3, 3, 1, 1, 2, 2, 4, 4, 5, 5, ...\n",
    "\n",
    "1번 문제부터 마지막 문제까지의 정답이 순서대로 들은 배열 answers가 주어졌을 때, 가장 많은 문제를 맞힌 사람이 누구인지 배열에 담아 return 하도록 solution 함수를 작성해주세요.\n",
    "\n",
    "제한 조건\n",
    "시험은 최대 10,000 문제로 구성되어있습니다.\n",
    "문제의 정답은 1, 2, 3, 4, 5중 하나입니다.\n",
    "가장 높은 점수를 받은 사람이 여럿일 경우, return하는 값을 오름차순 정렬해주세요.\n",
    "입출력 예\n",
    "answers\treturn\n",
    "[1,2,3,4,5]\t[1]\n",
    "[1,3,2,4,2]\t[1,2,3]\n",
    "입출력 예 설명\n",
    "입출력 예 #1\n",
    "\n",
    "수포자 1은 모든 문제를 맞혔습니다.\n",
    "수포자 2는 모든 문제를 틀렸습니다.\n",
    "수포자 3은 모든 문제를 틀렸습니다.\n",
    "따라서 가장 문제를 많이 맞힌 사람은 수포자 1입니다.\n",
    "\n",
    "입출력 예 #2\n",
    "\n",
    "모든 사람이 2문제씩을 맞췄습니다.\n",
    "```\n",
    "\n",
    "### 풀이\n",
    "- 찍는 방식을 배열에 저장\n",
    "- answers를 순회하며 module를 이용해 답과 비교\n",
    "- 가장 큰 점수를 가진 사람을 찾는데, 동점인 경우를 고려한다."
   ]
  },
  {
   "cell_type": "code",
   "execution_count": 4,
   "metadata": {},
   "outputs": [
    {
     "name": "stdout",
     "output_type": "stream",
     "text": [
      "[1]\n",
      "[1, 2, 3]\n",
      "[1, 2, 3]\n"
     ]
    }
   ],
   "source": [
    "def solution(answers):\n",
    "    answer = []\n",
    "    solutions = [\n",
    "        [1, 2, 3, 4, 5],\n",
    "        [2, 1, 2, 3, 2, 4, 2, 5],\n",
    "        [3, 3, 1, 1, 2, 2, 4, 4, 5, 5]\n",
    "    ]\n",
    "    \n",
    "    scores = [0, 0, 0]\n",
    "    \n",
    "    for idx in range(len(answers)):\n",
    "        if answers[idx] == solutions[0][idx % 5]:\n",
    "            scores[0] += 1\n",
    "        if answers[idx] == solutions[1][idx % 8]:\n",
    "            scores[1] += 1\n",
    "        if answers[idx] == solutions[2][idx % 10]:\n",
    "            scores[2] += 1\n",
    "\n",
    "    max_score = max(scores)\n",
    "    \n",
    "    for idx, val in enumerate(scores):\n",
    "        if val == max_score:\n",
    "            answer.append(idx + 1)\n",
    "        \n",
    "    return answer\n",
    "\n",
    "data_cases = [\n",
    "    [1,2,3,4,5],\n",
    "    [1,3,2,4,2],\n",
    "    [1, 1, 1]\n",
    "]\n",
    "for data_case in data_cases:\n",
    "    print(solution(data_case))"
   ]
  },
  {
   "cell_type": "code",
   "execution_count": null,
   "metadata": {},
   "outputs": [],
   "source": [
    "def solution(answers):\n",
    "    answer = []\n",
    "    solutions = [\n",
    "        (5, [1, 2, 3, 4, 5]),\n",
    "        (8, [2, 1, 2, 3, 2, 4, 2, 5]),\n",
    "        (10, [3, 3, 1, 1, 2, 2, 4, 4, 5, 5])\n",
    "    ]\n",
    "    \n",
    "    scores = [0, 0, 0]\n",
    "    \n",
    "    for idx in range(len(answers)):\n",
    "        for s in range(3):\n",
    "            if answers[idx] == solutions[s][1][idx % solutions[s][0]]:\n",
    "                scores[s] += 1\n",
    "\n",
    "    max_score = max(scores)\n",
    "    \n",
    "    for idx, val in enumerate(scores):\n",
    "        if val == max_score:\n",
    "            answer.append(idx + 1)\n",
    "        \n",
    "    return answer\n",
    "\n",
    "data_cases = [\n",
    "    [1,2,3,4,5],\n",
    "    [1,3,2,4,2],\n",
    "    [1, 1, 1]\n",
    "]\n",
    "for data_case in data_cases:\n",
    "    print(solution(data_case))"
   ]
  }
 ],
 "metadata": {
  "interpreter": {
   "hash": "aee8b7b246df8f9039afb4144a1f6fd8d2ca17a180786b69acc140d282b71a49"
  },
  "kernelspec": {
   "display_name": "Python 3.9.1 64-bit",
   "language": "python",
   "name": "python3"
  },
  "language_info": {
   "codemirror_mode": {
    "name": "ipython",
    "version": 3
   },
   "file_extension": ".py",
   "mimetype": "text/x-python",
   "name": "python",
   "nbconvert_exporter": "python",
   "pygments_lexer": "ipython3",
   "version": "3.9.7"
  },
  "orig_nbformat": 4
 },
 "nbformat": 4,
 "nbformat_minor": 2
}
