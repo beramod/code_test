{
 "cells": [
  {
   "cell_type": "markdown",
   "metadata": {},
   "source": [
    "* https://programmers.co.kr/learn/courses/30/lessons/43162\n",
    "\n",
    "```\n",
    "문제 설명\n",
    "네트워크란 컴퓨터 상호 간에 정보를 교환할 수 있도록 연결된 형태를 의미합니다. 예를 들어, 컴퓨터 A와 컴퓨터 B가 직접적으로 연결되어있고, 컴퓨터 B와 컴퓨터 C가 직접적으로 연결되어 있을 때 컴퓨터 A와 컴퓨터 C도 간접적으로 연결되어 정보를 교환할 수 있습니다. 따라서 컴퓨터 A, B, C는 모두 같은 네트워크 상에 있다고 할 수 있습니다.\n",
    "\n",
    "컴퓨터의 개수 n, 연결에 대한 정보가 담긴 2차원 배열 computers가 매개변수로 주어질 때, 네트워크의 개수를 return 하도록 solution 함수를 작성하시오.\n",
    "\n",
    "제한사항\n",
    "컴퓨터의 개수 n은 1 이상 200 이하인 자연수입니다.\n",
    "각 컴퓨터는 0부터 n-1인 정수로 표현합니다.\n",
    "i번 컴퓨터와 j번 컴퓨터가 연결되어 있으면 computers[i][j]를 1로 표현합니다.\n",
    "computer[i][i]는 항상 1입니다.\n",
    "입출력 예\n",
    "n\tcomputers\treturn\n",
    "3\t[[1, 1, 0], [1, 1, 0], [0, 0, 1]]\t2\n",
    "3\t[[1, 1, 0], [1, 1, 1], [0, 1, 1]]\t1\n",
    "입출력 예 설명\n",
    "예제 #1\n",
    "아래와 같이 2개의 네트워크가 있습니다.\n",
    "image0.png\n",
    "\n",
    "예제 #2\n",
    "아래와 같이 1개의 네트워크가 있습니다.\n",
    "image1.png\n",
    "```"
   ]
  },
  {
   "cell_type": "code",
   "execution_count": null,
   "metadata": {},
   "outputs": [],
   "source": [
    "def solution(n, computers):\n",
    "    answer = 0\n",
    "    return answer\n",
    "\n",
    "data_cases = [\n",
    "    [3,\t[[1, 1, 0], [1, 1, 0], [0, 0, 1]]], # 2\n",
    "    [3,\t[[1, 1, 0], [1, 1, 1], [0, 1, 1]]], # 1\n",
    "]\n",
    "\n",
    "for data_case in data_cases:\n",
    "    print(solution(*data_case))"
   ]
  }
 ],
 "metadata": {
  "language_info": {
   "name": "python"
  },
  "orig_nbformat": 4
 },
 "nbformat": 4,
 "nbformat_minor": 2
}
