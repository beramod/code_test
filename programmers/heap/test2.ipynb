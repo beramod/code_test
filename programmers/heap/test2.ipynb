{
 "cells": [
  {
   "cell_type": "markdown",
   "metadata": {},
   "source": [
    "* https://programmers.co.kr/learn/courses/30/lessons/42627\n",
    "\n",
    "```\n",
    "문제 설명\n",
    "하드디스크는 한 번에 하나의 작업만 수행할 수 있습니다. 디스크 컨트롤러를 구현하는 방법은 여러 가지가 있습니다. 가장 일반적인 방법은 요청이 들어온 순서대로 처리하는 것입니다.\n",
    "\n",
    "예를들어\n",
    "\n",
    "- 0ms 시점에 3ms가 소요되는 A작업 요청\n",
    "- 1ms 시점에 9ms가 소요되는 B작업 요청\n",
    "- 2ms 시점에 6ms가 소요되는 C작업 요청\n",
    "와 같은 요청이 들어왔습니다. 이를 그림으로 표현하면 아래와 같습니다.\n",
    "Screen Shot 2018-09-13 at 6.34.58 PM.png\n",
    "\n",
    "한 번에 하나의 요청만을 수행할 수 있기 때문에 각각의 작업을 요청받은 순서대로 처리하면 다음과 같이 처리 됩니다.\n",
    "Screen Shot 2018-09-13 at 6.38.52 PM.png\n",
    "\n",
    "- A: 3ms 시점에 작업 완료 (요청에서 종료까지 : 3ms)\n",
    "- B: 1ms부터 대기하다가, 3ms 시점에 작업을 시작해서 12ms 시점에 작업 완료(요청에서 종료까지 : 11ms)\n",
    "- C: 2ms부터 대기하다가, 12ms 시점에 작업을 시작해서 18ms 시점에 작업 완료(요청에서 종료까지 : 16ms)\n",
    "이 때 각 작업의 요청부터 종료까지 걸린 시간의 평균은 10ms(= (3 + 11 + 16) / 3)가 됩니다.\n",
    "\n",
    "하지만 A → C → B 순서대로 처리하면\n",
    "Screen Shot 2018-09-13 at 6.41.42 PM.png\n",
    "\n",
    "- A: 3ms 시점에 작업 완료(요청에서 종료까지 : 3ms)\n",
    "- C: 2ms부터 대기하다가, 3ms 시점에 작업을 시작해서 9ms 시점에 작업 완료(요청에서 종료까지 : 7ms)\n",
    "- B: 1ms부터 대기하다가, 9ms 시점에 작업을 시작해서 18ms 시점에 작업 완료(요청에서 종료까지 : 17ms)\n",
    "이렇게 A → C → B의 순서로 처리하면 각 작업의 요청부터 종료까지 걸린 시간의 평균은 9ms(= (3 + 7 + 17) / 3)가 됩니다.\n",
    "\n",
    "각 작업에 대해 [작업이 요청되는 시점, 작업의 소요시간]을 담은 2차원 배열 jobs가 매개변수로 주어질 때, 작업의 요청부터 종료까지 걸린 시간의 평균을 가장 줄이는 방법으로 처리하면 평균이 얼마가 되는지 return 하도록 solution 함수를 작성해주세요. (단, 소수점 이하의 수는 버립니다)\n",
    "\n",
    "제한 사항\n",
    "jobs의 길이는 1 이상 500 이하입니다.\n",
    "jobs의 각 행은 하나의 작업에 대한 [작업이 요청되는 시점, 작업의 소요시간] 입니다.\n",
    "각 작업에 대해 작업이 요청되는 시간은 0 이상 1,000 이하입니다.\n",
    "각 작업에 대해 작업의 소요시간은 1 이상 1,000 이하입니다.\n",
    "하드디스크가 작업을 수행하고 있지 않을 때에는 먼저 요청이 들어온 작업부터 처리합니다.\n",
    "입출력 예\n",
    "jobs\treturn\n",
    "[[0, 3], [1, 9], [2, 6]]\t9\n",
    "입출력 예 설명\n",
    "문제에 주어진 예와 같습니다.\n",
    "\n",
    "0ms 시점에 3ms 걸리는 작업 요청이 들어옵니다.\n",
    "1ms 시점에 9ms 걸리는 작업 요청이 들어옵니다.\n",
    "2ms 시점에 6ms 걸리는 작업 요청이 들어옵니다.\n",
    "```"
   ]
  },
  {
   "cell_type": "code",
   "execution_count": 66,
   "metadata": {},
   "outputs": [
    {
     "name": "stdout",
     "output_type": "stream",
     "text": [
      "6\n"
     ]
    }
   ],
   "source": [
    "def solution(jobs):\n",
    "    jobs.sort(key=lambda el: (el[0], el[1]))\n",
    "    time = 0\n",
    "    times = []\n",
    "    \n",
    "    while jobs:\n",
    "        next_job = None\n",
    "        for job in jobs:\n",
    "            if time < job[0]:\n",
    "                break\n",
    "            if not next_job:\n",
    "                next_job = job\n",
    "            elif next_job[1] > job[1]:\n",
    "                next_job = job\n",
    "        if not next_job:\n",
    "            time += jobs[0][0] - time\n",
    "            continue\n",
    "        times.append(next_job[1] + time - next_job[0])\n",
    "        time += next_job[1]\n",
    "        jobs.remove(next_job)\n",
    "    \n",
    "    return int(sum(times) / len(times))\n",
    "\n",
    "data_cases = [\n",
    "    [[0, 5], [1, 2], [5, 5]]\n",
    "]\n",
    "for data_case in data_cases:\n",
    "    print(solution(data_case))"
   ]
  },
  {
   "cell_type": "markdown",
   "metadata": {},
   "source": [
    "### 풀이에 대한 간단 설명\n",
    "* jobs를 들어온 시점 기준, 들어온 시점이 동일하다면 실행 시간 기준 오름차순으로 정렬한다.\n",
    "* 그다음 greedy 방식으로 어떤 작업을 먼저 실행시킬 것인가 순차적으로 결정한다.\n",
    "* 우선순위를 정할 때 결국엔 실행시간만 비교하면 된다.\n",
    "  * j1, j2를 비교할 때, j1, j2 순서로 실행한 경우와 j2, j1 순서로 실행한 경우를 비교해야 하는데 식을 세워보면 결국엔 실행시간 비교만 남게된다."
   ]
  }
 ],
 "metadata": {
  "interpreter": {
   "hash": "f9ccdf3afa3dc3e101816fbeb38d5182e8e63e68ddc1acefd7abf85a12f12e7d"
  },
  "kernelspec": {
   "display_name": "Python 3.9.7 64-bit",
   "language": "python",
   "name": "python3"
  },
  "language_info": {
   "codemirror_mode": {
    "name": "ipython",
    "version": 3
   },
   "file_extension": ".py",
   "mimetype": "text/x-python",
   "name": "python",
   "nbconvert_exporter": "python",
   "pygments_lexer": "ipython3",
   "version": "3.9.7"
  },
  "orig_nbformat": 4
 },
 "nbformat": 4,
 "nbformat_minor": 2
}
