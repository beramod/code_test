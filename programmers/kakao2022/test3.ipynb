{
 "cells": [
  {
   "cell_type": "code",
   "execution_count": 68,
   "metadata": {},
   "outputs": [
    {
     "name": "stdout",
     "output_type": "stream",
     "text": [
      "[Result] Solved: 0, Failed: 0\n"
     ]
    }
   ],
   "source": [
    "def solution(n, info):\n",
    "    max_diff = 0\n",
    "    answer = []\n",
    "    boards = []\n",
    "    info = info[::-1]\n",
    "    apichy_score = 0\n",
    "    for i in range(11):\n",
    "        if info[i] > 0:\n",
    "            apichy_score += i\n",
    "    stack = [(-1, [0 for i in range(11)], n, 0, apichy_score)]\n",
    "\n",
    "    while stack:\n",
    "        idx, board, remain, score, apichy_score = stack.pop()\n",
    "        if idx == 10 or remain == 0:\n",
    "            board[0] = remain\n",
    "            if score > apichy_score and max_diff <= (score - apichy_score):\n",
    "                max_diff = score - apichy_score\n",
    "                boards.append((max_diff, board))\n",
    "            continue\n",
    "        target = info[idx + 1]\n",
    "        if target < remain:\n",
    "            temp = board[:]\n",
    "            temp[idx + 1] = target + 1\n",
    "            a_score = apichy_score\n",
    "            if target:\n",
    "                a_score -= idx + 1\n",
    "            stack.append((idx + 1, temp, remain - (target + 1), score + idx + 1, a_score))\n",
    "        stack.append((idx + 1, board[:], remain, score, apichy_score))\n",
    "    if len(boards) == 0:\n",
    "        return [-1]\n",
    "    answer = list(reversed(max(boards)[1]))\n",
    "    return answer\n",
    "    \n",
    "import sys\n",
    "path = sys.path[0]\n",
    "path = path[:path.index('code_test') + 9]\n",
    "if path not in sys.path:\n",
    "    sys.path.append(path)\n",
    "from util.code_test_util import CodeTestUtil\n",
    "code_test_util = CodeTestUtil()\n",
    "code_test_util.set_multi_args(True)\n",
    "code_test_util.solution = solution\n",
    "code_test_util.add_data_case([5, [2, 1, 1, 1, 0, 0, 0, 0, 0, 0, 0]], [0, 2, 2, 0, 1, 0, 0, 0, 0, 0, 0])\n",
    "code_test_util.add_data_case([10, [0, 0, 0, 0, 0, 0, 0, 0, 3, 4, 3]], [1, 1, 1, 1, 1, 1, 1, 1, 0, 0, 2])\n",
    "code_test_util.add_data_case([10, [1, 0, 5, 1, 5, 5, 5, 1, 2, 0, 0]], [2, 1, 0, 2, 0, 0, 0, 2, 3, 0, 0])\n",
    "code_test_util.add_data_case([10, [8, 0, 0, 0, 0, 0, 0, 0, 0, 0, 0]], [9, 0, 0, 0, 0, 0, 0, 0, 1, 0, 0])\n",
    "code_test_util.run()\n"
   ]
  },
  {
   "cell_type": "code",
   "execution_count": 69,
   "metadata": {},
   "outputs": [],
   "source": [
    "def get_win(info, board):\n",
    "    apichy = 0\n",
    "    lion = 0\n",
    "    for i in range(11):\n",
    "        if not info[i] and not board[i]:\n",
    "            continue\n",
    "        if info[i] >= board[i]:\n",
    "            apichy += i\n",
    "        else:\n",
    "            lion += i\n",
    "    return (lion > apichy), lion\n",
    "    \n",
    "def solution(n, info):\n",
    "    max_score = 0\n",
    "    answer = []\n",
    "    boards = []\n",
    "    info = info[::-1]\n",
    "    stack = [(-1, [0 for i in range(11)], n)]\n",
    "    \n",
    "    while stack:\n",
    "        idx, board, remain = stack.pop()\n",
    "        if idx == 10 or remain == 0:\n",
    "            board[0] = remain\n",
    "            win, score = get_win(info, board)\n",
    "            if win and max_score <= score:\n",
    "                max_score = score\n",
    "                boards.append((score, board))\n",
    "            continue\n",
    "        target = info[idx + 1]\n",
    "        if target < remain:\n",
    "            temp = board[:]\n",
    "            temp[idx + 1] = target + 1\n",
    "            stack.append((idx + 1, temp, remain - (target + 1)))\n",
    "        stack.append((idx + 1, board[:], remain))\n",
    "    if len(boards) == 0:\n",
    "        return [-1]\n",
    "    answer = list(reversed(max(boards)[1]))\n",
    "    return answer"
   ]
  }
 ],
 "metadata": {
  "interpreter": {
   "hash": "aee8b7b246df8f9039afb4144a1f6fd8d2ca17a180786b69acc140d282b71a49"
  },
  "kernelspec": {
   "display_name": "Python 3.9.1 64-bit",
   "language": "python",
   "name": "python3"
  },
  "language_info": {
   "codemirror_mode": {
    "name": "ipython",
    "version": 3
   },
   "file_extension": ".py",
   "mimetype": "text/x-python",
   "name": "python",
   "nbconvert_exporter": "python",
   "pygments_lexer": "ipython3",
   "version": "3.9.1"
  },
  "orig_nbformat": 4
 },
 "nbformat": 4,
 "nbformat_minor": 2
}
