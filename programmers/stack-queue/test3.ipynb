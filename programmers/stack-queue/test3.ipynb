{
 "cells": [
  {
   "cell_type": "code",
   "execution_count": 15,
   "metadata": {
    "collapsed": true,
    "pycharm": {
     "name": "#%%\n"
    }
   },
   "outputs": [
    {
     "name": "stdout",
     "output_type": "stream",
     "text": [
      "8\n",
      "101\n",
      "110\n"
     ]
    }
   ],
   "source": [
    "def solution(bridge_length, weight, truck_weights):\n",
    "    from collections import deque\n",
    "    sec = 0\n",
    "    bridge = deque(maxlen = bridge_length)\n",
    "    bridge_weight = 0\n",
    "\n",
    "    while len(truck_weights) > 0 or bridge_weight > 0:\n",
    "        if len(bridge) >= bridge_length:\n",
    "            bridge_weight -= bridge.pop()\n",
    "        if len(truck_weights) > 0 and (bridge_weight + truck_weights[0] <= weight):\n",
    "            truck = truck_weights.pop(0)\n",
    "            bridge_weight += truck\n",
    "            bridge.appendleft(truck)\n",
    "        else:\n",
    "            bridge.appendleft(0)\n",
    "        sec += 1\n",
    "\n",
    "    return sec\n",
    "\n",
    "data_cases = [\n",
    "    [2, 10,\t[7, 4, 5, 6]],\n",
    "    [100, 100, [10]],\n",
    "    [100, 100, [10, 10, 10, 10, 10, 10, 10, 10, 10, 10]]\n",
    "]\n",
    "\n",
    "for data_case in data_cases:\n",
    "    print(solution(*data_case))"
   ]
  },
  {
   "cell_type": "code",
   "execution_count": null,
   "outputs": [],
   "source": [],
   "metadata": {
    "collapsed": false,
    "pycharm": {
     "name": "#%%\n"
    }
   }
  },
  {
   "cell_type": "code",
   "execution_count": null,
   "outputs": [],
   "source": [],
   "metadata": {
    "collapsed": false,
    "pycharm": {
     "name": "#%%\n"
    }
   }
  },
  {
   "cell_type": "code",
   "execution_count": null,
   "outputs": [],
   "source": [],
   "metadata": {
    "collapsed": false,
    "pycharm": {
     "name": "#%%\n"
    }
   }
  }
 ],
 "metadata": {
  "kernelspec": {
   "name": "python3",
   "language": "python",
   "display_name": "Python 3"
  },
  "language_info": {
   "codemirror_mode": {
    "name": "ipython",
    "version": 2
   },
   "file_extension": ".py",
   "mimetype": "text/x-python",
   "name": "python",
   "nbconvert_exporter": "python",
   "pygments_lexer": "ipython2",
   "version": "2.7.6"
  }
 },
 "nbformat": 4,
 "nbformat_minor": 0
}