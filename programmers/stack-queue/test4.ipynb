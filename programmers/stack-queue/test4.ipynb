{
 "cells": [
  {
   "cell_type": "code",
   "execution_count": 11,
   "metadata": {
    "collapsed": true,
    "pycharm": {
     "name": "#%%\n"
    }
   },
   "outputs": [
    {
     "name": "stdout",
     "output_type": "stream",
     "text": [
      "[4, 3, 1, 1, 0]\n"
     ]
    }
   ],
   "source": [
    "def solution(prices):\n",
    "    answer = []\n",
    "    arr = list(zip(prices, [i for i in range(len(prices))]))\n",
    "    while arr:\n",
    "        obj = arr.pop(0)\n",
    "        lower_obj = None\n",
    "        for each in arr:\n",
    "            if obj[0] > each[0]:\n",
    "                lower_obj = each\n",
    "                break\n",
    "        if not lower_obj:\n",
    "            answer.append(len(prices) - obj[1] - 1)\n",
    "        else:\n",
    "            answer.append(lower_obj[1] - obj[1])\n",
    "    return answer\n",
    "\n",
    "data_cases = [\n",
    "    [1, 2, 3, 2, 3]\n",
    "]\n",
    "\n",
    "for data_case in data_cases:\n",
    "    print(solution(data_case))"
   ]
  },
  {
   "cell_type": "code",
   "execution_count": null,
   "outputs": [],
   "source": [],
   "metadata": {
    "collapsed": false,
    "pycharm": {
     "name": "#%%\n"
    }
   }
  },
  {
   "cell_type": "code",
   "execution_count": null,
   "outputs": [],
   "source": [],
   "metadata": {
    "collapsed": false,
    "pycharm": {
     "name": "#%%\n"
    }
   }
  }
 ],
 "metadata": {
  "kernelspec": {
   "name": "python3",
   "language": "python",
   "display_name": "Python 3"
  },
  "language_info": {
   "codemirror_mode": {
    "name": "ipython",
    "version": 2
   },
   "file_extension": ".py",
   "mimetype": "text/x-python",
   "name": "python",
   "nbconvert_exporter": "python",
   "pygments_lexer": "ipython2",
   "version": "2.7.6"
  }
 },
 "nbformat": 4,
 "nbformat_minor": 0
}