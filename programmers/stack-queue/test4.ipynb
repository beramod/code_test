{
 "cells": [
  {
   "cell_type": "markdown",
   "metadata": {},
   "source": [
    "* https://programmers.co.kr/learn/courses/30/lessons/42584\n",
    "\n",
    "```\n",
    "문제 설명\n",
    "초 단위로 기록된 주식가격이 담긴 배열 prices가 매개변수로 주어질 때, 가격이 떨어지지 않은 기간은 몇 초인지를 return 하도록 solution 함수를 완성하세요.\n",
    "\n",
    "제한사항\n",
    "prices의 각 가격은 1 이상 10,000 이하인 자연수입니다.\n",
    "prices의 길이는 2 이상 100,000 이하입니다.\n",
    "입출력 예\n",
    "prices\treturn\n",
    "[1, 2, 3, 2, 3]\t[4, 3, 1, 1, 0]\n",
    "입출력 예 설명\n",
    "1초 시점의 ₩1은 끝까지 가격이 떨어지지 않았습니다.\n",
    "2초 시점의 ₩2은 끝까지 가격이 떨어지지 않았습니다.\n",
    "3초 시점의 ₩3은 1초뒤에 가격이 떨어집니다. 따라서 1초간 가격이 떨어지지 않은 것으로 봅니다.\n",
    "4초 시점의 ₩2은 1초간 가격이 떨어지지 않았습니다.\n",
    "5초 시점의 ₩3은 0초간 가격이 떨어지지 않았습니다.\n",
    "```"
   ]
  },
  {
   "cell_type": "code",
   "execution_count": 1,
   "metadata": {
    "collapsed": true,
    "pycharm": {
     "name": "#%%\n"
    }
   },
   "outputs": [
    {
     "name": "stdout",
     "output_type": "stream",
     "text": [
      "[4, 3, 1, 1, 0]\n",
      "[12, 5, 4, 3, 2, 1, 6, 5, 2, 1, 2, 1, 0]\n"
     ]
    }
   ],
   "source": [
    "\"\"\"\n",
    "list.pop(): O(1)\n",
    "list.pop(n): O(n) !!!\n",
    "deque.popleft, popright: O(1) !!!!!\n",
    "\"\"\"\n",
    "\n",
    "def solution(prices):\n",
    "    from collections import deque\n",
    "    answer = []\n",
    "    queue = deque(list(zip(prices, [i for i in range(len(prices))])))\n",
    "    while queue:\n",
    "        obj = queue.popleft()\n",
    "        lower_obj = None\n",
    "        for each in queue:\n",
    "            if obj[0] > each[0]:\n",
    "                lower_obj = each\n",
    "                break\n",
    "        if not lower_obj:\n",
    "            answer.append(len(prices) - obj[1] - 1)\n",
    "        else:\n",
    "            answer.append(lower_obj[1] - obj[1])\n",
    "    return answer\n",
    "\n",
    "data_cases = [\n",
    "    [1, 2, 3, 2, 3],\n",
    "    [1, 2, 3, 4, 5, 6, 1, 1, 2, 3, 1, 2, 3]\n",
    "]\n",
    "\n",
    "for data_case in data_cases:\n",
    "    print(solution(data_case))"
   ]
  }
 ],
 "metadata": {
  "kernelspec": {
   "display_name": "Python 3",
   "language": "python",
   "name": "python3"
  },
  "language_info": {
   "codemirror_mode": {
    "name": "ipython",
    "version": 3
   },
   "file_extension": ".py",
   "mimetype": "text/x-python",
   "name": "python",
   "nbconvert_exporter": "python",
   "pygments_lexer": "ipython3",
   "version": "3.9.7"
  }
 },
 "nbformat": 4,
 "nbformat_minor": 0
}
