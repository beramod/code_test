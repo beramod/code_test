{
 "cells": [
  {
   "cell_type": "code",
   "execution_count": 1,
   "metadata": {
    "collapsed": true,
    "pycharm": {
     "name": "#%%\n"
    }
   },
   "outputs": [
    {
     "name": "stdout",
     "output_type": "stream",
     "text": [
      "[2, 1]\n",
      "[1, 3, 2]\n"
     ]
    }
   ],
   "source": [
    "def solution(progresses, speeds):\n",
    "    import math\n",
    "    answer = [1]\n",
    "\n",
    "    offset_work = math.ceil((100 - progresses[0]) / speeds[0])\n",
    "\n",
    "    for p, s in zip(progresses[1:], speeds[1:]):\n",
    "        work = math.ceil((100 - p) / s)\n",
    "\n",
    "        if offset_work >= work:\n",
    "            answer[len(answer) - 1] += 1\n",
    "        else:\n",
    "            offset_work = work\n",
    "            answer.append(1)\n",
    "\n",
    "    return answer\n",
    "\n",
    "data_cases = [\n",
    "    [[93, 30, 55], [1, 30, 5]],\n",
    "    [[95, 90, 99, 99, 80, 99], [1, 1, 1, 1, 1, 1]]\n",
    "]\n",
    "for data_case in data_cases:\n",
    "    print(solution(*data_case))"
   ]
  },
  {
   "cell_type": "code",
   "execution_count": null,
   "outputs": [],
   "source": [],
   "metadata": {
    "collapsed": false,
    "pycharm": {
     "name": "#%%\n"
    }
   }
  }
 ],
 "metadata": {
  "kernelspec": {
   "name": "python3",
   "language": "python",
   "display_name": "Python 3"
  },
  "language_info": {
   "codemirror_mode": {
    "name": "ipython",
    "version": 2
   },
   "file_extension": ".py",
   "mimetype": "text/x-python",
   "name": "python",
   "nbconvert_exporter": "python",
   "pygments_lexer": "ipython2",
   "version": "2.7.6"
  }
 },
 "nbformat": 4,
 "nbformat_minor": 0
}