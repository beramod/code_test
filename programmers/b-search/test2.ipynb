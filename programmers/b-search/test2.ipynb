{
 "cells": [
  {
   "cell_type": "markdown",
   "metadata": {},
   "source": [
    "* https://programmers.co.kr/learn/courses/30/lessons/43236\n",
    "\n",
    "```\n",
    "문제 설명\n",
    "출발지점부터 distance만큼 떨어진 곳에 도착지점이 있습니다. 그리고 그사이에는 바위들이 놓여있습니다. 바위 중 몇 개를 제거하려고 합니다.\n",
    "예를 들어, 도착지점이 25만큼 떨어져 있고, 바위가 [2, 14, 11, 21, 17] 지점에 놓여있을 때 바위 2개를 제거하면 출발지점, 도착지점, 바위 간의 거리가 아래와 같습니다.\n",
    "\n",
    "제거한 바위의 위치\t각 바위 사이의 거리\t거리의 최솟값\n",
    "[21, 17]\t[2, 9, 3, 11]\t2\n",
    "[2, 21]\t[11, 3, 3, 8]\t3\n",
    "[2, 11]\t[14, 3, 4, 4]\t3\n",
    "[11, 21]\t[2, 12, 3, 8]\t2\n",
    "[2, 14]\t[11, 6, 4, 4]\t4\n",
    "위에서 구한 거리의 최솟값 중에 가장 큰 값은 4입니다.\n",
    "\n",
    "출발지점부터 도착지점까지의 거리 distance, 바위들이 있는 위치를 담은 배열 rocks, 제거할 바위의 수 n이 매개변수로 주어질 때, 바위를 n개 제거한 뒤 각 지점 사이의 거리의 최솟값 중에 가장 큰 값을 return 하도록 solution 함수를 작성해주세요.\n",
    "\n",
    "제한사항\n",
    "도착지점까지의 거리 distance는 1 이상 1,000,000,000 이하입니다.\n",
    "바위는 1개 이상 50,000개 이하가 있습니다.\n",
    "n 은 1 이상 바위의 개수 이하입니다.\n",
    "입출력 예\n",
    "distance\trocks\tn\treturn\n",
    "25\t[2, 14, 11, 21, 17]\t2\t4\n",
    "입출력 예 설명\n",
    "문제에 나온 예와 같습니다.\n",
    "```\n",
    "\n"
   ]
  },
  {
   "cell_type": "code",
   "execution_count": 12,
   "metadata": {},
   "outputs": [
    {
     "name": "stdout",
     "output_type": "stream",
     "text": [
      "5\n"
     ]
    }
   ],
   "source": [
    "def check(diffs, n, mid):\n",
    "    i = 0\n",
    "    temp = diffs[:]\n",
    "    \n",
    "    while i < len(diffs) and n:\n",
    "        if temp[i] < mid:\n",
    "            if i < len(diffs) - 1:\n",
    "                if temp[i + 1] + temp[i] > temp[i - 1] + temp[i]:\n",
    "                    temp[i + 1] = temp[i] = temp[i] + temp[i + 1]\n",
    "                else:\n",
    "                    temp[i] = temp[i - 1] = temp[i] + temp[i - 1]\n",
    "                n -= 1\n",
    "        i += 1\n",
    "        \n",
    "    for each in temp:\n",
    "        if each < mid:\n",
    "            return False\n",
    "    return True\n",
    "    \n",
    "def solution(distance, rocks, n):\n",
    "    rocks.sort()\n",
    "    diffs = [rocks[0]]\n",
    "\n",
    "    for idx in range(1, len(rocks)):\n",
    "        diffs.append(rocks[idx] - rocks[idx - 1])\n",
    "    diffs.append(distance - rocks[len(rocks) - 1])\n",
    "    \n",
    "    answer = 0\n",
    "    left = 1\n",
    "    right = distance\n",
    "    \n",
    "    while left <= right:\n",
    "        mid = (left + right) // 2\n",
    "        if check(diffs, n, mid):\n",
    "            left = mid + 1\n",
    "            answer = mid\n",
    "        else:\n",
    "            right = mid - 1\n",
    "\n",
    "    return answer\n",
    "\n",
    "data_cases = [\n",
    "    # [25, [2, 14, 11, 21, 17], 2], # 4\n",
    "    [18, [2, 8, 9, 10, 11, 12, 13], 6], # 9\n",
    "    # [16, [4, 8, 11], 2], # 8\n",
    "]\n",
    "\n",
    "for data_case in data_cases:\n",
    "    print(solution(*data_case))"
   ]
  }
 ],
 "metadata": {
  "interpreter": {
   "hash": "aee8b7b246df8f9039afb4144a1f6fd8d2ca17a180786b69acc140d282b71a49"
  },
  "kernelspec": {
   "display_name": "Python 3.9.1 64-bit",
   "language": "python",
   "name": "python3"
  },
  "language_info": {
   "codemirror_mode": {
    "name": "ipython",
    "version": 3
   },
   "file_extension": ".py",
   "mimetype": "text/x-python",
   "name": "python",
   "nbconvert_exporter": "python",
   "pygments_lexer": "ipython3",
   "version": "3.9.7"
  },
  "orig_nbformat": 4
 },
 "nbformat": 4,
 "nbformat_minor": 2
}
