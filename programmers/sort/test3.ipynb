{
 "cells": [
  {
   "cell_type": "markdown",
   "metadata": {},
   "source": [
    "* https://programmers.co.kr/learn/courses/30/lessons/42747\n",
    "\n",
    "```\n",
    "H-Index\n",
    "문제 설명\n",
    "H-Index는 과학자의 생산성과 영향력을 나타내는 지표입니다. 어느 과학자의 H-Index를 나타내는 값인 h를 구하려고 합니다. 위키백과1에 따르면, H-Index는 다음과 같이 구합니다.\n",
    "\n",
    "어떤 과학자가 발표한 논문 n편 중, h번 이상 인용된 논문이 h편 이상이고 나머지 논문이 h번 이하 인용되었다면 h의 최댓값이 이 과학자의 H-Index입니다.\n",
    "\n",
    "어떤 과학자가 발표한 논문의 인용 횟수를 담은 배열 citations가 매개변수로 주어질 때, 이 과학자의 H-Index를 return 하도록 solution 함수를 작성해주세요.\n",
    "\n",
    "제한사항\n",
    "과학자가 발표한 논문의 수는 1편 이상 1,000편 이하입니다.\n",
    "논문별 인용 횟수는 0회 이상 10,000회 이하입니다.\n",
    "입출력 예\n",
    "citations\treturn\n",
    "[3, 0, 6, 1, 5]\t3\n",
    "입출력 예 설명\n",
    "이 과학자가 발표한 논문의 수는 5편이고, 그중 3편의 논문은 3회 이상 인용되었습니다. 그리고 나머지 2편의 논문은 3회 이하 인용되었기 때문에 이 과학자의 H-Index는 3입니다.\n",
    "\n",
    "※ 공지 - 2019년 2월 28일 테스트 케이스가 추가되었습니다.\n",
    "```"
   ]
  },
  {
   "cell_type": "code",
   "execution_count": 63,
   "metadata": {},
   "outputs": [
    {
     "name": "stdout",
     "output_type": "stream",
     "text": [
      "3\n",
      "2\n",
      "0\n",
      "1\n",
      "4\n",
      "3\n"
     ]
    }
   ],
   "source": [
    "def solution(citations):\n",
    "    if citations.count(0) == len(citations):\n",
    "        return 0\n",
    "    \n",
    "    citations.sort()\n",
    "    cit_len = len(citations)\n",
    "    h = 0\n",
    "    \n",
    "    for i in range(0, cit_len):\n",
    "        if h > citations[i]:\n",
    "            if citations[i] <= cit_len - i:\n",
    "                h = citations[i]\n",
    "            else:\n",
    "                h = cit_len - i\n",
    "        elif h < citations[i]:\n",
    "            if citations[i] <= cit_len - i:\n",
    "                h = citations[i]\n",
    "            else:\n",
    "                h = max(h, cit_len - i)\n",
    "    return h\n",
    "\n",
    "data_cases = [\n",
    "    [3, 0, 6, 1, 5], \n",
    "    [3, 1, 1, 1, 4],\n",
    "    [0, 0, 0, 0, 0, 0, 0],\n",
    "    [0, 0, 0, 1],\n",
    "    [9, 9, 9, 12],\n",
    "    [1, 1, 5, 7, 6]\n",
    "]\n",
    "for data_case in data_cases:\n",
    "    print(solution(data_case))"
   ]
  }
 ],
 "metadata": {
  "interpreter": {
   "hash": "f9ccdf3afa3dc3e101816fbeb38d5182e8e63e68ddc1acefd7abf85a12f12e7d"
  },
  "kernelspec": {
   "display_name": "Python 3.9.7 64-bit",
   "language": "python",
   "name": "python3"
  },
  "language_info": {
   "codemirror_mode": {
    "name": "ipython",
    "version": 3
   },
   "file_extension": ".py",
   "mimetype": "text/x-python",
   "name": "python",
   "nbconvert_exporter": "python",
   "pygments_lexer": "ipython3",
   "version": "3.9.7"
  },
  "orig_nbformat": 4
 },
 "nbformat": 4,
 "nbformat_minor": 2
}
