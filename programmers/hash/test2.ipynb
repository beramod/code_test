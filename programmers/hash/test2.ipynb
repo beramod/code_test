{
 "cells": [
  {
   "cell_type": "markdown",
   "metadata": {},
   "source": [
    "* https://programmers.co.kr/learn/courses/30/lessons/42577\n",
    "\n",
    "```\n",
    "문제 설명\n",
    "전화번호부에 적힌 전화번호 중, 한 번호가 다른 번호의 접두어인 경우가 있는지 확인하려 합니다.\n",
    "전화번호가 다음과 같을 경우, 구조대 전화번호는 영석이의 전화번호의 접두사입니다.\n",
    "\n",
    "구조대 : 119\n",
    "박준영 : 97 674 223\n",
    "지영석 : 11 9552 4421\n",
    "전화번호부에 적힌 전화번호를 담은 배열 phone_book 이 solution 함수의 매개변수로 주어질 때, 어떤 번호가 다른 번호의 접두어인 경우가 있으면 false를 그렇지 않으면 true를 return 하도록 solution 함수를 작성해주세요.\n",
    "\n",
    "제한 사항\n",
    "phone_book의 길이는 1 이상 1,000,000 이하입니다.\n",
    "각 전화번호의 길이는 1 이상 20 이하입니다.\n",
    "같은 전화번호가 중복해서 들어있지 않습니다.\n",
    "입출력 예제\n",
    "phone_book\treturn\n",
    "[\"119\", \"97674223\", \"1195524421\"]\tfalse\n",
    "[\"123\",\"456\",\"789\"]\ttrue\n",
    "[\"12\",\"123\",\"1235\",\"567\",\"88\"]\tfalse\n",
    "입출력 예 설명\n",
    "입출력 예 #1\n",
    "앞에서 설명한 예와 같습니다.\n",
    "\n",
    "입출력 예 #2\n",
    "한 번호가 다른 번호의 접두사인 경우가 없으므로, 답은 true입니다.\n",
    "\n",
    "입출력 예 #3\n",
    "첫 번째 전화번호, “12”가 두 번째 전화번호 “123”의 접두사입니다. 따라서 답은 false입니다.\n",
    "```"
   ]
  },
  {
   "cell_type": "code",
   "execution_count": 2,
   "metadata": {
    "collapsed": true,
    "pycharm": {
     "name": "#%%\n"
    }
   },
   "outputs": [
    {
     "name": "stdout",
     "output_type": "stream",
     "text": [
      "False\n",
      "True\n",
      "False\n"
     ]
    }
   ],
   "source": [
    "def solution(phone_book):\n",
    "    answer = True\n",
    "    phone_map = {}\n",
    "    for phone_number in phone_book:\n",
    "        phone_map[phone_number] = True\n",
    "    for phone_number in phone_map:\n",
    "        for i in range(0, len(phone_number)):\n",
    "            if phone_number[0:i] in phone_map:\n",
    "                return False\n",
    "    return answer\n",
    "\n",
    "data_cases = [\n",
    "    [\"119\", \"97674223\", \"1195524421\"],\n",
    "    [\"123\",\"456\",\"789\"],\n",
    "    [\"12\",\"123\",\"1235\",\"567\",\"88\"]\n",
    "]\n",
    "\n",
    "for data_case in data_cases:\n",
    "    print(solution(data_case))"
   ]
  }
 ],
 "metadata": {
  "kernelspec": {
   "display_name": "Python 3",
   "language": "python",
   "name": "python3"
  },
  "language_info": {
   "codemirror_mode": {
    "name": "ipython",
    "version": 2
   },
   "file_extension": ".py",
   "mimetype": "text/x-python",
   "name": "python",
   "nbconvert_exporter": "python",
   "pygments_lexer": "ipython2",
   "version": "2.7.6"
  }
 },
 "nbformat": 4,
 "nbformat_minor": 0
}