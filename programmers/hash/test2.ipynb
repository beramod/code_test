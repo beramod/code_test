{
 "cells": [
  {
   "cell_type": "code",
   "execution_count": 2,
   "metadata": {
    "collapsed": true
   },
   "outputs": [
    {
     "name": "stdout",
     "output_type": "stream",
     "text": [
      "False\n",
      "True\n",
      "False\n"
     ]
    }
   ],
   "source": [
    "def solution(phone_book):\n",
    "    answer = True\n",
    "    phone_map = {}\n",
    "    for phone_number in phone_book:\n",
    "        phone_map[phone_number] = True\n",
    "    for phone_number in phone_map:\n",
    "        for i in range(0, len(phone_number)):\n",
    "            if phone_number[0:i] in phone_map:\n",
    "                return False\n",
    "    return answer\n",
    "\n",
    "data_cases = [\n",
    "    [\"119\", \"97674223\", \"1195524421\"],\n",
    "    [\"123\",\"456\",\"789\"],\n",
    "    [\"12\",\"123\",\"1235\",\"567\",\"88\"]\n",
    "]\n",
    "\n",
    "for data_case in data_cases:\n",
    "    print(solution(data_case))"
   ]
  },
  {
   "cell_type": "code",
   "execution_count": null,
   "outputs": [],
   "source": [],
   "metadata": {
    "collapsed": false,
    "pycharm": {
     "name": "#%%\n"
    }
   }
  }
 ],
 "metadata": {
  "kernelspec": {
   "name": "python3",
   "language": "python",
   "display_name": "Python 3"
  },
  "language_info": {
   "codemirror_mode": {
    "name": "ipython",
    "version": 2
   },
   "file_extension": ".py",
   "mimetype": "text/x-python",
   "name": "python",
   "nbconvert_exporter": "python",
   "pygments_lexer": "ipython2",
   "version": "2.7.6"
  }
 },
 "nbformat": 4,
 "nbformat_minor": 0
}