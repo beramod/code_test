{
 "cells": [
  {
   "cell_type": "code",
   "execution_count": 2,
   "metadata": {
    "collapsed": true,
    "pycharm": {
     "name": "#%%\n"
    }
   },
   "outputs": [
    {
     "name": "stdout",
     "output_type": "stream",
     "text": [
      "leo\n",
      "vinko\n",
      "mislav\n"
     ]
    }
   ],
   "source": [
    "def solution(participant, completion):\n",
    "    from collections import defaultdict\n",
    "    answer = ''\n",
    "    participant_map = defaultdict(int)\n",
    "    for name in participant:\n",
    "        participant_map[name] += 1\n",
    "    for name in completion:\n",
    "        participant_map[name] -= 1\n",
    "    for name in participant_map:\n",
    "        if participant_map.get(name) > 0:\n",
    "            answer = name\n",
    "            break\n",
    "    return answer\n",
    "\n",
    "data_cases = [\n",
    "    [[\"leo\", \"kiki\", \"eden\"], [\"eden\", \"kiki\"]],\n",
    "    [[\"marina\", \"josipa\", \"nikola\", \"vinko\", \"filipa\"], [\"josipa\", \"filipa\", \"marina\", \"nikola\"]],\n",
    "    [[\"mislav\", \"stanko\", \"mislav\", \"ana\"], [\"stanko\", \"ana\", \"mislav\"]]\n",
    "]\n",
    "for data_case in data_cases:\n",
    "    print(solution(*data_case))"
   ]
  }
 ],
 "metadata": {
  "kernelspec": {
   "name": "python3",
   "language": "python",
   "display_name": "Python 3"
  },
  "language_info": {
   "codemirror_mode": {
    "name": "ipython",
    "version": 2
   },
   "file_extension": ".py",
   "mimetype": "text/x-python",
   "name": "python",
   "nbconvert_exporter": "python",
   "pygments_lexer": "ipython2",
   "version": "2.7.6"
  }
 },
 "nbformat": 4,
 "nbformat_minor": 0
}