{
 "cells": [
  {
   "cell_type": "code",
   "execution_count": 1,
   "metadata": {
    "collapsed": true
   },
   "outputs": [
    {
     "name": "stdout",
     "output_type": "stream",
     "text": [
      "[4, 1, 3, 0]\n"
     ]
    }
   ],
   "source": [
    "def solution(genres, plays):\n",
    "    answer = []\n",
    "    genre_map = {}\n",
    "\n",
    "    for genre in list(set(genres)):\n",
    "        genre_map[genre] = {'total': 0, 'objs': []}\n",
    "\n",
    "    for idx, obj in enumerate(zip([i for i in range(len(genres))], genres, plays)):\n",
    "        genre_map[obj[1]]['total'] += obj[2]\n",
    "        genre_map[obj[1]]['objs'].append(obj)\n",
    "\n",
    "    genre_list = list(map(lambda genre: (genre, genre_map.get(genre).get('total')), genre_map.keys()))\n",
    "    genre_list.sort(key = lambda el: el[1], reverse = True)\n",
    "\n",
    "    for genre in genre_list:\n",
    "        genre_map.get(genre[0]).get('objs').sort(key=lambda el: (-el[2], el[0]))\n",
    "        answer.extend(list(map(lambda el: el[0], genre_map.get(genre[0]).get('objs')[:2])))\n",
    "    return answer\n",
    "\n",
    "data_cases = [\n",
    "    [[\"classic\", \"pop\", \"classic\", \"classic\", \"pop\"], [500, 600, 150, 800, 2500]]\n",
    "]\n",
    "\n",
    "for data_case in data_cases:\n",
    "    print(solution(*data_case))"
   ]
  },
  {
   "cell_type": "code",
   "execution_count": null,
   "outputs": [],
   "source": [],
   "metadata": {
    "collapsed": false,
    "pycharm": {
     "name": "#%%\n"
    }
   }
  },
  {
   "cell_type": "code",
   "execution_count": null,
   "outputs": [],
   "source": [],
   "metadata": {
    "collapsed": false,
    "pycharm": {
     "name": "#%%\n"
    }
   }
  }
 ],
 "metadata": {
  "kernelspec": {
   "name": "python3",
   "language": "python",
   "display_name": "Python 3"
  },
  "language_info": {
   "codemirror_mode": {
    "name": "ipython",
    "version": 2
   },
   "file_extension": ".py",
   "mimetype": "text/x-python",
   "name": "python",
   "nbconvert_exporter": "python",
   "pygments_lexer": "ipython2",
   "version": "2.7.6"
  }
 },
 "nbformat": 4,
 "nbformat_minor": 0
}